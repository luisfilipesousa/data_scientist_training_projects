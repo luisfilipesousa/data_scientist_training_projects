{
  "nbformat": 4,
  "nbformat_minor": 0,
  "metadata": {
    "colab": {
      "provenance": [],
      "collapsed_sections": [],
      "toc_visible": true
    },
    "kernelspec": {
      "name": "python3",
      "display_name": "Python 3"
    },
    "language_info": {
      "name": "python"
    }
  },
  "cells": [
    {
      "cell_type": "markdown",
      "source": [
        "# ***Open Food Facts : nettoyage des données pour analyses***"
      ],
      "metadata": {
        "id": "naFS5W4nWEZe"
      }
    },
    {
      "cell_type": "markdown",
      "source": [
        "Le nettoyage des données de ce dataset va être effectué pour deux raisons différentes :\n",
        "\n",
        "\n",
        "*   effectuer des analyses à présenter à un grand public qui portent sur le sujet de la nutrition,\n",
        "*   et que le dataset soit utilisable pour une application dont l'élément central soit le nutriscore des produits.\n",
        "\n",
        "Les analyses à présenter au grand public porteront sur les données nutritionelles des produits et d'autres informations telles que le nombre d'additifs.\n",
        "\n",
        "L'application imaginée est une application qui attriburait une note à liste des produits scannées (via leur code barre) en fonction du nutriscore de chacun des produits. Elle pourrait également servir à afficher les informations nutritionelles basiques du produit scanné au même titre que l'étiquette. \n",
        "\n",
        "Il est donc impératif de récuperer le plus d'informations nutritionnelles possibles concernant chaque produit.\n",
        "\n"
      ],
      "metadata": {
        "id": "NkhYdMfqFAdd"
      }
    },
    {
      "cell_type": "markdown",
      "source": [
        "# ***Table des matières :***\n",
        "\n",
        "\n",
        "\n",
        "*   Partie 1 : comprendre le dataset\n",
        "*   Partie 2 : réduction des colonnes\n",
        "*   Partie 3 : réduction des lignes\n",
        "*   Partie 4 : informations nutritionelles et nutriscore\n",
        "*   Partie 5 : utilisation de la catégorie du produit\n",
        "*   Partie 6 : valeurs aberrantes\n",
        "*   Partie 7 : completer les NAN\n",
        "\n"
      ],
      "metadata": {
        "id": "9z6PZo08Utu3"
      }
    },
    {
      "cell_type": "markdown",
      "source": [
        "**Imports et versions :**"
      ],
      "metadata": {
        "id": "Mnb0U3jZWJdX"
      }
    },
    {
      "cell_type": "code",
      "execution_count": null,
      "metadata": {
        "id": "PJ8RDm2tVjQ7"
      },
      "outputs": [],
      "source": [
        "import numpy as np\n",
        "import matplotlib.pyplot as plt\n",
        "import matplotlib as mtl\n",
        "import seaborn as sns\n",
        "import pandas as pd\n",
        "import missingno as msno"
      ]
    },
    {
      "cell_type": "code",
      "source": [
        "print(\"numpy version :\", np.__version__)\n",
        "print(\"matplotlib version :\", mtl.__version__)\n",
        "print(\"seaborn version :\", sns.__version__)\n",
        "print(\"pandas version :\",pd.__version__)\n",
        "print(\"msno version :\",msno.__version__)"
      ],
      "metadata": {
        "colab": {
          "base_uri": "https://localhost:8080/"
        },
        "id": "f3-h-RTgTmFl",
        "outputId": "1940991c-2fbf-4555-8877-23ab5ac7d908"
      },
      "execution_count": null,
      "outputs": [
        {
          "output_type": "stream",
          "name": "stdout",
          "text": [
            "numpy version : 1.21.6\n",
            "matplotlib version : 3.2.2\n",
            "seaborn version : 0.11.2\n",
            "pandas version : 1.3.5\n",
            "msno version : 0.5.1\n"
          ]
        }
      ]
    },
    {
      "cell_type": "markdown",
      "source": [
        "# **Partie 1 : comprendre le dataset**"
      ],
      "metadata": {
        "id": "uzQUbSQLWweV"
      }
    },
    {
      "cell_type": "markdown",
      "source": [
        "**Chargement du dataset**"
      ],
      "metadata": {
        "id": "-_6CFfKmf_sB"
      }
    },
    {
      "cell_type": "code",
      "source": [
        "df = pd.read_csv(\"drive/MyDrive/CSV/fr.openfoodfacts.org.products.csv\", sep=\"\\t\")\n",
        "df.head()"
      ],
      "metadata": {
        "colab": {
          "base_uri": "https://localhost:8080/",
          "height": 490
        },
        "id": "zqS-bwxxV_nq",
        "outputId": "c02896c1-83a7-4e09-8eb5-b8eb10e50de5"
      },
      "execution_count": null,
      "outputs": [
        {
          "output_type": "stream",
          "name": "stderr",
          "text": [
            "/usr/local/lib/python3.7/dist-packages/IPython/core/interactiveshell.py:3326: DtypeWarning: Columns (0,3,5,19,20,24,25,26,27,28,35,36,37,38,39,48) have mixed types.Specify dtype option on import or set low_memory=False.\n",
            "  exec(code_obj, self.user_global_ns, self.user_ns)\n"
          ]
        },
        {
          "output_type": "execute_result",
          "data": {
            "text/plain": [
              "    code                                                url  \\\n",
              "0   3087  http://world-fr.openfoodfacts.org/produit/0000...   \n",
              "1   4530  http://world-fr.openfoodfacts.org/produit/0000...   \n",
              "2   4559  http://world-fr.openfoodfacts.org/produit/0000...   \n",
              "3  16087  http://world-fr.openfoodfacts.org/produit/0000...   \n",
              "4  16094  http://world-fr.openfoodfacts.org/produit/0000...   \n",
              "\n",
              "                      creator   created_t      created_datetime  \\\n",
              "0  openfoodfacts-contributors  1474103866  2016-09-17T09:17:46Z   \n",
              "1             usda-ndb-import  1489069957  2017-03-09T14:32:37Z   \n",
              "2             usda-ndb-import  1489069957  2017-03-09T14:32:37Z   \n",
              "3             usda-ndb-import  1489055731  2017-03-09T10:35:31Z   \n",
              "4             usda-ndb-import  1489055653  2017-03-09T10:34:13Z   \n",
              "\n",
              "  last_modified_t last_modified_datetime                    product_name  \\\n",
              "0      1474103893   2016-09-17T09:18:13Z              Farine de blé noir   \n",
              "1      1489069957   2017-03-09T14:32:37Z  Banana Chips Sweetened (Whole)   \n",
              "2      1489069957   2017-03-09T14:32:37Z                         Peanuts   \n",
              "3      1489055731   2017-03-09T10:35:31Z          Organic Salted Nut Mix   \n",
              "4      1489055653   2017-03-09T10:34:13Z                 Organic Polenta   \n",
              "\n",
              "  generic_name quantity  ... ph_100g fruits-vegetables-nuts_100g  \\\n",
              "0          NaN      1kg  ...     NaN                         NaN   \n",
              "1          NaN      NaN  ...     NaN                         NaN   \n",
              "2          NaN      NaN  ...     NaN                         NaN   \n",
              "3          NaN      NaN  ...     NaN                         NaN   \n",
              "4          NaN      NaN  ...     NaN                         NaN   \n",
              "\n",
              "  collagen-meat-protein-ratio_100g cocoa_100g chlorophyl_100g  \\\n",
              "0                              NaN        NaN             NaN   \n",
              "1                              NaN        NaN             NaN   \n",
              "2                              NaN        NaN             NaN   \n",
              "3                              NaN        NaN             NaN   \n",
              "4                              NaN        NaN             NaN   \n",
              "\n",
              "  carbon-footprint_100g nutrition-score-fr_100g nutrition-score-uk_100g  \\\n",
              "0                   NaN                     NaN                     NaN   \n",
              "1                   NaN                    14.0                    14.0   \n",
              "2                   NaN                     0.0                     0.0   \n",
              "3                   NaN                    12.0                    12.0   \n",
              "4                   NaN                     NaN                     NaN   \n",
              "\n",
              "  glycemic-index_100g water-hardness_100g  \n",
              "0                 NaN                 NaN  \n",
              "1                 NaN                 NaN  \n",
              "2                 NaN                 NaN  \n",
              "3                 NaN                 NaN  \n",
              "4                 NaN                 NaN  \n",
              "\n",
              "[5 rows x 162 columns]"
            ],
            "text/html": [
              "\n",
              "  <div id=\"df-e06942ac-0de8-4096-8c49-1e8eae63cb96\">\n",
              "    <div class=\"colab-df-container\">\n",
              "      <div>\n",
              "<style scoped>\n",
              "    .dataframe tbody tr th:only-of-type {\n",
              "        vertical-align: middle;\n",
              "    }\n",
              "\n",
              "    .dataframe tbody tr th {\n",
              "        vertical-align: top;\n",
              "    }\n",
              "\n",
              "    .dataframe thead th {\n",
              "        text-align: right;\n",
              "    }\n",
              "</style>\n",
              "<table border=\"1\" class=\"dataframe\">\n",
              "  <thead>\n",
              "    <tr style=\"text-align: right;\">\n",
              "      <th></th>\n",
              "      <th>code</th>\n",
              "      <th>url</th>\n",
              "      <th>creator</th>\n",
              "      <th>created_t</th>\n",
              "      <th>created_datetime</th>\n",
              "      <th>last_modified_t</th>\n",
              "      <th>last_modified_datetime</th>\n",
              "      <th>product_name</th>\n",
              "      <th>generic_name</th>\n",
              "      <th>quantity</th>\n",
              "      <th>...</th>\n",
              "      <th>ph_100g</th>\n",
              "      <th>fruits-vegetables-nuts_100g</th>\n",
              "      <th>collagen-meat-protein-ratio_100g</th>\n",
              "      <th>cocoa_100g</th>\n",
              "      <th>chlorophyl_100g</th>\n",
              "      <th>carbon-footprint_100g</th>\n",
              "      <th>nutrition-score-fr_100g</th>\n",
              "      <th>nutrition-score-uk_100g</th>\n",
              "      <th>glycemic-index_100g</th>\n",
              "      <th>water-hardness_100g</th>\n",
              "    </tr>\n",
              "  </thead>\n",
              "  <tbody>\n",
              "    <tr>\n",
              "      <th>0</th>\n",
              "      <td>3087</td>\n",
              "      <td>http://world-fr.openfoodfacts.org/produit/0000...</td>\n",
              "      <td>openfoodfacts-contributors</td>\n",
              "      <td>1474103866</td>\n",
              "      <td>2016-09-17T09:17:46Z</td>\n",
              "      <td>1474103893</td>\n",
              "      <td>2016-09-17T09:18:13Z</td>\n",
              "      <td>Farine de blé noir</td>\n",
              "      <td>NaN</td>\n",
              "      <td>1kg</td>\n",
              "      <td>...</td>\n",
              "      <td>NaN</td>\n",
              "      <td>NaN</td>\n",
              "      <td>NaN</td>\n",
              "      <td>NaN</td>\n",
              "      <td>NaN</td>\n",
              "      <td>NaN</td>\n",
              "      <td>NaN</td>\n",
              "      <td>NaN</td>\n",
              "      <td>NaN</td>\n",
              "      <td>NaN</td>\n",
              "    </tr>\n",
              "    <tr>\n",
              "      <th>1</th>\n",
              "      <td>4530</td>\n",
              "      <td>http://world-fr.openfoodfacts.org/produit/0000...</td>\n",
              "      <td>usda-ndb-import</td>\n",
              "      <td>1489069957</td>\n",
              "      <td>2017-03-09T14:32:37Z</td>\n",
              "      <td>1489069957</td>\n",
              "      <td>2017-03-09T14:32:37Z</td>\n",
              "      <td>Banana Chips Sweetened (Whole)</td>\n",
              "      <td>NaN</td>\n",
              "      <td>NaN</td>\n",
              "      <td>...</td>\n",
              "      <td>NaN</td>\n",
              "      <td>NaN</td>\n",
              "      <td>NaN</td>\n",
              "      <td>NaN</td>\n",
              "      <td>NaN</td>\n",
              "      <td>NaN</td>\n",
              "      <td>14.0</td>\n",
              "      <td>14.0</td>\n",
              "      <td>NaN</td>\n",
              "      <td>NaN</td>\n",
              "    </tr>\n",
              "    <tr>\n",
              "      <th>2</th>\n",
              "      <td>4559</td>\n",
              "      <td>http://world-fr.openfoodfacts.org/produit/0000...</td>\n",
              "      <td>usda-ndb-import</td>\n",
              "      <td>1489069957</td>\n",
              "      <td>2017-03-09T14:32:37Z</td>\n",
              "      <td>1489069957</td>\n",
              "      <td>2017-03-09T14:32:37Z</td>\n",
              "      <td>Peanuts</td>\n",
              "      <td>NaN</td>\n",
              "      <td>NaN</td>\n",
              "      <td>...</td>\n",
              "      <td>NaN</td>\n",
              "      <td>NaN</td>\n",
              "      <td>NaN</td>\n",
              "      <td>NaN</td>\n",
              "      <td>NaN</td>\n",
              "      <td>NaN</td>\n",
              "      <td>0.0</td>\n",
              "      <td>0.0</td>\n",
              "      <td>NaN</td>\n",
              "      <td>NaN</td>\n",
              "    </tr>\n",
              "    <tr>\n",
              "      <th>3</th>\n",
              "      <td>16087</td>\n",
              "      <td>http://world-fr.openfoodfacts.org/produit/0000...</td>\n",
              "      <td>usda-ndb-import</td>\n",
              "      <td>1489055731</td>\n",
              "      <td>2017-03-09T10:35:31Z</td>\n",
              "      <td>1489055731</td>\n",
              "      <td>2017-03-09T10:35:31Z</td>\n",
              "      <td>Organic Salted Nut Mix</td>\n",
              "      <td>NaN</td>\n",
              "      <td>NaN</td>\n",
              "      <td>...</td>\n",
              "      <td>NaN</td>\n",
              "      <td>NaN</td>\n",
              "      <td>NaN</td>\n",
              "      <td>NaN</td>\n",
              "      <td>NaN</td>\n",
              "      <td>NaN</td>\n",
              "      <td>12.0</td>\n",
              "      <td>12.0</td>\n",
              "      <td>NaN</td>\n",
              "      <td>NaN</td>\n",
              "    </tr>\n",
              "    <tr>\n",
              "      <th>4</th>\n",
              "      <td>16094</td>\n",
              "      <td>http://world-fr.openfoodfacts.org/produit/0000...</td>\n",
              "      <td>usda-ndb-import</td>\n",
              "      <td>1489055653</td>\n",
              "      <td>2017-03-09T10:34:13Z</td>\n",
              "      <td>1489055653</td>\n",
              "      <td>2017-03-09T10:34:13Z</td>\n",
              "      <td>Organic Polenta</td>\n",
              "      <td>NaN</td>\n",
              "      <td>NaN</td>\n",
              "      <td>...</td>\n",
              "      <td>NaN</td>\n",
              "      <td>NaN</td>\n",
              "      <td>NaN</td>\n",
              "      <td>NaN</td>\n",
              "      <td>NaN</td>\n",
              "      <td>NaN</td>\n",
              "      <td>NaN</td>\n",
              "      <td>NaN</td>\n",
              "      <td>NaN</td>\n",
              "      <td>NaN</td>\n",
              "    </tr>\n",
              "  </tbody>\n",
              "</table>\n",
              "<p>5 rows × 162 columns</p>\n",
              "</div>\n",
              "      <button class=\"colab-df-convert\" onclick=\"convertToInteractive('df-e06942ac-0de8-4096-8c49-1e8eae63cb96')\"\n",
              "              title=\"Convert this dataframe to an interactive table.\"\n",
              "              style=\"display:none;\">\n",
              "        \n",
              "  <svg xmlns=\"http://www.w3.org/2000/svg\" height=\"24px\"viewBox=\"0 0 24 24\"\n",
              "       width=\"24px\">\n",
              "    <path d=\"M0 0h24v24H0V0z\" fill=\"none\"/>\n",
              "    <path d=\"M18.56 5.44l.94 2.06.94-2.06 2.06-.94-2.06-.94-.94-2.06-.94 2.06-2.06.94zm-11 1L8.5 8.5l.94-2.06 2.06-.94-2.06-.94L8.5 2.5l-.94 2.06-2.06.94zm10 10l.94 2.06.94-2.06 2.06-.94-2.06-.94-.94-2.06-.94 2.06-2.06.94z\"/><path d=\"M17.41 7.96l-1.37-1.37c-.4-.4-.92-.59-1.43-.59-.52 0-1.04.2-1.43.59L10.3 9.45l-7.72 7.72c-.78.78-.78 2.05 0 2.83L4 21.41c.39.39.9.59 1.41.59.51 0 1.02-.2 1.41-.59l7.78-7.78 2.81-2.81c.8-.78.8-2.07 0-2.86zM5.41 20L4 18.59l7.72-7.72 1.47 1.35L5.41 20z\"/>\n",
              "  </svg>\n",
              "      </button>\n",
              "      \n",
              "  <style>\n",
              "    .colab-df-container {\n",
              "      display:flex;\n",
              "      flex-wrap:wrap;\n",
              "      gap: 12px;\n",
              "    }\n",
              "\n",
              "    .colab-df-convert {\n",
              "      background-color: #E8F0FE;\n",
              "      border: none;\n",
              "      border-radius: 50%;\n",
              "      cursor: pointer;\n",
              "      display: none;\n",
              "      fill: #1967D2;\n",
              "      height: 32px;\n",
              "      padding: 0 0 0 0;\n",
              "      width: 32px;\n",
              "    }\n",
              "\n",
              "    .colab-df-convert:hover {\n",
              "      background-color: #E2EBFA;\n",
              "      box-shadow: 0px 1px 2px rgba(60, 64, 67, 0.3), 0px 1px 3px 1px rgba(60, 64, 67, 0.15);\n",
              "      fill: #174EA6;\n",
              "    }\n",
              "\n",
              "    [theme=dark] .colab-df-convert {\n",
              "      background-color: #3B4455;\n",
              "      fill: #D2E3FC;\n",
              "    }\n",
              "\n",
              "    [theme=dark] .colab-df-convert:hover {\n",
              "      background-color: #434B5C;\n",
              "      box-shadow: 0px 1px 3px 1px rgba(0, 0, 0, 0.15);\n",
              "      filter: drop-shadow(0px 1px 2px rgba(0, 0, 0, 0.3));\n",
              "      fill: #FFFFFF;\n",
              "    }\n",
              "  </style>\n",
              "\n",
              "      <script>\n",
              "        const buttonEl =\n",
              "          document.querySelector('#df-e06942ac-0de8-4096-8c49-1e8eae63cb96 button.colab-df-convert');\n",
              "        buttonEl.style.display =\n",
              "          google.colab.kernel.accessAllowed ? 'block' : 'none';\n",
              "\n",
              "        async function convertToInteractive(key) {\n",
              "          const element = document.querySelector('#df-e06942ac-0de8-4096-8c49-1e8eae63cb96');\n",
              "          const dataTable =\n",
              "            await google.colab.kernel.invokeFunction('convertToInteractive',\n",
              "                                                     [key], {});\n",
              "          if (!dataTable) return;\n",
              "\n",
              "          const docLinkHtml = 'Like what you see? Visit the ' +\n",
              "            '<a target=\"_blank\" href=https://colab.research.google.com/notebooks/data_table.ipynb>data table notebook</a>'\n",
              "            + ' to learn more about interactive tables.';\n",
              "          element.innerHTML = '';\n",
              "          dataTable['output_type'] = 'display_data';\n",
              "          await google.colab.output.renderOutput(dataTable, element);\n",
              "          const docLink = document.createElement('div');\n",
              "          docLink.innerHTML = docLinkHtml;\n",
              "          element.appendChild(docLink);\n",
              "        }\n",
              "      </script>\n",
              "    </div>\n",
              "  </div>\n",
              "  "
            ]
          },
          "metadata": {},
          "execution_count": 57
        }
      ]
    },
    {
      "cell_type": "markdown",
      "source": [
        "**Taille du dataset :**"
      ],
      "metadata": {
        "id": "AevW0wT7gMIe"
      }
    },
    {
      "cell_type": "code",
      "source": [
        "print(\"DataFrame shape :\", df.shape)\n",
        "print(\"DataFrame cells :\", df.shape[0]*df.shape[1])"
      ],
      "metadata": {
        "colab": {
          "base_uri": "https://localhost:8080/"
        },
        "id": "gTsuGMQ1XrGD",
        "outputId": "c9a2e3ee-e59d-4190-eee3-17242acffa40"
      },
      "execution_count": null,
      "outputs": [
        {
          "output_type": "stream",
          "name": "stdout",
          "text": [
            "DataFrame shape : (320772, 162)\n",
            "DataFrame cells : 51965064\n"
          ]
        }
      ]
    },
    {
      "cell_type": "markdown",
      "source": [
        "**Liste des colonnes :**"
      ],
      "metadata": {
        "id": "m2SVYgnfJd1B"
      }
    },
    {
      "cell_type": "code",
      "source": [
        "df.columns"
      ],
      "metadata": {
        "id": "Z3yQjOi8Ja_M",
        "colab": {
          "base_uri": "https://localhost:8080/"
        },
        "outputId": "cd776b13-7dee-4405-9a84-9c37b8dc78ef"
      },
      "execution_count": null,
      "outputs": [
        {
          "output_type": "execute_result",
          "data": {
            "text/plain": [
              "Index(['code', 'url', 'creator', 'created_t', 'created_datetime',\n",
              "       'last_modified_t', 'last_modified_datetime', 'product_name',\n",
              "       'generic_name', 'quantity',\n",
              "       ...\n",
              "       'ph_100g', 'fruits-vegetables-nuts_100g',\n",
              "       'collagen-meat-protein-ratio_100g', 'cocoa_100g', 'chlorophyl_100g',\n",
              "       'carbon-footprint_100g', 'nutrition-score-fr_100g',\n",
              "       'nutrition-score-uk_100g', 'glycemic-index_100g',\n",
              "       'water-hardness_100g'],\n",
              "      dtype='object', length=162)"
            ]
          },
          "metadata": {},
          "execution_count": 59
        }
      ]
    },
    {
      "cell_type": "markdown",
      "source": [
        "**Type de chaque colonne :**"
      ],
      "metadata": {
        "id": "zkOTJBSVgYdj"
      }
    },
    {
      "cell_type": "code",
      "source": [
        "df.dtypes"
      ],
      "metadata": {
        "colab": {
          "base_uri": "https://localhost:8080/"
        },
        "id": "LOg_3XH8YHGR",
        "outputId": "a22f9d2b-e1cd-4cf7-a8c9-6a16ae36ae4f"
      },
      "execution_count": null,
      "outputs": [
        {
          "output_type": "execute_result",
          "data": {
            "text/plain": [
              "code                        object\n",
              "url                         object\n",
              "creator                     object\n",
              "created_t                   object\n",
              "created_datetime            object\n",
              "                            ...   \n",
              "carbon-footprint_100g      float64\n",
              "nutrition-score-fr_100g    float64\n",
              "nutrition-score-uk_100g    float64\n",
              "glycemic-index_100g        float64\n",
              "water-hardness_100g        float64\n",
              "Length: 162, dtype: object"
            ]
          },
          "metadata": {},
          "execution_count": 60
        }
      ]
    },
    {
      "cell_type": "markdown",
      "source": [
        "**Remplissage de chaque colonne :**"
      ],
      "metadata": {
        "id": "Ven7LzJSgpQf"
      }
    },
    {
      "cell_type": "code",
      "source": [
        "df.isna().mean()"
      ],
      "metadata": {
        "colab": {
          "base_uri": "https://localhost:8080/"
        },
        "id": "vBegpxGAaKln",
        "outputId": "a2abca46-2eb1-4b10-b694-417cbb7965ef"
      },
      "execution_count": null,
      "outputs": [
        {
          "output_type": "execute_result",
          "data": {
            "text/plain": [
              "code                       0.000072\n",
              "url                        0.000072\n",
              "creator                    0.000006\n",
              "created_t                  0.000009\n",
              "created_datetime           0.000028\n",
              "                             ...   \n",
              "carbon-footprint_100g      0.999165\n",
              "nutrition-score-fr_100g    0.310382\n",
              "nutrition-score-uk_100g    0.310382\n",
              "glycemic-index_100g        1.000000\n",
              "water-hardness_100g        1.000000\n",
              "Length: 162, dtype: float64"
            ]
          },
          "metadata": {},
          "execution_count": 61
        }
      ]
    },
    {
      "cell_type": "code",
      "source": [
        "plt.figure(figsize=(18,6))\n",
        "plt.bar([i for i in range(df.shape[1])], 100*(1-df.isna().mean()))\n",
        "plt.xlabel('column ID')\n",
        "plt.ylabel('fill %')\n",
        "plt.title('column fill %')"
      ],
      "metadata": {
        "colab": {
          "base_uri": "https://localhost:8080/",
          "height": 421
        },
        "id": "X-mqiYpcaP35",
        "outputId": "67f0943a-4c82-457b-be9d-46f997876392"
      },
      "execution_count": null,
      "outputs": [
        {
          "output_type": "execute_result",
          "data": {
            "text/plain": [
              "Text(0.5, 1.0, 'column fill %')"
            ]
          },
          "metadata": {},
          "execution_count": 62
        },
        {
          "output_type": "display_data",
          "data": {
            "text/plain": [
              "<Figure size 1296x432 with 1 Axes>"
            ],
            "image/png": "[encoded data removed]"
          },
          "metadata": {
            "needs_background": "light"
          }
        }
      ]
    },
    {
      "cell_type": "markdown",
      "source": [
        "<b>Remplissage du dataset complet :</b>"
      ],
      "metadata": {
        "id": "E8fIgyH-xtRm"
      }
    },
    {
      "cell_type": "code",
      "source": [
        "print( '% de valeurs manquantes :', df.isna().sum().sum()/(df.shape[0]*df.shape[1]))"
      ],
      "metadata": {
        "colab": {
          "base_uri": "https://localhost:8080/"
        },
        "id": "3EZmiQGGxt2p",
        "outputId": "aee0d196-db84-4db2-a106-fa89872e6f1b"
      },
      "execution_count": null,
      "outputs": [
        {
          "output_type": "stream",
          "name": "stdout",
          "text": [
            "% de valeurs manquantes : 0.7622157263195134\n"
          ]
        }
      ]
    },
    {
      "cell_type": "markdown",
      "source": [
        "**Colonnes les plus remplies :**"
      ],
      "metadata": {
        "id": "Y7RCKlsCg0lX"
      }
    },
    {
      "cell_type": "code",
      "source": [
        "fill = 1-df.isna().mean()\n",
        "fill[fill > 0.5]"
      ],
      "metadata": {
        "id": "rRdnndG8a2_-",
        "colab": {
          "base_uri": "https://localhost:8080/"
        },
        "outputId": "c6d1e24f-f1e7-4ee2-ab57-d2e1f88d191c"
      },
      "execution_count": null,
      "outputs": [
        {
          "output_type": "execute_result",
          "data": {
            "text/plain": [
              "code                                       0.999928\n",
              "url                                        0.999928\n",
              "creator                                    0.999994\n",
              "created_t                                  0.999991\n",
              "created_datetime                           0.999972\n",
              "last_modified_t                            1.000000\n",
              "last_modified_datetime                     1.000000\n",
              "product_name                               0.944627\n",
              "brands                                     0.911426\n",
              "brands_tags                                0.911401\n",
              "countries                                  0.999127\n",
              "countries_tags                             0.999127\n",
              "countries_fr                               0.999127\n",
              "ingredients_text                           0.776134\n",
              "serving_size                               0.658820\n",
              "additives_n                                0.776062\n",
              "additives                                  0.775956\n",
              "ingredients_from_palm_oil_n                0.776062\n",
              "ingredients_that_may_be_from_palm_oil_n    0.776062\n",
              "nutrition_grade_fr                         0.689618\n",
              "states                                     0.999857\n",
              "states_tags                                0.999857\n",
              "states_fr                                  0.999857\n",
              "energy_100g                                0.814014\n",
              "fat_100g                                   0.760325\n",
              "saturated-fat_100g                         0.715630\n",
              "carbohydrates_100g                         0.759380\n",
              "sugars_100g                                0.763692\n",
              "fiber_100g                                 0.626258\n",
              "proteins_100g                              0.810301\n",
              "salt_100g                                  0.796547\n",
              "sodium_100g                                0.796401\n",
              "nutrition-score-fr_100g                    0.689618\n",
              "nutrition-score-uk_100g                    0.689618\n",
              "dtype: float64"
            ]
          },
          "metadata": {},
          "execution_count": 64
        }
      ]
    },
    {
      "cell_type": "markdown",
      "source": [
        "**Colonnes vides :**"
      ],
      "metadata": {
        "id": "q1TO_XSUhDRV"
      }
    },
    {
      "cell_type": "code",
      "source": [
        "fill[fill==0]"
      ],
      "metadata": {
        "id": "xmiaPRhQdEwW",
        "colab": {
          "base_uri": "https://localhost:8080/"
        },
        "outputId": "41e306dc-ee71-451d-e061-4e724ae4de00"
      },
      "execution_count": null,
      "outputs": [
        {
          "output_type": "execute_result",
          "data": {
            "text/plain": [
              "no_nutriments                            0.0\n",
              "ingredients_from_palm_oil                0.0\n",
              "ingredients_that_may_be_from_palm_oil    0.0\n",
              "nutrition_grade_uk                       0.0\n",
              "butyric-acid_100g                        0.0\n",
              "caproic-acid_100g                        0.0\n",
              "lignoceric-acid_100g                     0.0\n",
              "cerotic-acid_100g                        0.0\n",
              "melissic-acid_100g                       0.0\n",
              "elaidic-acid_100g                        0.0\n",
              "mead-acid_100g                           0.0\n",
              "erucic-acid_100g                         0.0\n",
              "nervonic-acid_100g                       0.0\n",
              "chlorophyl_100g                          0.0\n",
              "glycemic-index_100g                      0.0\n",
              "water-hardness_100g                      0.0\n",
              "dtype: float64"
            ]
          },
          "metadata": {},
          "execution_count": 65
        }
      ]
    },
    {
      "cell_type": "markdown",
      "source": [
        "**Colonnes peu remplies :**"
      ],
      "metadata": {
        "id": "Dz-OcPXZg553"
      }
    },
    {
      "cell_type": "code",
      "source": [
        "fill[fill<0.5].count()"
      ],
      "metadata": {
        "colab": {
          "base_uri": "https://localhost:8080/"
        },
        "id": "_hXoSXO5bLts",
        "outputId": "02e782a1-42f9-437e-9128-b3490816f6a4"
      },
      "execution_count": null,
      "outputs": [
        {
          "output_type": "execute_result",
          "data": {
            "text/plain": [
              "128"
            ]
          },
          "metadata": {},
          "execution_count": 66
        }
      ]
    },
    {
      "cell_type": "code",
      "source": [
        "fill[fill<0.2].count()"
      ],
      "metadata": {
        "colab": {
          "base_uri": "https://localhost:8080/"
        },
        "id": "E7XIIk6RcUmA",
        "outputId": "70ad48fc-1cf8-4ef7-dfff-a01fd955730c"
      },
      "execution_count": null,
      "outputs": [
        {
          "output_type": "execute_result",
          "data": {
            "text/plain": [
              "108"
            ]
          },
          "metadata": {},
          "execution_count": 67
        }
      ]
    },
    {
      "cell_type": "code",
      "source": [
        "fill[(fill<0.5)&(fill>0.1)].sort_values(ascending=False)"
      ],
      "metadata": {
        "id": "Ws7r6vc7c6ix",
        "colab": {
          "base_uri": "https://localhost:8080/"
        },
        "outputId": "76c237a7-ed9c-494b-d0c2-8225fa8f8b6b"
      },
      "execution_count": null,
      "outputs": [
        {
          "output_type": "execute_result",
          "data": {
            "text/plain": [
              "additives_tags               0.482212\n",
              "additives_fr                 0.482212\n",
              "cholesterol_100g             0.449198\n",
              "trans-fat_100g               0.446729\n",
              "calcium_100g                 0.439720\n",
              "vitamin-c_100g               0.439150\n",
              "iron_100g                    0.437887\n",
              "vitamin-a_100g               0.428822\n",
              "quantity                     0.326771\n",
              "pnns_groups_2                0.294574\n",
              "pnns_groups_1                0.285290\n",
              "categories_fr                0.263150\n",
              "categories                   0.263146\n",
              "categories_tags              0.263081\n",
              "main_category                0.263009\n",
              "main_category_fr             0.263009\n",
              "packaging_tags               0.246159\n",
              "packaging                    0.246156\n",
              "image_small_url              0.236417\n",
              "image_url                    0.236417\n",
              "purchase_places              0.181415\n",
              "generic_name                 0.164587\n",
              "stores                       0.161242\n",
              "labels_fr                    0.145480\n",
              "labels_tags                  0.145412\n",
              "labels                       0.145147\n",
              "manufacturing_places         0.113791\n",
              "manufacturing_places_tags    0.113772\n",
              "dtype: float64"
            ]
          },
          "metadata": {},
          "execution_count": 68
        }
      ]
    },
    {
      "cell_type": "code",
      "source": [
        "fill[(fill<0.1)&(fill!=0)].sort_values(ascending=False)"
      ],
      "metadata": {
        "id": "9Zw9YLgvx4pc",
        "colab": {
          "base_uri": "https://localhost:8080/"
        },
        "outputId": "56e71f17-4ca1-4048-e035-1b9e18abdc32"
      },
      "execution_count": null,
      "outputs": [
        {
          "output_type": "execute_result",
          "data": {
            "text/plain": [
              "emb_codes             0.091361\n",
              "emb_codes_tags        0.091351\n",
              "allergens             0.088362\n",
              "potassium_100g        0.077151\n",
              "traces                0.075920\n",
              "                        ...   \n",
              "caprylic-acid_100g    0.000003\n",
              "myristic-acid_100g    0.000003\n",
              "palmitic-acid_100g    0.000003\n",
              "stearic-acid_100g     0.000003\n",
              "montanic-acid_100g    0.000003\n",
              "Length: 84, dtype: float64"
            ]
          },
          "metadata": {},
          "execution_count": 69
        }
      ]
    },
    {
      "cell_type": "markdown",
      "source": [
        "**Doublons :**"
      ],
      "metadata": {
        "id": "Cz84souiyHb9"
      }
    },
    {
      "cell_type": "code",
      "source": [
        "df.duplicated().sum()"
      ],
      "metadata": {
        "colab": {
          "base_uri": "https://localhost:8080/"
        },
        "id": "ch8YHVS6bZ4T",
        "outputId": "7974c6db-6c1a-44cd-e262-abd51d47ceb1"
      },
      "execution_count": null,
      "outputs": [
        {
          "output_type": "execute_result",
          "data": {
            "text/plain": [
              "0"
            ]
          },
          "metadata": {},
          "execution_count": 70
        }
      ]
    },
    {
      "cell_type": "markdown",
      "source": [
        "**Produits listés :**"
      ],
      "metadata": {
        "id": "RZDUAEsUyLcw"
      }
    },
    {
      "cell_type": "code",
      "source": [
        "print(\"Nombre de produits :\", df['product_name'].count())\n",
        "print(\"Nombre de noms de produits :\", df['product_name'].nunique())"
      ],
      "metadata": {
        "id": "RzlYVPODbmkW",
        "colab": {
          "base_uri": "https://localhost:8080/"
        },
        "outputId": "f05d0fdb-6667-42f2-96d1-51525b7d6942"
      },
      "execution_count": null,
      "outputs": [
        {
          "output_type": "stream",
          "name": "stdout",
          "text": [
            "Nombre de produits : 303010\n",
            "Nombre de noms de produits : 221347\n"
          ]
        }
      ]
    },
    {
      "cell_type": "markdown",
      "source": [
        "# **Partie 2 : réduction des colonnes**\n",
        "\n",
        "Une réduction des colonnes peut être effectuée puisque certaines des colonnes ne proposent pas d'informations utiles aux problématiques fixées. C'est le cas par exemple pour :\n",
        "\n",
        "\n",
        "*   l'url du produit sur le site\n",
        "*   les dates de création et dernière modification de la fiche du produit\n",
        "*   le magasin dans lequel le produit a été acheté\n",
        "*   etc ...\n",
        "\n",
        "On fait attention tout de même à ne pas supprimer des colonnes qui permenttent de calculer le nutriscore.\n"
      ],
      "metadata": {
        "id": "8L12mfSlHU-Q"
      }
    },
    {
      "cell_type": "markdown",
      "source": [
        "**Suppression des colonnes non utiles à la problématique :**"
      ],
      "metadata": {
        "id": "fqmgWh6-JlQf"
      }
    },
    {
      "cell_type": "code",
      "source": [
        "useless_col = ['url', 'creator', 'created_t', 'created_datetime', 'last_modified_t', 'last_modified_datetime', \n",
        "               'packaging', 'packaging_tags', 'image_small_url', 'image_url', 'purchase_place', 'stores', \n",
        "               'manufacturing_places', 'manufacturing_places_tags', 'emb_codes', 'emb_codes_tags', \n",
        "               'states', 'states_tags', 'states_tags_fr', 'states_fr']\n",
        "df = df.loc[:,~df.columns.isin(useless_col)]"
      ],
      "metadata": {
        "id": "_R-RxugZJMfq"
      },
      "execution_count": null,
      "outputs": []
    },
    {
      "cell_type": "markdown",
      "source": [
        "**Suppression des colonnes totalement vides et quasi vides (<10%) :** Certaines colonnes sont totalement vides, et malgré qu'elles pourraient être intéréssantes pour l'analyse, il est tout bonnement impossible des les remplire avec les informations à disposition. De même pour certaines colonnes quasiment vides.\n",
        "\n",
        "*Attention une colonne permettant le calcul du nutriscore fait partie de ces colonnes très peu remplies, on fait attention donc à ne pas la supprimer.*"
      ],
      "metadata": {
        "id": "1-OLl4rOJt3W"
      }
    },
    {
      "cell_type": "code",
      "source": [
        "empty_cols = fill[fill<0.1].index.values.tolist()\n",
        "empty_cols.remove('fruits-vegetables-nuts_100g')\n",
        "df = df.loc[:,~df.columns.isin(empty_cols)]"
      ],
      "metadata": {
        "id": "IGu-8c_hKDRd"
      },
      "execution_count": null,
      "outputs": []
    },
    {
      "cell_type": "markdown",
      "source": [
        "**Suppression des colonnes assez vides difficelement remplissables et non-indipensables (seuil < 40%):** Certaines colonnes sont très peu remplies et peuvent être dificilement remplisables. De plus elles ne sont pas forcément indispensables pour une analyse nutritionnelle basique à présenter au grand publique."
      ],
      "metadata": {
        "id": "oyACNr0yJvn5"
      }
    },
    {
      "cell_type": "code",
      "source": [
        "fill = 1-df.isna().mean()\n",
        "quasi_empty_cols = fill[(fill<0.4)&(fill>=0.1)]\n",
        "quasi_empty_cols"
      ],
      "metadata": {
        "id": "CMCmFG1EKmst",
        "colab": {
          "base_uri": "https://localhost:8080/"
        },
        "outputId": "3b0ad67e-499c-4816-e18f-70e19c7576f7"
      },
      "execution_count": null,
      "outputs": [
        {
          "output_type": "execute_result",
          "data": {
            "text/plain": [
              "generic_name        0.164587\n",
              "quantity            0.326771\n",
              "categories          0.263146\n",
              "categories_tags     0.263081\n",
              "categories_fr       0.263150\n",
              "labels              0.145147\n",
              "labels_tags         0.145412\n",
              "labels_fr           0.145480\n",
              "purchase_places     0.181415\n",
              "pnns_groups_1       0.285290\n",
              "pnns_groups_2       0.294574\n",
              "main_category       0.263009\n",
              "main_category_fr    0.263009\n",
              "dtype: float64"
            ]
          },
          "metadata": {},
          "execution_count": 74
        }
      ]
    },
    {
      "cell_type": "code",
      "source": [
        "quasi_empty_cols = ['quantity', 'purchase_places', 'labels', 'labels_tags', 'labels_fr']\n",
        "df = df.loc[:,~df.columns.isin(quasi_empty_cols)]"
      ],
      "metadata": {
        "id": "NrVhUAMZ3Utx"
      },
      "execution_count": null,
      "outputs": []
    },
    {
      "cell_type": "markdown",
      "source": [
        "**Autres colonnes :** certaines colonnes permettraient de faire des analyses un peu plus poussées par la suite cependant ce n'est pas l'intérêt de la problématique, que ce soit pour l'application ou l'analyse pour le grand public. On enlève alors ces colonnes en question."
      ],
      "metadata": {
        "id": "kFdGKpupJ0SV"
      }
    },
    {
      "cell_type": "code",
      "source": [
        "other_cols = ['additives', 'additives_tags', 'additives_fr', 'ingredients_that_may_be_from_palm_oil_n', 'brands',\n",
        "              'trans-fat_100g', 'cholesterol_100g']\n",
        "df = df.loc[:,~df.columns.isin(other_cols)]"
      ],
      "metadata": {
        "id": "74l2ntjBKQhc"
      },
      "execution_count": null,
      "outputs": []
    },
    {
      "cell_type": "markdown",
      "source": [
        "**Colonnes doublon :** Certaines colonnes apportent la même information mais en de façon différentes, on garde seulement la plus exploitable. "
      ],
      "metadata": {
        "id": "ZYdVRgNANfMG"
      }
    },
    {
      "cell_type": "code",
      "source": [
        "double_cols = ['countries', 'countries_fr', 'categories', 'categories_fr', 'main_category_fr']\n",
        "df = df.loc[:,~df.columns.isin(double_cols)]"
      ],
      "metadata": {
        "id": "_cgA7R4cNsly"
      },
      "execution_count": null,
      "outputs": []
    },
    {
      "cell_type": "markdown",
      "source": [
        "**Réoganisation des colonnes :**"
      ],
      "metadata": {
        "id": "EgQeHAMfOlhW"
      }
    },
    {
      "cell_type": "code",
      "source": [
        "df = df[['code', 'product_name', 'brands_tags', 'countries_tags',\n",
        "         'generic_name', 'categories_tags', 'main_category', 'pnns_groups_1', 'pnns_groups_2',\n",
        "         'ingredients_text', 'serving_size', 'additives_n', 'ingredients_from_palm_oil_n',\n",
        "         'energy_100g', 'fat_100g', 'saturated-fat_100g', 'carbohydrates_100g',\n",
        "         'sugars_100g', 'fiber_100g', 'proteins_100g', 'salt_100g',\n",
        "         'sodium_100g', 'vitamin-a_100g', 'vitamin-c_100g', 'calcium_100g',\n",
        "         'iron_100g', 'fruits-vegetables-nuts_100g', 'nutrition-score-fr_100g',\n",
        "         'nutrition-score-uk_100g', 'nutrition_grade_fr']]"
      ],
      "metadata": {
        "id": "ZLG7kFofOyYV"
      },
      "execution_count": null,
      "outputs": []
    },
    {
      "cell_type": "markdown",
      "source": [
        "**Etat des lieux du dataset :**"
      ],
      "metadata": {
        "id": "vQ5QBSK7pNsb"
      }
    },
    {
      "cell_type": "code",
      "source": [
        "msno.matrix(df)"
      ],
      "metadata": {
        "colab": {
          "base_uri": "https://localhost:8080/",
          "height": 737
        },
        "id": "DODmGRLbTsVt",
        "outputId": "98fca84c-7220-44e9-bb71-a5aad28b7fae"
      },
      "execution_count": null,
      "outputs": [
        {
          "output_type": "execute_result",
          "data": {
            "text/plain": [
              "<matplotlib.axes._subplots.AxesSubplot at 0x7f55d14ec3d0>"
            ]
          },
          "metadata": {},
          "execution_count": 79
        },
        {
          "output_type": "display_data",
          "data": {
            "text/plain": [
              "<Figure size 1800x720 with 2 Axes>"
            ],
            "image/png": "[encoded data removed]"
          },
          "metadata": {
            "needs_background": "light"
          }
        }
      ]
    },
    {
      "cell_type": "code",
      "source": [
        "plt.figure(figsize=(18,6))\n",
        "plt.bar([i for i in range(df.shape[1])], 100*(1-df.isna().mean()))\n",
        "plt.grid()\n",
        "plt.xlabel('column ID')\n",
        "plt.ylabel('fill %')\n",
        "plt.title('column fill %')"
      ],
      "metadata": {
        "colab": {
          "base_uri": "https://localhost:8080/",
          "height": 421
        },
        "id": "uL8BPMMn6SW8",
        "outputId": "d3c5d38f-9aa3-4b7b-ab4c-f7d299688bbb"
      },
      "execution_count": null,
      "outputs": [
        {
          "output_type": "execute_result",
          "data": {
            "text/plain": [
              "Text(0.5, 1.0, 'column fill %')"
            ]
          },
          "metadata": {},
          "execution_count": 80
        },
        {
          "output_type": "display_data",
          "data": {
            "text/plain": [
              "<Figure size 1296x432 with 1 Axes>"
            ],
            "image/png": "[encoded data removed]"
          },
          "metadata": {
            "needs_background": "light"
          }
        }
      ]
    },
    {
      "cell_type": "code",
      "source": [
        "print(\"% cellules vides :\", df.isna().sum().sum()/(df.shape[0]*df.shape[1]))"
      ],
      "metadata": {
        "colab": {
          "base_uri": "https://localhost:8080/"
        },
        "id": "mzv4_zZFQQEy",
        "outputId": "2c95479c-f71d-4a7b-b567-44f12d3c901a"
      },
      "execution_count": null,
      "outputs": [
        {
          "output_type": "stream",
          "name": "stdout",
          "text": [
            "% cellules vides : 0.3740283856861987\n"
          ]
        }
      ]
    },
    {
      "cell_type": "markdown",
      "source": [
        "# **Partie 3 : réduction des lignes**\n",
        "\n",
        "On va simplement supprimer les lignes qui ne sont d'aucune utilité dans notre dataset, autrement dit les lignes qui ne possèdent pas d'informations suffisantes afin d'êtres utiles à l'analyse ou l'application. \n",
        "\n",
        "C'est à dire les lignes où les informations suivantes sont manquantes : product_name, enrgy_100g, fat_100g, saturated_fat_100g, carbohydrates_100g, sugars_100g, proteins_100g, fiber_100g, salt_100g et les nutriscores.\n",
        "On choisit un "
      ],
      "metadata": {
        "id": "pwxQPi8BQo3p"
      }
    },
    {
      "cell_type": "code",
      "source": [
        "cols = ['product_name', 'energy_100g', 'fat_100g', 'saturated-fat_100g', 'carbohydrates_100g', \n",
        "        'sugars_100g', 'proteins_100g', 'fiber_100g', 'salt_100g', \n",
        "        'nutrition_grade_fr', 'nutrition-score-fr_100g', 'nutrition-score-uk_100g']\n",
        "df = df.dropna(subset=cols, thresh=5)\n",
        "print(\"% cellules vides :\", df.isna().sum().sum()/(df.shape[0]*df.shape[1]))"
      ],
      "metadata": {
        "colab": {
          "base_uri": "https://localhost:8080/"
        },
        "id": "T9xA1N90R6pc",
        "outputId": "6da325e5-c62e-4e3d-c646-5d93166bb2ee"
      },
      "execution_count": null,
      "outputs": [
        {
          "output_type": "stream",
          "name": "stdout",
          "text": [
            "% cellules vides : 0.27514220181137716\n"
          ]
        }
      ]
    },
    {
      "cell_type": "code",
      "source": [
        "msno.matrix(df)"
      ],
      "metadata": {
        "colab": {
          "base_uri": "https://localhost:8080/",
          "height": 737
        },
        "id": "R0cNXI7kU8Si",
        "outputId": "b201055d-bd3b-4445-a0ac-891022f6476f"
      },
      "execution_count": null,
      "outputs": [
        {
          "output_type": "execute_result",
          "data": {
            "text/plain": [
              "<matplotlib.axes._subplots.AxesSubplot at 0x7f55bc7dfcd0>"
            ]
          },
          "metadata": {},
          "execution_count": 83
        },
        {
          "output_type": "display_data",
          "data": {
            "text/plain": [
              "<Figure size 1800x720 with 2 Axes>"
            ],
            "image/png": "[encoded data removed]"
          },
          "metadata": {
            "needs_background": "light"
          }
        }
      ]
    },
    {
      "cell_type": "code",
      "source": [
        "plt.figure(figsize=(18,6))\n",
        "plt.bar([i for i in range(df.shape[1])], 100*(1-df.isna().mean()))\n",
        "plt.grid()\n",
        "plt.xlabel('column ID')\n",
        "plt.ylabel('fill %')\n",
        "plt.title('column fill %')"
      ],
      "metadata": {
        "colab": {
          "base_uri": "https://localhost:8080/",
          "height": 421
        },
        "id": "gf5ZAJOHVGnF",
        "outputId": "fc23c673-7bc3-476a-f753-2a78b205fcf7"
      },
      "execution_count": null,
      "outputs": [
        {
          "output_type": "execute_result",
          "data": {
            "text/plain": [
              "Text(0.5, 1.0, 'column fill %')"
            ]
          },
          "metadata": {},
          "execution_count": 84
        },
        {
          "output_type": "display_data",
          "data": {
            "text/plain": [
              "<Figure size 1296x432 with 1 Axes>"
            ],
            "image/png": "[encoded data removed]"
          },
          "metadata": {
            "needs_background": "light"
          }
        }
      ]
    },
    {
      "cell_type": "markdown",
      "source": [
        "# **Partie 4 : informations nutritionelles et nutriscore**\n",
        "\n",
        "Dans un premier temps on va analyser les colonnes utiles au calcul au nutriscore et ce dernier. \n",
        "Le but étant d'éssayer de remplir au maximum ces colonnes à la fois pour l'application et à la fois pour les analyses à suivre. "
      ],
      "metadata": {
        "id": "9hzfFVKMLI9S"
      }
    },
    {
      "cell_type": "markdown",
      "source": [
        "**Formule du nutriscore :**\n",
        "\n",
        "Posons les notations suivantes :\n",
        "\n",
        "\n",
        "*   $e$ : energie en kJ pour 100g\n",
        "*   $s$ : sucre en g pour 100g\n",
        "*   $g$ : graisses saturées en g pour 100g\n",
        "*   $n$ : sodium en g pour 100g\n",
        "*   $p$ : proteines en g pour 100g\n",
        "*   $f$ : fibres en g pour 100g\n",
        "*   $v$ : quantité de fruits/légumes/noix en g pour 100g\n",
        "\n",
        "Pour chacune de ces quantités on fixe une fonction qui attribue un score à chacune : \n",
        "$$S_e(e), S_s(s), S_g(g), S_n(n), S_p(p), S_f(f), S_v(v)$$\n",
        "\n",
        "Puis ensuite on calcule le nutriscore à l'aide de ces fonctions en questions :\n",
        "$$N(e,s,g,n,p,f,v) = S_e(e)+S_s(s) + S_g(g)+S_n(n)-S_p(p)-S_f(f)-S_v(v) $$\n",
        "\n",
        "On s'interesse donc plus particulièrement à la manière de remplire les colonnes permetant le calcul du nutriscore, mais également dans un second temps à celle qui nous indiquent le type de produit auquel nous avons à faire. "
      ],
      "metadata": {
        "id": "4lQ399E2LYbv"
      }
    },
    {
      "cell_type": "code",
      "source": [
        "nutri_cols = ['energy_100g', 'fat_100g', 'saturated-fat_100g', 'sugars_100g', 'salt_100g',\n",
        "              'sodium_100g','fiber_100g', 'proteins_100g', 'fruits-vegetables-nuts_100g',\n",
        "              'nutrition-score-fr_100g', 'nutrition-score-uk_100g', 'nutrition_grade_fr']\n",
        "nutri_calc = ['energy_100g', 'saturated-fat_100g', 'sugars_100g', 'sodium_100g',\n",
        "              'fiber_100g', 'proteins_100g', 'fruits-vegetables-nuts_100g',\n",
        "              'nutrition-score-fr_100g', 'nutrition-score-uk_100g', 'nutrition_grade_fr']"
      ],
      "metadata": {
        "id": "AxPeigcsh1sY"
      },
      "execution_count": null,
      "outputs": []
    },
    {
      "cell_type": "markdown",
      "source": [
        "**Comparaison de la colonne Sodium et Sel :** La colonne du sodium (utile au calcul du nutriscore) est directement liée avec celle du sel. On vérifie si c'est deux colonnes possèdent autant d'informations, dans le cas contraire on essaierai de remplire les colonne du sodium à l'aide de celle du sel :\n",
        "\n",
        "$$\\text{Teneur en sodium du sel} = \\frac{\\text{Masse molaire du sodium}}{\\text{Somme masses molaire du sodium et chlore}} = \\frac{M(\\text{Na})}{M(\\text{Na})+M(\\text{Cl})}=0.393 $$\n",
        "\n",
        "On se sert de la colonne de sel pour remplir les NaN de la colonne de sel quand c'est possible simplement en multipliant la valeur en sel par 0.393. Et inversement en divisant par 0.393.\n",
        "\n"
      ],
      "metadata": {
        "id": "NARbLcekXaY9"
      }
    },
    {
      "cell_type": "code",
      "source": [
        "print(\"Nombre de valeurs de sodium remplies avant :\", df['sodium_100g'].count())\n",
        "df.loc[df['sodium_100g'].isnull(), 'sodium_100g'] = df.loc[df['sodium_100g'].isnull(), 'salt_100g']*0.393\n",
        "print(\"Nombre de valeurs remplies après :\", df['sodium_100g'].count())"
      ],
      "metadata": {
        "colab": {
          "base_uri": "https://localhost:8080/"
        },
        "id": "U_M1kVT7adtW",
        "outputId": "f3458018-b082-40f7-ff1d-397f2f15828b"
      },
      "execution_count": null,
      "outputs": [
        {
          "output_type": "stream",
          "name": "stdout",
          "text": [
            "Nombre de valeurs de sodium remplies avant : 255159\n",
            "Nombre de valeurs remplies après : 255199\n"
          ]
        }
      ]
    },
    {
      "cell_type": "code",
      "source": [
        "print(\"Nombre de valeurs de sel remplies avant :\", df['salt_100g'].count())\n",
        "df.loc[df['salt_100g'].isnull(), 'salt_100g'] = df.loc[df['salt_100g'].isnull(), 'sodium_100g']/0.393\n",
        "print(\"Nombre de valeurs remplies après :\", df['salt_100g'].count())"
      ],
      "metadata": {
        "colab": {
          "base_uri": "https://localhost:8080/"
        },
        "id": "iFtix3rdeTHj",
        "outputId": "854f47c7-c12f-43c1-c141-de03124c9082"
      },
      "execution_count": null,
      "outputs": [
        {
          "output_type": "stream",
          "name": "stdout",
          "text": [
            "Nombre de valeurs de sel remplies avant : 255199\n",
            "Nombre de valeurs remplies après : 255199\n"
          ]
        }
      ]
    },
    {
      "cell_type": "markdown",
      "source": [
        "**Comparaison colonnes du nutriscore uk et fr :** on peut s'interesser au deux colonnes des nutriscores uk et fr. Les deux score sont sensés être identiques puisque c'est le même score calculé de la même façon. On peut donc remplir les cases vides du nutriscore fr avec les valeurs du nutriscore uk s'il y en a et inversement. \n",
        "\n",
        "*Finalement toutes les lignes possédant un nutriscore fr possèdent un nutriscore uk et inversement*"
      ],
      "metadata": {
        "id": "A0AiwlUxesrP"
      }
    },
    {
      "cell_type": "code",
      "source": [
        "print(\"Nombre de valeurs de nutriscore uk remplies avant :\", df['nutrition-score-uk_100g'].count())\n",
        "df.loc[df['nutrition-score-uk_100g'].isnull(), 'nutrition-score-uk_100g'] = df.loc[df['nutrition-score-uk_100g'].isnull(), 'nutrition-score-fr_100g']\n",
        "print(\"Nombre de valeurs remplies après :\", df['nutrition-score-uk_100g'].count())"
      ],
      "metadata": {
        "colab": {
          "base_uri": "https://localhost:8080/"
        },
        "id": "i_6860qGgpI8",
        "outputId": "967c69fc-2f0b-4ac2-8ce2-c3edc4ac8ddb"
      },
      "execution_count": null,
      "outputs": [
        {
          "output_type": "stream",
          "name": "stdout",
          "text": [
            "Nombre de valeurs de nutriscore uk remplies avant : 221019\n",
            "Nombre de valeurs remplies après : 221019\n"
          ]
        }
      ]
    },
    {
      "cell_type": "code",
      "source": [
        "print(\"Nombre de valeurs de nutriscore fr remplies avant :\", df['nutrition-score-fr_100g'].count())\n",
        "df.loc[df['nutrition-score-fr_100g'].isnull(), 'nutrition-score-fr_100g'] = df.loc[df['nutrition-score-fr_100g'].isnull(), 'nutrition-score-uk_100g']\n",
        "print(\"Nombre de valeurs remplies après :\", df['nutrition-score-fr_100g'].count())"
      ],
      "metadata": {
        "colab": {
          "base_uri": "https://localhost:8080/"
        },
        "id": "Qq_jmrUEidIW",
        "outputId": "da33eb0a-ec81-49ea-e3d8-921c1a00001c"
      },
      "execution_count": null,
      "outputs": [
        {
          "output_type": "stream",
          "name": "stdout",
          "text": [
            "Nombre de valeurs de nutriscore fr remplies avant : 221019\n",
            "Nombre de valeurs remplies après : 221019\n"
          ]
        }
      ]
    },
    {
      "cell_type": "markdown",
      "source": [
        "**Comparaison des valeurs des deux nutriscores :** Regardons s'il y a des différences entre les deux colonnes. Auquel cas un traitement s'impose. "
      ],
      "metadata": {
        "id": "3jYg-PddjAXL"
      }
    },
    {
      "cell_type": "code",
      "source": [
        "print('Nombres de valeurs dans les colonnes :', df[['nutrition-score-fr_100g', 'nutrition-score-uk_100g']].dropna(axis=0, how='all').count().mean())\n",
        "print('Nombre de valeurs qui ne coincident pas :', df[['nutrition-score-fr_100g', 'nutrition-score-uk_100g']].dropna(axis=0, how='all').loc[df['nutrition-score-fr_100g']!=df['nutrition-score-uk_100g']].count().mean())"
      ],
      "metadata": {
        "colab": {
          "base_uri": "https://localhost:8080/"
        },
        "id": "YKH4UTN6fHfw",
        "outputId": "e497697a-90b4-4319-ac98-170db3f2676b"
      },
      "execution_count": null,
      "outputs": [
        {
          "output_type": "stream",
          "name": "stdout",
          "text": [
            "Nombres de valeurs dans les colonnes : 221019.0\n",
            "Nombre de valeurs qui ne coincident pas : 8320.0\n"
          ]
        }
      ]
    },
    {
      "cell_type": "markdown",
      "source": [
        "Un pourcentage très faible des valeurs ont nutriscores différents. Le nutriscore étant très difficilement calculable due à l'extrêmement faible remplissage d'une des colonne nécéssaires à son calcul, j'attribue aux produits qui ont des nutriscores différents en uk et fr la moyenne des valeurs que l'on a. "
      ],
      "metadata": {
        "id": "0m23oWj5ug-q"
      }
    },
    {
      "cell_type": "code",
      "source": [
        "df['nutriscore'] = (df['nutrition-score-fr_100g']+df['nutrition-score-uk_100g'])/2\n",
        "df = df.drop(columns=['nutrition-score-fr_100g', 'nutrition-score-uk_100g'])"
      ],
      "metadata": {
        "id": "r9Yf1GAqzrJj"
      },
      "execution_count": null,
      "outputs": []
    },
    {
      "cell_type": "markdown",
      "source": [
        "**Comparaison entre nutriscore et nutrition_grade_fr :** le nutriscore donne le résultat numérique du calcul du nutriscore, alors que nutrition_grade_fr donne le nutriscore avec la correspondance alphabétique. On regarde s'il est possible de completer l'une des colonnes avec l'autre. "
      ],
      "metadata": {
        "id": "BiAcFs61XNSF"
      }
    },
    {
      "cell_type": "code",
      "source": [
        "df[['nutriscore', 'nutrition_grade_fr']].dropna(how='all').count()"
      ],
      "metadata": {
        "colab": {
          "base_uri": "https://localhost:8080/"
        },
        "id": "ZjN-sWNEXL4h",
        "outputId": "4da8a01c-2c46-4495-cfc4-02d9bfa504ce"
      },
      "execution_count": null,
      "outputs": [
        {
          "output_type": "execute_result",
          "data": {
            "text/plain": [
              "nutriscore            221019\n",
              "nutrition_grade_fr    221019\n",
              "dtype: int64"
            ]
          },
          "metadata": {},
          "execution_count": 97
        }
      ]
    },
    {
      "cell_type": "markdown",
      "source": [
        "<b>Etat des lieux du remplissage pour les colonnes associées au nutriscore: </b>  "
      ],
      "metadata": {
        "id": "uAg7fvJWkvMd"
      }
    },
    {
      "cell_type": "code",
      "source": [
        "nutri_calc = ['energy_100g', 'saturated-fat_100g', 'sugars_100g', 'sodium_100g',\n",
        "              'fiber_100g', 'proteins_100g', 'fruits-vegetables-nuts_100g', 'nutriscore']\n",
        "plt.figure(figsize=(18,6))\n",
        "plt.xticks(rotation='vertical')\n",
        "plt.bar(nutri_calc, 100*(1-df[nutri_calc].isna().mean()))\n",
        "plt.xlabel('column ID')\n",
        "plt.ylabel('fill %')\n",
        "plt.grid()\n",
        "plt.title('column fill %')"
      ],
      "metadata": {
        "colab": {
          "base_uri": "https://localhost:8080/",
          "height": 551
        },
        "id": "UkKfpEd5VTpE",
        "outputId": "7328d140-c43c-4ac3-845a-e2bb194d4eba"
      },
      "execution_count": null,
      "outputs": [
        {
          "output_type": "execute_result",
          "data": {
            "text/plain": [
              "Text(0.5, 1.0, 'column fill %')"
            ]
          },
          "metadata": {},
          "execution_count": 94
        },
        {
          "output_type": "display_data",
          "data": {
            "text/plain": [
              "<Figure size 1296x432 with 1 Axes>"
            ],
            "image/png": "[encoded data removed]"
          },
          "metadata": {
            "needs_background": "light"
          }
        }
      ]
    },
    {
      "cell_type": "markdown",
      "source": [
        "# **Partie 5 : utilisation de la catégorie des produits**\n",
        "\n",
        "S'intéresser à la catégorie des produits permettra de connaitre les informations nutritionelles typiques pour chaque groupe de produit. \n",
        "De ce fait, on pourra alors remplir les information nutritionelles manquantes d'un produit par les information nutritionelles du groupe auquel il appartient. \n",
        "\n",
        "Regardons les colonnes qui donnent des information sur la catégorie du produit."
      ],
      "metadata": {
        "id": "D4iv6OGDWVYX"
      }
    },
    {
      "cell_type": "code",
      "source": [
        "categs = ['product_name', 'generic_name', 'categories_tags', 'main_category', 'pnns_groups_1', 'pnns_groups_2']"
      ],
      "metadata": {
        "id": "v-BXwQ-0ZKSy"
      },
      "execution_count": null,
      "outputs": []
    },
    {
      "cell_type": "code",
      "source": [
        "df[categs].dropna(axis=0, how='any').head(10)"
      ],
      "metadata": {
        "colab": {
          "base_uri": "https://localhost:8080/",
          "height": 511
        },
        "id": "LYK_xxLIaCk1",
        "outputId": "224eb75d-05cc-4230-cb9e-100aa3c38f07"
      },
      "execution_count": null,
      "outputs": [
        {
          "output_type": "execute_result",
          "data": {
            "text/plain": [
              "                       product_name  \\\n",
              "174                    Salade Cesar   \n",
              "175  Danoises à la cannelle roulées   \n",
              "180    Chaussons tressés aux pommes   \n",
              "181             Pain Burger Artisan   \n",
              "185                 Quiche Lorraine   \n",
              "186                  Pâté au poulet   \n",
              "218              Belgische Pralinen   \n",
              "226           Pepsi, Nouveau goût !   \n",
              "236                     Cauliflower   \n",
              "239                Salsa de mostaza   \n",
              "\n",
              "                                          generic_name  \\\n",
              "174                                   Laitue en salade   \n",
              "175                                        Pâtisserie    \n",
              "180                                         Pâtisserie   \n",
              "181                                               Pain   \n",
              "185                                    Quiche lorraine   \n",
              "186                                   Pâté à la viande   \n",
              "218                                   Pralinenmischung   \n",
              "226  Boisson gazeuse rafraîchissante aux extraits n...   \n",
              "236                                        Cauliflower   \n",
              "239                                   Salsa de mostaza   \n",
              "\n",
              "                                       categories_tags  \\\n",
              "174  en:plant-based-foods-and-beverages,en:plant-ba...   \n",
              "175  en:sugary-snacks,en:biscuits-and-cakes,en:past...   \n",
              "180  en:sugary-snacks,en:biscuits-and-cakes,en:past...   \n",
              "181                                        fr:boulange   \n",
              "185  en:meals,en:pizzas-pies-and-quiches,en:quiches...   \n",
              "186  en:meats,en:poultries,en:chickens,en:cooked-ch...   \n",
              "218  en:plant-based-foods-and-beverages,en:plant-ba...   \n",
              "226  en:beverages,en:carbonated-drinks,en:sodas,en:...   \n",
              "236  en:plant-based-foods-and-beverages,en:plant-ba...   \n",
              "239   en:groceries,en:condiments,en:sauces,en:mustards   \n",
              "\n",
              "                          main_category          pnns_groups_1  \\\n",
              "174                 en:fresh-vegetables  Fruits and vegetables   \n",
              "175                         en:pastries          Sugary snacks   \n",
              "180                         en:pastries          Sugary snacks   \n",
              "181                         fr:boulange                unknown   \n",
              "185                            en:meals        Composite foods   \n",
              "186                        en:poultries         Fish Meat Eggs   \n",
              "218  en:plant-based-foods-and-beverages          Sugary snacks   \n",
              "226                            en:sodas              Beverages   \n",
              "236                 en:fresh-vegetables  Fruits and vegetables   \n",
              "239                       en:condiments         Fat and sauces   \n",
              "\n",
              "             pnns_groups_2  \n",
              "174             Vegetables  \n",
              "175     Biscuits and cakes  \n",
              "180     Biscuits and cakes  \n",
              "181                unknown  \n",
              "185  Pizza pies and quiche  \n",
              "186                   Meat  \n",
              "218                 Sweets  \n",
              "226    Sweetened beverages  \n",
              "236             Vegetables  \n",
              "239   Dressings and sauces  "
            ],
            "text/html": [
              "\n",
              "  <div id=\"df-376a9065-7c42-43da-bf22-3c2baaf87bcc\">\n",
              "    <div class=\"colab-df-container\">\n",
              "      <div>\n",
              "<style scoped>\n",
              "    .dataframe tbody tr th:only-of-type {\n",
              "        vertical-align: middle;\n",
              "    }\n",
              "\n",
              "    .dataframe tbody tr th {\n",
              "        vertical-align: top;\n",
              "    }\n",
              "\n",
              "    .dataframe thead th {\n",
              "        text-align: right;\n",
              "    }\n",
              "</style>\n",
              "<table border=\"1\" class=\"dataframe\">\n",
              "  <thead>\n",
              "    <tr style=\"text-align: right;\">\n",
              "      <th></th>\n",
              "      <th>product_name</th>\n",
              "      <th>generic_name</th>\n",
              "      <th>categories_tags</th>\n",
              "      <th>main_category</th>\n",
              "      <th>pnns_groups_1</th>\n",
              "      <th>pnns_groups_2</th>\n",
              "    </tr>\n",
              "  </thead>\n",
              "  <tbody>\n",
              "    <tr>\n",
              "      <th>174</th>\n",
              "      <td>Salade Cesar</td>\n",
              "      <td>Laitue en salade</td>\n",
              "      <td>en:plant-based-foods-and-beverages,en:plant-ba...</td>\n",
              "      <td>en:fresh-vegetables</td>\n",
              "      <td>Fruits and vegetables</td>\n",
              "      <td>Vegetables</td>\n",
              "    </tr>\n",
              "    <tr>\n",
              "      <th>175</th>\n",
              "      <td>Danoises à la cannelle roulées</td>\n",
              "      <td>Pâtisserie</td>\n",
              "      <td>en:sugary-snacks,en:biscuits-and-cakes,en:past...</td>\n",
              "      <td>en:pastries</td>\n",
              "      <td>Sugary snacks</td>\n",
              "      <td>Biscuits and cakes</td>\n",
              "    </tr>\n",
              "    <tr>\n",
              "      <th>180</th>\n",
              "      <td>Chaussons tressés aux pommes</td>\n",
              "      <td>Pâtisserie</td>\n",
              "      <td>en:sugary-snacks,en:biscuits-and-cakes,en:past...</td>\n",
              "      <td>en:pastries</td>\n",
              "      <td>Sugary snacks</td>\n",
              "      <td>Biscuits and cakes</td>\n",
              "    </tr>\n",
              "    <tr>\n",
              "      <th>181</th>\n",
              "      <td>Pain Burger Artisan</td>\n",
              "      <td>Pain</td>\n",
              "      <td>fr:boulange</td>\n",
              "      <td>fr:boulange</td>\n",
              "      <td>unknown</td>\n",
              "      <td>unknown</td>\n",
              "    </tr>\n",
              "    <tr>\n",
              "      <th>185</th>\n",
              "      <td>Quiche Lorraine</td>\n",
              "      <td>Quiche lorraine</td>\n",
              "      <td>en:meals,en:pizzas-pies-and-quiches,en:quiches...</td>\n",
              "      <td>en:meals</td>\n",
              "      <td>Composite foods</td>\n",
              "      <td>Pizza pies and quiche</td>\n",
              "    </tr>\n",
              "    <tr>\n",
              "      <th>186</th>\n",
              "      <td>Pâté au poulet</td>\n",
              "      <td>Pâté à la viande</td>\n",
              "      <td>en:meats,en:poultries,en:chickens,en:cooked-ch...</td>\n",
              "      <td>en:poultries</td>\n",
              "      <td>Fish Meat Eggs</td>\n",
              "      <td>Meat</td>\n",
              "    </tr>\n",
              "    <tr>\n",
              "      <th>218</th>\n",
              "      <td>Belgische Pralinen</td>\n",
              "      <td>Pralinenmischung</td>\n",
              "      <td>en:plant-based-foods-and-beverages,en:plant-ba...</td>\n",
              "      <td>en:plant-based-foods-and-beverages</td>\n",
              "      <td>Sugary snacks</td>\n",
              "      <td>Sweets</td>\n",
              "    </tr>\n",
              "    <tr>\n",
              "      <th>226</th>\n",
              "      <td>Pepsi, Nouveau goût !</td>\n",
              "      <td>Boisson gazeuse rafraîchissante aux extraits n...</td>\n",
              "      <td>en:beverages,en:carbonated-drinks,en:sodas,en:...</td>\n",
              "      <td>en:sodas</td>\n",
              "      <td>Beverages</td>\n",
              "      <td>Sweetened beverages</td>\n",
              "    </tr>\n",
              "    <tr>\n",
              "      <th>236</th>\n",
              "      <td>Cauliflower</td>\n",
              "      <td>Cauliflower</td>\n",
              "      <td>en:plant-based-foods-and-beverages,en:plant-ba...</td>\n",
              "      <td>en:fresh-vegetables</td>\n",
              "      <td>Fruits and vegetables</td>\n",
              "      <td>Vegetables</td>\n",
              "    </tr>\n",
              "    <tr>\n",
              "      <th>239</th>\n",
              "      <td>Salsa de mostaza</td>\n",
              "      <td>Salsa de mostaza</td>\n",
              "      <td>en:groceries,en:condiments,en:sauces,en:mustards</td>\n",
              "      <td>en:condiments</td>\n",
              "      <td>Fat and sauces</td>\n",
              "      <td>Dressings and sauces</td>\n",
              "    </tr>\n",
              "  </tbody>\n",
              "</table>\n",
              "</div>\n",
              "      <button class=\"colab-df-convert\" onclick=\"convertToInteractive('df-376a9065-7c42-43da-bf22-3c2baaf87bcc')\"\n",
              "              title=\"Convert this dataframe to an interactive table.\"\n",
              "              style=\"display:none;\">\n",
              "        \n",
              "  <svg xmlns=\"http://www.w3.org/2000/svg\" height=\"24px\"viewBox=\"0 0 24 24\"\n",
              "       width=\"24px\">\n",
              "    <path d=\"M0 0h24v24H0V0z\" fill=\"none\"/>\n",
              "    <path d=\"M18.56 5.44l.94 2.06.94-2.06 2.06-.94-2.06-.94-.94-2.06-.94 2.06-2.06.94zm-11 1L8.5 8.5l.94-2.06 2.06-.94-2.06-.94L8.5 2.5l-.94 2.06-2.06.94zm10 10l.94 2.06.94-2.06 2.06-.94-2.06-.94-.94-2.06-.94 2.06-2.06.94z\"/><path d=\"M17.41 7.96l-1.37-1.37c-.4-.4-.92-.59-1.43-.59-.52 0-1.04.2-1.43.59L10.3 9.45l-7.72 7.72c-.78.78-.78 2.05 0 2.83L4 21.41c.39.39.9.59 1.41.59.51 0 1.02-.2 1.41-.59l7.78-7.78 2.81-2.81c.8-.78.8-2.07 0-2.86zM5.41 20L4 18.59l7.72-7.72 1.47 1.35L5.41 20z\"/>\n",
              "  </svg>\n",
              "      </button>\n",
              "      \n",
              "  <style>\n",
              "    .colab-df-container {\n",
              "      display:flex;\n",
              "      flex-wrap:wrap;\n",
              "      gap: 12px;\n",
              "    }\n",
              "\n",
              "    .colab-df-convert {\n",
              "      background-color: #E8F0FE;\n",
              "      border: none;\n",
              "      border-radius: 50%;\n",
              "      cursor: pointer;\n",
              "      display: none;\n",
              "      fill: #1967D2;\n",
              "      height: 32px;\n",
              "      padding: 0 0 0 0;\n",
              "      width: 32px;\n",
              "    }\n",
              "\n",
              "    .colab-df-convert:hover {\n",
              "      background-color: #E2EBFA;\n",
              "      box-shadow: 0px 1px 2px rgba(60, 64, 67, 0.3), 0px 1px 3px 1px rgba(60, 64, 67, 0.15);\n",
              "      fill: #174EA6;\n",
              "    }\n",
              "\n",
              "    [theme=dark] .colab-df-convert {\n",
              "      background-color: #3B4455;\n",
              "      fill: #D2E3FC;\n",
              "    }\n",
              "\n",
              "    [theme=dark] .colab-df-convert:hover {\n",
              "      background-color: #434B5C;\n",
              "      box-shadow: 0px 1px 3px 1px rgba(0, 0, 0, 0.15);\n",
              "      filter: drop-shadow(0px 1px 2px rgba(0, 0, 0, 0.3));\n",
              "      fill: #FFFFFF;\n",
              "    }\n",
              "  </style>\n",
              "\n",
              "      <script>\n",
              "        const buttonEl =\n",
              "          document.querySelector('#df-376a9065-7c42-43da-bf22-3c2baaf87bcc button.colab-df-convert');\n",
              "        buttonEl.style.display =\n",
              "          google.colab.kernel.accessAllowed ? 'block' : 'none';\n",
              "\n",
              "        async function convertToInteractive(key) {\n",
              "          const element = document.querySelector('#df-376a9065-7c42-43da-bf22-3c2baaf87bcc');\n",
              "          const dataTable =\n",
              "            await google.colab.kernel.invokeFunction('convertToInteractive',\n",
              "                                                     [key], {});\n",
              "          if (!dataTable) return;\n",
              "\n",
              "          const docLinkHtml = 'Like what you see? Visit the ' +\n",
              "            '<a target=\"_blank\" href=https://colab.research.google.com/notebooks/data_table.ipynb>data table notebook</a>'\n",
              "            + ' to learn more about interactive tables.';\n",
              "          element.innerHTML = '';\n",
              "          dataTable['output_type'] = 'display_data';\n",
              "          await google.colab.output.renderOutput(dataTable, element);\n",
              "          const docLink = document.createElement('div');\n",
              "          docLink.innerHTML = docLinkHtml;\n",
              "          element.appendChild(docLink);\n",
              "        }\n",
              "      </script>\n",
              "    </div>\n",
              "  </div>\n",
              "  "
            ]
          },
          "metadata": {},
          "execution_count": 99
        }
      ]
    },
    {
      "cell_type": "code",
      "source": [
        "df[categs].count()"
      ],
      "metadata": {
        "colab": {
          "base_uri": "https://localhost:8080/"
        },
        "id": "QEdBZ0RlbRY0",
        "outputId": "922edee4-871f-4956-9e6f-778f29d6c312"
      },
      "execution_count": null,
      "outputs": [
        {
          "output_type": "execute_result",
          "data": {
            "text/plain": [
              "product_name       257326\n",
              "generic_name        42917\n",
              "categories_tags     62914\n",
              "main_category       62914\n",
              "pnns_groups_1       67267\n",
              "pnns_groups_2       67416\n",
              "dtype: int64"
            ]
          },
          "metadata": {},
          "execution_count": 100
        }
      ]
    },
    {
      "cell_type": "code",
      "source": [
        "df[categs].nunique()"
      ],
      "metadata": {
        "colab": {
          "base_uri": "https://localhost:8080/"
        },
        "id": "2uGxI3F0cqQ4",
        "outputId": "67b0d37b-5c40-4729-aab4-372110405065"
      },
      "execution_count": null,
      "outputs": [
        {
          "output_type": "execute_result",
          "data": {
            "text/plain": [
              "product_name       185774\n",
              "generic_name        32162\n",
              "categories_tags     16103\n",
              "main_category        2317\n",
              "pnns_groups_1          14\n",
              "pnns_groups_2          42\n",
              "dtype: int64"
            ]
          },
          "metadata": {},
          "execution_count": 101
        }
      ]
    },
    {
      "cell_type": "code",
      "source": [
        "(df[categs].nunique()/df[categs].count()).sort_values(ascending=False)"
      ],
      "metadata": {
        "colab": {
          "base_uri": "https://localhost:8080/"
        },
        "id": "CNjQAD6-czmc",
        "outputId": "f7ccca91-75b3-4f74-ad0c-f5ef834cd8fc"
      },
      "execution_count": null,
      "outputs": [
        {
          "output_type": "execute_result",
          "data": {
            "text/plain": [
              "generic_name       0.749400\n",
              "product_name       0.721940\n",
              "categories_tags    0.255953\n",
              "main_category      0.036828\n",
              "pnns_groups_2      0.000623\n",
              "pnns_groups_1      0.000208\n",
              "dtype: float64"
            ]
          },
          "metadata": {},
          "execution_count": 102
        }
      ]
    },
    {
      "cell_type": "markdown",
      "source": [
        "Afin de classifier les produits avec le moins de biais possible, on va utiliser une catégorisation très spécifique pour remplir les informations nutritionelles manquantes de certains produits par celle du groupe auquel il appartient. \n",
        "Cependant on va éviter les catégorisation trop spécifiques pour pas introduire trop d'erreurs de variance. \n",
        "\n",
        "On va utiliser 'categories_tags' puis 'main_category' puis les deux pnns groups.\n",
        "\n",
        "On utilise la médianne dans le cas où il existerait beacoup de valeurs abérantes."
      ],
      "metadata": {
        "id": "djtlXOz8cXMo"
      }
    },
    {
      "cell_type": "markdown",
      "source": [
        "**Utilisation de categories:**"
      ],
      "metadata": {
        "id": "Jb7_6bQ9fabE"
      }
    },
    {
      "cell_type": "code",
      "source": [
        "liste = df['categories_tags'].dropna().unique()\n",
        "for m in liste:\n",
        "  medians = df.loc[df['categories_tags']==m, nutri_calc].median()\n",
        "  for col in nutri_calc:\n",
        "    df.loc[(df['categories_tags']==m)&(df[col].isna()), col] = medians.loc[col]"
      ],
      "metadata": {
        "id": "kxOic0DJfiuc"
      },
      "execution_count": null,
      "outputs": []
    },
    {
      "cell_type": "markdown",
      "source": [
        "**Utilisation de main_category :**"
      ],
      "metadata": {
        "id": "t-GFuMqwjvwn"
      }
    },
    {
      "cell_type": "code",
      "source": [
        "liste = df['main_category'].dropna().unique()\n",
        "for m in liste:\n",
        "  medians = df.loc[df['main_category']==m, nutri_calc].median()\n",
        "  for col in nutri_calc:\n",
        "    df.loc[(df['main_category']==m)&(df[col].isna()), col] = medians.loc[col]"
      ],
      "metadata": {
        "id": "AmQHc6lAj1bA"
      },
      "execution_count": null,
      "outputs": []
    },
    {
      "cell_type": "markdown",
      "source": [
        "**Utilisation de pnns_groups_2 :**"
      ],
      "metadata": {
        "id": "bWNg5unsj9TI"
      }
    },
    {
      "cell_type": "code",
      "source": [
        "liste = df['pnns_groups_2'].dropna().unique()\n",
        "for m in liste:\n",
        "  medians = df.loc[df['pnns_groups_2']==m, nutri_calc].median()\n",
        "  for col in nutri_calc:\n",
        "    df.loc[(df['pnns_groups_2']==m)&(df[col].isna()), col] = medians.loc[col]"
      ],
      "metadata": {
        "id": "arQuQcBnkEU5"
      },
      "execution_count": null,
      "outputs": []
    },
    {
      "cell_type": "markdown",
      "source": [
        "**Utilisation de pnns_groups_1 :**"
      ],
      "metadata": {
        "id": "1iJ_VvnYkWQp"
      }
    },
    {
      "cell_type": "code",
      "source": [
        "liste = df['pnns_groups_1'].dropna().unique()\n",
        "for m in liste:\n",
        "  medians = df.loc[df['pnns_groups_1']==m, nutri_calc].median()\n",
        "  for col in nutri_calc:\n",
        "    df.loc[(df['pnns_groups_1']==m)&(df[col].isna()), col] = medians.loc[col]"
      ],
      "metadata": {
        "id": "AeSW7s-gkawb"
      },
      "execution_count": null,
      "outputs": []
    },
    {
      "cell_type": "markdown",
      "source": [
        "**Etat des lieux du remplissage du dataset :**"
      ],
      "metadata": {
        "id": "B7Bp2D-jlUey"
      }
    },
    {
      "cell_type": "code",
      "source": [
        "plt.figure(figsize=(18,6))\n",
        "plt.xticks(rotation='vertical')\n",
        "plt.bar(nutri_calc, 100*(1-df[nutri_calc].isna().mean()))\n",
        "plt.xlabel('column ID')\n",
        "plt.ylabel('fill %')\n",
        "plt.grid()\n",
        "plt.title('column fill %')"
      ],
      "metadata": {
        "colab": {
          "base_uri": "https://localhost:8080/",
          "height": 551
        },
        "id": "6qXBLGeFlSMk",
        "outputId": "625a03ce-5e29-40b8-fd2e-01bdd8305062"
      },
      "execution_count": null,
      "outputs": [
        {
          "output_type": "execute_result",
          "data": {
            "text/plain": [
              "Text(0.5, 1.0, 'column fill %')"
            ]
          },
          "metadata": {},
          "execution_count": 109
        },
        {
          "output_type": "display_data",
          "data": {
            "text/plain": [
              "<Figure size 1296x432 with 1 Axes>"
            ],
            "image/png": "[encoded data removed]"
          },
          "metadata": {
            "needs_background": "light"
          }
        }
      ]
    },
    {
      "cell_type": "code",
      "source": [
        "msno.matrix(df)"
      ],
      "metadata": {
        "colab": {
          "base_uri": "https://localhost:8080/",
          "height": 737
        },
        "id": "jRqqUDVb9KM3",
        "outputId": "cc73696d-bd1e-426a-8e9b-c27280adda57"
      },
      "execution_count": null,
      "outputs": [
        {
          "output_type": "execute_result",
          "data": {
            "text/plain": [
              "<matplotlib.axes._subplots.AxesSubplot at 0x7f55bc51d0d0>"
            ]
          },
          "metadata": {},
          "execution_count": 110
        },
        {
          "output_type": "display_data",
          "data": {
            "text/plain": [
              "<Figure size 1800x720 with 2 Axes>"
            ],
            "image/png": "[encoded data removed]"
          },
          "metadata": {
            "needs_background": "light"
          }
        }
      ]
    },
    {
      "cell_type": "markdown",
      "source": [
        "% de cases vides dans les colonnes nutritionelles :"
      ],
      "metadata": {
        "id": "urwNSbqZ-jSh"
      }
    },
    {
      "cell_type": "code",
      "source": [
        "df[nutri_calc].isna().sum().sum()/(df[nutri_calc].shape[0]*df[nutri_calc].shape[1])"
      ],
      "metadata": {
        "colab": {
          "base_uri": "https://localhost:8080/"
        },
        "id": "s4rOB08R-RAl",
        "outputId": "4cdffd83-f837-4d76-c005-bef507dee9f9"
      },
      "execution_count": null,
      "outputs": [
        {
          "output_type": "execute_result",
          "data": {
            "text/plain": [
              "0.1447900187383845"
            ]
          },
          "metadata": {},
          "execution_count": 111
        }
      ]
    },
    {
      "cell_type": "markdown",
      "source": [
        "*Export et réimport du dataframe obtenu (uniquement pour ne pas attendre les temps de calculs précédents pour attaquer la partie 6 après extinction du service Google Colab).*"
      ],
      "metadata": {
        "id": "ikLD7shWbNPD"
      }
    },
    {
      "cell_type": "code",
      "source": [
        "df.to_csv(\"drive/MyDrive/CSV/open_food_facts.csv\")"
      ],
      "metadata": {
        "id": "UmUsOg5nEPAS"
      },
      "execution_count": null,
      "outputs": []
    },
    {
      "cell_type": "code",
      "source": [
        "df = pd.read_csv(\"drive/MyDrive/CSV/open_food_facts.csv\", sep=\",\", index_col=0)"
      ],
      "metadata": {
        "id": "CTN69PAYbASi",
        "colab": {
          "base_uri": "https://localhost:8080/"
        },
        "outputId": "7fc55f8a-4492-45af-c339-034e9b785183"
      },
      "execution_count": null,
      "outputs": [
        {
          "output_type": "stream",
          "name": "stderr",
          "text": [
            "/usr/local/lib/python3.7/dist-packages/IPython/core/interactiveshell.py:3326: DtypeWarning: Columns (1) have mixed types.Specify dtype option on import or set low_memory=False.\n",
            "  exec(code_obj, self.user_global_ns, self.user_ns)\n"
          ]
        }
      ]
    },
    {
      "cell_type": "markdown",
      "source": [
        "# **Partie 6 : valeurs aberrantes**\n",
        "\n",
        "Regardons s'il y a des valeurs aberrantes dans le dataset avant de completer les NaN. Déjà c'est impossible d'avoir des valeurs négatives pour les valeurs nutritionelles (à part le nutriscore). Et certaines valeurs ne peuvent pas dépasser 100 pour les valeurs nutritionelle 100g (toutes sauf l'énergie). \n"
      ],
      "metadata": {
        "id": "MTcDqREzlSF2"
      }
    },
    {
      "cell_type": "markdown",
      "source": [
        "**Remplacement de toutes les valeurs nutritionelles négatives par 0 :**"
      ],
      "metadata": {
        "id": "DD0sj4ebnoUV"
      }
    },
    {
      "cell_type": "code",
      "source": [
        "df.boxplot(column=['additives_n', 'ingredients_from_palm_oil_n', 'fat_100g', 'saturated-fat_100g', \n",
        "                   'carbohydrates_100g', 'sugars_100g', 'fiber_100g', 'proteins_100g', 'vitamin-a_100g', \n",
        "                   'vitamin-c_100g', 'calcium_100g', 'iron_100g', 'fruits-vegetables-nuts_100g'], \n",
        "           rot=75, \n",
        "           figsize=(10,8))"
      ],
      "metadata": {
        "colab": {
          "base_uri": "https://localhost:8080/",
          "height": 685
        },
        "id": "KzTNXbK7J9jl",
        "outputId": "8fc07f88-e90b-4542-f303-8bbf03c4619c"
      },
      "execution_count": null,
      "outputs": [
        {
          "output_type": "stream",
          "name": "stderr",
          "text": [
            "/usr/local/lib/python3.7/dist-packages/matplotlib/cbook/__init__.py:1376: VisibleDeprecationWarning: Creating an ndarray from ragged nested sequences (which is a list-or-tuple of lists-or-tuples-or ndarrays with different lengths or shapes) is deprecated. If you meant to do this, you must specify 'dtype=object' when creating the ndarray.\n",
            "  X = np.atleast_1d(X.T if isinstance(X, np.ndarray) else np.asarray(X))\n"
          ]
        },
        {
          "output_type": "execute_result",
          "data": {
            "text/plain": [
              "<matplotlib.axes._subplots.AxesSubplot at 0x7f4bdcf1e350>"
            ]
          },
          "metadata": {},
          "execution_count": 98
        },
        {
          "output_type": "display_data",
          "data": {
            "text/plain": [
              "<Figure size 720x576 with 1 Axes>"
            ],
            "image/png": "[encoded data removed]"
          },
          "metadata": {
            "needs_background": "light"
          }
        }
      ]
    },
    {
      "cell_type": "code",
      "source": [
        "cols = ['additives_n', 'ingredients_from_palm_oil_n', 'energy_100g', 'fat_100g',\n",
        "       'saturated-fat_100g', 'carbohydrates_100g', 'sugars_100g', 'fiber_100g',\n",
        "       'proteins_100g', 'salt_100g', 'sodium_100g', 'vitamin-a_100g',\n",
        "       'vitamin-c_100g', 'calcium_100g', 'iron_100g',\n",
        "       'fruits-vegetables-nuts_100g']\n",
        "for col in cols:\n",
        "  df.loc[df[col]<0, col] = 0"
      ],
      "metadata": {
        "id": "ZpVYKcenl9CY"
      },
      "execution_count": null,
      "outputs": []
    },
    {
      "cell_type": "markdown",
      "source": [
        "**Remplacement des valeurs nutritionelles superieures à 100 par 100 :** (sauf energy_100g)"
      ],
      "metadata": {
        "id": "radYbr60n563"
      }
    },
    {
      "cell_type": "code",
      "source": [
        "cols=[ 'saturated-fat_100g', 'carbohydrates_100g', 'sugars_100g', 'fiber_100g',\n",
        "       'proteins_100g', 'salt_100g', 'sodium_100g', 'vitamin-a_100g',\n",
        "       'vitamin-c_100g', 'calcium_100g', 'iron_100g',\n",
        "       'fruits-vegetables-nuts_100g', 'fat_100g']\n",
        "for col in cols:\n",
        "  df.loc[df[col]>100, col] = 100"
      ],
      "metadata": {
        "id": "lrucjWe5n6ED"
      },
      "execution_count": null,
      "outputs": []
    },
    {
      "cell_type": "code",
      "source": [
        "df.describe()"
      ],
      "metadata": {
        "colab": {
          "base_uri": "https://localhost:8080/",
          "height": 399
        },
        "id": "WrfqdYmDntMT",
        "outputId": "c7e7c902-e6e0-47d9-d598-cb0007b531bf"
      },
      "execution_count": null,
      "outputs": [
        {
          "output_type": "execute_result",
          "data": {
            "text/plain": [
              "         additives_n  ingredients_from_palm_oil_n   energy_100g  \\\n",
              "count  233911.000000                233911.000000  2.600810e+05   \n",
              "mean        1.998474                     0.019589  1.142328e+03   \n",
              "std         2.516659                     0.140299  6.459575e+03   \n",
              "min         0.000000                     0.000000  0.000000e+00   \n",
              "25%         0.000000                     0.000000  3.770000e+02   \n",
              "50%         1.000000                     0.000000  1.100000e+03   \n",
              "75%         3.000000                     0.000000  1.674000e+03   \n",
              "max        31.000000                     2.000000  3.251373e+06   \n",
              "\n",
              "            fat_100g  saturated-fat_100g  carbohydrates_100g    sugars_100g  \\\n",
              "count  242768.000000       233504.000000       242780.000000  248589.000000   \n",
              "mean       12.682186            5.092722           32.078233      15.865967   \n",
              "std        17.448114            7.886171           29.139121      21.101159   \n",
              "min         0.000000            0.000000            0.000000       0.000000   \n",
              "25%         0.000000            0.000000            6.000000       1.300000   \n",
              "50%         5.000000            1.790000           20.710000       5.560000   \n",
              "75%        20.000000            7.140000           58.330000      23.640000   \n",
              "max       100.000000          100.000000          100.000000     100.000000   \n",
              "\n",
              "          fiber_100g  proteins_100g      salt_100g    sodium_100g  \\\n",
              "count  226966.000000  259647.000000  255199.000000  258847.000000   \n",
              "mean        2.680971       7.072134       1.643377       0.653973   \n",
              "std         4.416107       8.148725       6.658607       2.858640   \n",
              "min         0.000000       0.000000       0.000000       0.000000   \n",
              "25%         0.000000       0.700000       0.063500       0.025000   \n",
              "50%         1.400000       4.760000       0.584200       0.229000   \n",
              "75%         3.500000      10.000000       1.376680       0.538000   \n",
              "max       100.000000     100.000000     100.000000     100.000000   \n",
              "\n",
              "       vitamin-a_100g  vitamin-c_100g   calcium_100g      iron_100g  \\\n",
              "count   137528.000000   140792.000000  140816.000000  140425.000000   \n",
              "mean         0.000396        0.014684       0.107999       0.003650   \n",
              "std          0.073285        0.557822       0.988140       0.214435   \n",
              "min          0.000000        0.000000       0.000000       0.000000   \n",
              "25%          0.000000        0.000000       0.000000       0.000000   \n",
              "50%          0.000000        0.000000       0.035000       0.001010   \n",
              "75%          0.000107        0.003700       0.106000       0.002400   \n",
              "max         26.700000      100.000000     100.000000      50.000000   \n",
              "\n",
              "       fruits-vegetables-nuts_100g     nutriscore  \n",
              "count                 67416.000000  226715.000000  \n",
              "mean                     17.640359       9.068723  \n",
              "std                      31.642317       9.063326  \n",
              "min                       0.000000     -15.000000  \n",
              "25%                       0.000000       1.000000  \n",
              "50%                       0.000000       9.000000  \n",
              "75%                      15.000000      16.000000  \n",
              "max                     100.000000      40.000000  "
            ],
            "text/html": [
              "\n",
              "  <div id=\"df-b9485e83-43bf-45c2-9db5-8b5fd1025009\">\n",
              "    <div class=\"colab-df-container\">\n",
              "      <div>\n",
              "<style scoped>\n",
              "    .dataframe tbody tr th:only-of-type {\n",
              "        vertical-align: middle;\n",
              "    }\n",
              "\n",
              "    .dataframe tbody tr th {\n",
              "        vertical-align: top;\n",
              "    }\n",
              "\n",
              "    .dataframe thead th {\n",
              "        text-align: right;\n",
              "    }\n",
              "</style>\n",
              "<table border=\"1\" class=\"dataframe\">\n",
              "  <thead>\n",
              "    <tr style=\"text-align: right;\">\n",
              "      <th></th>\n",
              "      <th>additives_n</th>\n",
              "      <th>ingredients_from_palm_oil_n</th>\n",
              "      <th>energy_100g</th>\n",
              "      <th>fat_100g</th>\n",
              "      <th>saturated-fat_100g</th>\n",
              "      <th>carbohydrates_100g</th>\n",
              "      <th>sugars_100g</th>\n",
              "      <th>fiber_100g</th>\n",
              "      <th>proteins_100g</th>\n",
              "      <th>salt_100g</th>\n",
              "      <th>sodium_100g</th>\n",
              "      <th>vitamin-a_100g</th>\n",
              "      <th>vitamin-c_100g</th>\n",
              "      <th>calcium_100g</th>\n",
              "      <th>iron_100g</th>\n",
              "      <th>fruits-vegetables-nuts_100g</th>\n",
              "      <th>nutriscore</th>\n",
              "    </tr>\n",
              "  </thead>\n",
              "  <tbody>\n",
              "    <tr>\n",
              "      <th>count</th>\n",
              "      <td>233911.000000</td>\n",
              "      <td>233911.000000</td>\n",
              "      <td>2.600810e+05</td>\n",
              "      <td>242768.000000</td>\n",
              "      <td>233504.000000</td>\n",
              "      <td>242780.000000</td>\n",
              "      <td>248589.000000</td>\n",
              "      <td>226966.000000</td>\n",
              "      <td>259647.000000</td>\n",
              "      <td>255199.000000</td>\n",
              "      <td>258847.000000</td>\n",
              "      <td>137528.000000</td>\n",
              "      <td>140792.000000</td>\n",
              "      <td>140816.000000</td>\n",
              "      <td>140425.000000</td>\n",
              "      <td>67416.000000</td>\n",
              "      <td>226715.000000</td>\n",
              "    </tr>\n",
              "    <tr>\n",
              "      <th>mean</th>\n",
              "      <td>1.998474</td>\n",
              "      <td>0.019589</td>\n",
              "      <td>1.142328e+03</td>\n",
              "      <td>12.682186</td>\n",
              "      <td>5.092722</td>\n",
              "      <td>32.078233</td>\n",
              "      <td>15.865967</td>\n",
              "      <td>2.680971</td>\n",
              "      <td>7.072134</td>\n",
              "      <td>1.643377</td>\n",
              "      <td>0.653973</td>\n",
              "      <td>0.000396</td>\n",
              "      <td>0.014684</td>\n",
              "      <td>0.107999</td>\n",
              "      <td>0.003650</td>\n",
              "      <td>17.640359</td>\n",
              "      <td>9.068723</td>\n",
              "    </tr>\n",
              "    <tr>\n",
              "      <th>std</th>\n",
              "      <td>2.516659</td>\n",
              "      <td>0.140299</td>\n",
              "      <td>6.459575e+03</td>\n",
              "      <td>17.448114</td>\n",
              "      <td>7.886171</td>\n",
              "      <td>29.139121</td>\n",
              "      <td>21.101159</td>\n",
              "      <td>4.416107</td>\n",
              "      <td>8.148725</td>\n",
              "      <td>6.658607</td>\n",
              "      <td>2.858640</td>\n",
              "      <td>0.073285</td>\n",
              "      <td>0.557822</td>\n",
              "      <td>0.988140</td>\n",
              "      <td>0.214435</td>\n",
              "      <td>31.642317</td>\n",
              "      <td>9.063326</td>\n",
              "    </tr>\n",
              "    <tr>\n",
              "      <th>min</th>\n",
              "      <td>0.000000</td>\n",
              "      <td>0.000000</td>\n",
              "      <td>0.000000e+00</td>\n",
              "      <td>0.000000</td>\n",
              "      <td>0.000000</td>\n",
              "      <td>0.000000</td>\n",
              "      <td>0.000000</td>\n",
              "      <td>0.000000</td>\n",
              "      <td>0.000000</td>\n",
              "      <td>0.000000</td>\n",
              "      <td>0.000000</td>\n",
              "      <td>0.000000</td>\n",
              "      <td>0.000000</td>\n",
              "      <td>0.000000</td>\n",
              "      <td>0.000000</td>\n",
              "      <td>0.000000</td>\n",
              "      <td>-15.000000</td>\n",
              "    </tr>\n",
              "    <tr>\n",
              "      <th>25%</th>\n",
              "      <td>0.000000</td>\n",
              "      <td>0.000000</td>\n",
              "      <td>3.770000e+02</td>\n",
              "      <td>0.000000</td>\n",
              "      <td>0.000000</td>\n",
              "      <td>6.000000</td>\n",
              "      <td>1.300000</td>\n",
              "      <td>0.000000</td>\n",
              "      <td>0.700000</td>\n",
              "      <td>0.063500</td>\n",
              "      <td>0.025000</td>\n",
              "      <td>0.000000</td>\n",
              "      <td>0.000000</td>\n",
              "      <td>0.000000</td>\n",
              "      <td>0.000000</td>\n",
              "      <td>0.000000</td>\n",
              "      <td>1.000000</td>\n",
              "    </tr>\n",
              "    <tr>\n",
              "      <th>50%</th>\n",
              "      <td>1.000000</td>\n",
              "      <td>0.000000</td>\n",
              "      <td>1.100000e+03</td>\n",
              "      <td>5.000000</td>\n",
              "      <td>1.790000</td>\n",
              "      <td>20.710000</td>\n",
              "      <td>5.560000</td>\n",
              "      <td>1.400000</td>\n",
              "      <td>4.760000</td>\n",
              "      <td>0.584200</td>\n",
              "      <td>0.229000</td>\n",
              "      <td>0.000000</td>\n",
              "      <td>0.000000</td>\n",
              "      <td>0.035000</td>\n",
              "      <td>0.001010</td>\n",
              "      <td>0.000000</td>\n",
              "      <td>9.000000</td>\n",
              "    </tr>\n",
              "    <tr>\n",
              "      <th>75%</th>\n",
              "      <td>3.000000</td>\n",
              "      <td>0.000000</td>\n",
              "      <td>1.674000e+03</td>\n",
              "      <td>20.000000</td>\n",
              "      <td>7.140000</td>\n",
              "      <td>58.330000</td>\n",
              "      <td>23.640000</td>\n",
              "      <td>3.500000</td>\n",
              "      <td>10.000000</td>\n",
              "      <td>1.376680</td>\n",
              "      <td>0.538000</td>\n",
              "      <td>0.000107</td>\n",
              "      <td>0.003700</td>\n",
              "      <td>0.106000</td>\n",
              "      <td>0.002400</td>\n",
              "      <td>15.000000</td>\n",
              "      <td>16.000000</td>\n",
              "    </tr>\n",
              "    <tr>\n",
              "      <th>max</th>\n",
              "      <td>31.000000</td>\n",
              "      <td>2.000000</td>\n",
              "      <td>3.251373e+06</td>\n",
              "      <td>100.000000</td>\n",
              "      <td>100.000000</td>\n",
              "      <td>100.000000</td>\n",
              "      <td>100.000000</td>\n",
              "      <td>100.000000</td>\n",
              "      <td>100.000000</td>\n",
              "      <td>100.000000</td>\n",
              "      <td>100.000000</td>\n",
              "      <td>26.700000</td>\n",
              "      <td>100.000000</td>\n",
              "      <td>100.000000</td>\n",
              "      <td>50.000000</td>\n",
              "      <td>100.000000</td>\n",
              "      <td>40.000000</td>\n",
              "    </tr>\n",
              "  </tbody>\n",
              "</table>\n",
              "</div>\n",
              "      <button class=\"colab-df-convert\" onclick=\"convertToInteractive('df-b9485e83-43bf-45c2-9db5-8b5fd1025009')\"\n",
              "              title=\"Convert this dataframe to an interactive table.\"\n",
              "              style=\"display:none;\">\n",
              "        \n",
              "  <svg xmlns=\"http://www.w3.org/2000/svg\" height=\"24px\"viewBox=\"0 0 24 24\"\n",
              "       width=\"24px\">\n",
              "    <path d=\"M0 0h24v24H0V0z\" fill=\"none\"/>\n",
              "    <path d=\"M18.56 5.44l.94 2.06.94-2.06 2.06-.94-2.06-.94-.94-2.06-.94 2.06-2.06.94zm-11 1L8.5 8.5l.94-2.06 2.06-.94-2.06-.94L8.5 2.5l-.94 2.06-2.06.94zm10 10l.94 2.06.94-2.06 2.06-.94-2.06-.94-.94-2.06-.94 2.06-2.06.94z\"/><path d=\"M17.41 7.96l-1.37-1.37c-.4-.4-.92-.59-1.43-.59-.52 0-1.04.2-1.43.59L10.3 9.45l-7.72 7.72c-.78.78-.78 2.05 0 2.83L4 21.41c.39.39.9.59 1.41.59.51 0 1.02-.2 1.41-.59l7.78-7.78 2.81-2.81c.8-.78.8-2.07 0-2.86zM5.41 20L4 18.59l7.72-7.72 1.47 1.35L5.41 20z\"/>\n",
              "  </svg>\n",
              "      </button>\n",
              "      \n",
              "  <style>\n",
              "    .colab-df-container {\n",
              "      display:flex;\n",
              "      flex-wrap:wrap;\n",
              "      gap: 12px;\n",
              "    }\n",
              "\n",
              "    .colab-df-convert {\n",
              "      background-color: #E8F0FE;\n",
              "      border: none;\n",
              "      border-radius: 50%;\n",
              "      cursor: pointer;\n",
              "      display: none;\n",
              "      fill: #1967D2;\n",
              "      height: 32px;\n",
              "      padding: 0 0 0 0;\n",
              "      width: 32px;\n",
              "    }\n",
              "\n",
              "    .colab-df-convert:hover {\n",
              "      background-color: #E2EBFA;\n",
              "      box-shadow: 0px 1px 2px rgba(60, 64, 67, 0.3), 0px 1px 3px 1px rgba(60, 64, 67, 0.15);\n",
              "      fill: #174EA6;\n",
              "    }\n",
              "\n",
              "    [theme=dark] .colab-df-convert {\n",
              "      background-color: #3B4455;\n",
              "      fill: #D2E3FC;\n",
              "    }\n",
              "\n",
              "    [theme=dark] .colab-df-convert:hover {\n",
              "      background-color: #434B5C;\n",
              "      box-shadow: 0px 1px 3px 1px rgba(0, 0, 0, 0.15);\n",
              "      filter: drop-shadow(0px 1px 2px rgba(0, 0, 0, 0.3));\n",
              "      fill: #FFFFFF;\n",
              "    }\n",
              "  </style>\n",
              "\n",
              "      <script>\n",
              "        const buttonEl =\n",
              "          document.querySelector('#df-b9485e83-43bf-45c2-9db5-8b5fd1025009 button.colab-df-convert');\n",
              "        buttonEl.style.display =\n",
              "          google.colab.kernel.accessAllowed ? 'block' : 'none';\n",
              "\n",
              "        async function convertToInteractive(key) {\n",
              "          const element = document.querySelector('#df-b9485e83-43bf-45c2-9db5-8b5fd1025009');\n",
              "          const dataTable =\n",
              "            await google.colab.kernel.invokeFunction('convertToInteractive',\n",
              "                                                     [key], {});\n",
              "          if (!dataTable) return;\n",
              "\n",
              "          const docLinkHtml = 'Like what you see? Visit the ' +\n",
              "            '<a target=\"_blank\" href=https://colab.research.google.com/notebooks/data_table.ipynb>data table notebook</a>'\n",
              "            + ' to learn more about interactive tables.';\n",
              "          element.innerHTML = '';\n",
              "          dataTable['output_type'] = 'display_data';\n",
              "          await google.colab.output.renderOutput(dataTable, element);\n",
              "          const docLink = document.createElement('div');\n",
              "          docLink.innerHTML = docLinkHtml;\n",
              "          element.appendChild(docLink);\n",
              "        }\n",
              "      </script>\n",
              "    </div>\n",
              "  </div>\n",
              "  "
            ]
          },
          "metadata": {},
          "execution_count": 101
        }
      ]
    },
    {
      "cell_type": "markdown",
      "source": [
        "**Valeurs aberantes de energy_100g :** le max d'energie possible est 900 kcal pour 100g, ce qui correpsond à 3,765,690 J ou 3,765 kJ. Toutes les valeurs au dela sont impossibles. Donc on les descend à 900. \n",
        "Au vu de la valeurs des quartiles de la colonne energy_100g, on déduit que l'unité de la colonne est le kJ, donc toutes les valeurs au dela de 3765 kJ sont des valeurs aberantes que l'on redescendra à 3756."
      ],
      "metadata": {
        "id": "nuqJqINa0Dkm"
      }
    },
    {
      "cell_type": "code",
      "source": [
        "df.loc[df['energy_100g']>3756, 'energy_100g'] = 3765"
      ],
      "metadata": {
        "id": "uRbyfMaP0pHs"
      },
      "execution_count": null,
      "outputs": []
    },
    {
      "cell_type": "markdown",
      "source": [
        "# **Partie 7 : Completer les NaN**\n"
      ],
      "metadata": {
        "id": "3mDa0ZDKZ1tf"
      }
    },
    {
      "cell_type": "markdown",
      "source": [
        "**Remplissage des colonnes textuelles par unknown :**"
      ],
      "metadata": {
        "id": "PeQKoQWXmGBd"
      }
    },
    {
      "cell_type": "code",
      "source": [
        "text_cols = ['product_name', 'brands_tags', 'countries_tags', 'ingredients_text', 'serving_size']\n",
        "df[text_cols] = df[text_cols].fillna('unknown')"
      ],
      "metadata": {
        "id": "DRrKX5WvmNP4"
      },
      "execution_count": null,
      "outputs": []
    },
    {
      "cell_type": "markdown",
      "source": [
        "**Remplacer les valeurs manquantes catégorielles par unknown :** on remplace tous les cases de catégories manquantes par unknown pour les colonnes pnns_group_1 et pnns_groupe_2, on supprime les autres colonnes catégorielles car c'est celles qui sont le moins remplies (et elles sont plus spécifiques donc moins propices à une aamyse générale)"
      ],
      "metadata": {
        "id": "k-JjSSs2NfnU"
      }
    },
    {
      "cell_type": "code",
      "source": [
        "categs = ['pnns_groups_1', 'pnns_groups_2']\n",
        "df[categs] = df[categs].fillna('unknown')\n",
        "df = df.drop(columns=['generic_name', 'categories_tags', 'main_category'])"
      ],
      "metadata": {
        "id": "YHc3RU4tNf9d"
      },
      "execution_count": null,
      "outputs": []
    },
    {
      "cell_type": "markdown",
      "source": [
        "**Remplissage de additives_n :** On regarde les informations statistiques basiques du nombre d'additifs pour ensuite voir la valeur par défaut"
      ],
      "metadata": {
        "id": "HCcZKNE5nGaH"
      }
    },
    {
      "cell_type": "code",
      "source": [
        "df['additives_n'].describe()"
      ],
      "metadata": {
        "colab": {
          "base_uri": "https://localhost:8080/"
        },
        "id": "qnRECcM3nGvA",
        "outputId": "42436ce2-b3d4-4ae1-964c-53acbd9b1e55"
      },
      "execution_count": null,
      "outputs": [
        {
          "output_type": "execute_result",
          "data": {
            "text/plain": [
              "count    233911.000000\n",
              "mean          1.998474\n",
              "std           2.516659\n",
              "min           0.000000\n",
              "25%           0.000000\n",
              "50%           1.000000\n",
              "75%           3.000000\n",
              "max          31.000000\n",
              "Name: additives_n, dtype: float64"
            ]
          },
          "metadata": {},
          "execution_count": 105
        }
      ]
    },
    {
      "cell_type": "code",
      "source": [
        "df['additives_n'] = df['additives_n'].fillna(1)"
      ],
      "metadata": {
        "id": "CuB_l8CMuUVR"
      },
      "execution_count": null,
      "outputs": []
    },
    {
      "cell_type": "markdown",
      "source": [
        "**Remplissage de ingredients_from_palm_oil_n :** Même méthode que précédemment. "
      ],
      "metadata": {
        "id": "HA2JAsRpucA1"
      }
    },
    {
      "cell_type": "code",
      "source": [
        "df['ingredients_from_palm_oil_n'].describe()"
      ],
      "metadata": {
        "colab": {
          "base_uri": "https://localhost:8080/"
        },
        "id": "0SfW2Ks7uvLd",
        "outputId": "36abfb08-5bfd-4f6a-81c1-202e46c09802"
      },
      "execution_count": null,
      "outputs": [
        {
          "output_type": "execute_result",
          "data": {
            "text/plain": [
              "count    233911.000000\n",
              "mean          0.019589\n",
              "std           0.140299\n",
              "min           0.000000\n",
              "25%           0.000000\n",
              "50%           0.000000\n",
              "75%           0.000000\n",
              "max           2.000000\n",
              "Name: ingredients_from_palm_oil_n, dtype: float64"
            ]
          },
          "metadata": {},
          "execution_count": 106
        }
      ]
    },
    {
      "cell_type": "code",
      "source": [
        "df['ingredients_from_palm_oil_n'] = df['ingredients_from_palm_oil_n'].fillna(0)"
      ],
      "metadata": {
        "id": "oPvN3u7Gu2En"
      },
      "execution_count": null,
      "outputs": []
    },
    {
      "cell_type": "markdown",
      "source": [
        "**Remplissage des colonnes nutritionelles avec un bon remplissage existant:**"
      ],
      "metadata": {
        "id": "dJ2aWbTavHic"
      }
    },
    {
      "cell_type": "code",
      "source": [
        "df.iloc[:,8:17].describe()"
      ],
      "metadata": {
        "colab": {
          "base_uri": "https://localhost:8080/",
          "height": 300
        },
        "id": "N7EeTqjnvQ2D",
        "outputId": "80ba1ff3-bfe7-4ae2-b099-f99b7de9c7fa"
      },
      "execution_count": null,
      "outputs": [
        {
          "output_type": "execute_result",
          "data": {
            "text/plain": [
              "         additives_n  ingredients_from_palm_oil_n    energy_100g  \\\n",
              "count  233911.000000                260428.000000  260081.000000   \n",
              "mean        1.998474                     0.017594    1125.570299   \n",
              "std         2.516659                     0.133097     797.306943   \n",
              "min         0.000000                     0.000000       0.000000   \n",
              "25%         0.000000                     0.000000     377.000000   \n",
              "50%         1.000000                     0.000000    1100.000000   \n",
              "75%         3.000000                     0.000000    1674.000000   \n",
              "max        31.000000                     2.000000    3765.000000   \n",
              "\n",
              "            fat_100g  saturated-fat_100g  carbohydrates_100g    sugars_100g  \\\n",
              "count  242768.000000       233504.000000       242780.000000  248589.000000   \n",
              "mean       12.682186            5.092722           32.078233      15.865967   \n",
              "std        17.448114            7.886171           29.139121      21.101159   \n",
              "min         0.000000            0.000000            0.000000       0.000000   \n",
              "25%         0.000000            0.000000            6.000000       1.300000   \n",
              "50%         5.000000            1.790000           20.710000       5.560000   \n",
              "75%        20.000000            7.140000           58.330000      23.640000   \n",
              "max       100.000000          100.000000          100.000000     100.000000   \n",
              "\n",
              "          fiber_100g  proteins_100g  \n",
              "count  226966.000000  259647.000000  \n",
              "mean        2.680971       7.072134  \n",
              "std         4.416107       8.148725  \n",
              "min         0.000000       0.000000  \n",
              "25%         0.000000       0.700000  \n",
              "50%         1.400000       4.760000  \n",
              "75%         3.500000      10.000000  \n",
              "max       100.000000     100.000000  "
            ],
            "text/html": [
              "\n",
              "  <div id=\"df-d6d11fba-9a1b-4943-866b-16424a92bf9e\">\n",
              "    <div class=\"colab-df-container\">\n",
              "      <div>\n",
              "<style scoped>\n",
              "    .dataframe tbody tr th:only-of-type {\n",
              "        vertical-align: middle;\n",
              "    }\n",
              "\n",
              "    .dataframe tbody tr th {\n",
              "        vertical-align: top;\n",
              "    }\n",
              "\n",
              "    .dataframe thead th {\n",
              "        text-align: right;\n",
              "    }\n",
              "</style>\n",
              "<table border=\"1\" class=\"dataframe\">\n",
              "  <thead>\n",
              "    <tr style=\"text-align: right;\">\n",
              "      <th></th>\n",
              "      <th>additives_n</th>\n",
              "      <th>ingredients_from_palm_oil_n</th>\n",
              "      <th>energy_100g</th>\n",
              "      <th>fat_100g</th>\n",
              "      <th>saturated-fat_100g</th>\n",
              "      <th>carbohydrates_100g</th>\n",
              "      <th>sugars_100g</th>\n",
              "      <th>fiber_100g</th>\n",
              "      <th>proteins_100g</th>\n",
              "    </tr>\n",
              "  </thead>\n",
              "  <tbody>\n",
              "    <tr>\n",
              "      <th>count</th>\n",
              "      <td>233911.000000</td>\n",
              "      <td>260428.000000</td>\n",
              "      <td>260081.000000</td>\n",
              "      <td>242768.000000</td>\n",
              "      <td>233504.000000</td>\n",
              "      <td>242780.000000</td>\n",
              "      <td>248589.000000</td>\n",
              "      <td>226966.000000</td>\n",
              "      <td>259647.000000</td>\n",
              "    </tr>\n",
              "    <tr>\n",
              "      <th>mean</th>\n",
              "      <td>1.998474</td>\n",
              "      <td>0.017594</td>\n",
              "      <td>1125.570299</td>\n",
              "      <td>12.682186</td>\n",
              "      <td>5.092722</td>\n",
              "      <td>32.078233</td>\n",
              "      <td>15.865967</td>\n",
              "      <td>2.680971</td>\n",
              "      <td>7.072134</td>\n",
              "    </tr>\n",
              "    <tr>\n",
              "      <th>std</th>\n",
              "      <td>2.516659</td>\n",
              "      <td>0.133097</td>\n",
              "      <td>797.306943</td>\n",
              "      <td>17.448114</td>\n",
              "      <td>7.886171</td>\n",
              "      <td>29.139121</td>\n",
              "      <td>21.101159</td>\n",
              "      <td>4.416107</td>\n",
              "      <td>8.148725</td>\n",
              "    </tr>\n",
              "    <tr>\n",
              "      <th>min</th>\n",
              "      <td>0.000000</td>\n",
              "      <td>0.000000</td>\n",
              "      <td>0.000000</td>\n",
              "      <td>0.000000</td>\n",
              "      <td>0.000000</td>\n",
              "      <td>0.000000</td>\n",
              "      <td>0.000000</td>\n",
              "      <td>0.000000</td>\n",
              "      <td>0.000000</td>\n",
              "    </tr>\n",
              "    <tr>\n",
              "      <th>25%</th>\n",
              "      <td>0.000000</td>\n",
              "      <td>0.000000</td>\n",
              "      <td>377.000000</td>\n",
              "      <td>0.000000</td>\n",
              "      <td>0.000000</td>\n",
              "      <td>6.000000</td>\n",
              "      <td>1.300000</td>\n",
              "      <td>0.000000</td>\n",
              "      <td>0.700000</td>\n",
              "    </tr>\n",
              "    <tr>\n",
              "      <th>50%</th>\n",
              "      <td>1.000000</td>\n",
              "      <td>0.000000</td>\n",
              "      <td>1100.000000</td>\n",
              "      <td>5.000000</td>\n",
              "      <td>1.790000</td>\n",
              "      <td>20.710000</td>\n",
              "      <td>5.560000</td>\n",
              "      <td>1.400000</td>\n",
              "      <td>4.760000</td>\n",
              "    </tr>\n",
              "    <tr>\n",
              "      <th>75%</th>\n",
              "      <td>3.000000</td>\n",
              "      <td>0.000000</td>\n",
              "      <td>1674.000000</td>\n",
              "      <td>20.000000</td>\n",
              "      <td>7.140000</td>\n",
              "      <td>58.330000</td>\n",
              "      <td>23.640000</td>\n",
              "      <td>3.500000</td>\n",
              "      <td>10.000000</td>\n",
              "    </tr>\n",
              "    <tr>\n",
              "      <th>max</th>\n",
              "      <td>31.000000</td>\n",
              "      <td>2.000000</td>\n",
              "      <td>3765.000000</td>\n",
              "      <td>100.000000</td>\n",
              "      <td>100.000000</td>\n",
              "      <td>100.000000</td>\n",
              "      <td>100.000000</td>\n",
              "      <td>100.000000</td>\n",
              "      <td>100.000000</td>\n",
              "    </tr>\n",
              "  </tbody>\n",
              "</table>\n",
              "</div>\n",
              "      <button class=\"colab-df-convert\" onclick=\"convertToInteractive('df-d6d11fba-9a1b-4943-866b-16424a92bf9e')\"\n",
              "              title=\"Convert this dataframe to an interactive table.\"\n",
              "              style=\"display:none;\">\n",
              "        \n",
              "  <svg xmlns=\"http://www.w3.org/2000/svg\" height=\"24px\"viewBox=\"0 0 24 24\"\n",
              "       width=\"24px\">\n",
              "    <path d=\"M0 0h24v24H0V0z\" fill=\"none\"/>\n",
              "    <path d=\"M18.56 5.44l.94 2.06.94-2.06 2.06-.94-2.06-.94-.94-2.06-.94 2.06-2.06.94zm-11 1L8.5 8.5l.94-2.06 2.06-.94-2.06-.94L8.5 2.5l-.94 2.06-2.06.94zm10 10l.94 2.06.94-2.06 2.06-.94-2.06-.94-.94-2.06-.94 2.06-2.06.94z\"/><path d=\"M17.41 7.96l-1.37-1.37c-.4-.4-.92-.59-1.43-.59-.52 0-1.04.2-1.43.59L10.3 9.45l-7.72 7.72c-.78.78-.78 2.05 0 2.83L4 21.41c.39.39.9.59 1.41.59.51 0 1.02-.2 1.41-.59l7.78-7.78 2.81-2.81c.8-.78.8-2.07 0-2.86zM5.41 20L4 18.59l7.72-7.72 1.47 1.35L5.41 20z\"/>\n",
              "  </svg>\n",
              "      </button>\n",
              "      \n",
              "  <style>\n",
              "    .colab-df-container {\n",
              "      display:flex;\n",
              "      flex-wrap:wrap;\n",
              "      gap: 12px;\n",
              "    }\n",
              "\n",
              "    .colab-df-convert {\n",
              "      background-color: #E8F0FE;\n",
              "      border: none;\n",
              "      border-radius: 50%;\n",
              "      cursor: pointer;\n",
              "      display: none;\n",
              "      fill: #1967D2;\n",
              "      height: 32px;\n",
              "      padding: 0 0 0 0;\n",
              "      width: 32px;\n",
              "    }\n",
              "\n",
              "    .colab-df-convert:hover {\n",
              "      background-color: #E2EBFA;\n",
              "      box-shadow: 0px 1px 2px rgba(60, 64, 67, 0.3), 0px 1px 3px 1px rgba(60, 64, 67, 0.15);\n",
              "      fill: #174EA6;\n",
              "    }\n",
              "\n",
              "    [theme=dark] .colab-df-convert {\n",
              "      background-color: #3B4455;\n",
              "      fill: #D2E3FC;\n",
              "    }\n",
              "\n",
              "    [theme=dark] .colab-df-convert:hover {\n",
              "      background-color: #434B5C;\n",
              "      box-shadow: 0px 1px 3px 1px rgba(0, 0, 0, 0.15);\n",
              "      filter: drop-shadow(0px 1px 2px rgba(0, 0, 0, 0.3));\n",
              "      fill: #FFFFFF;\n",
              "    }\n",
              "  </style>\n",
              "\n",
              "      <script>\n",
              "        const buttonEl =\n",
              "          document.querySelector('#df-d6d11fba-9a1b-4943-866b-16424a92bf9e button.colab-df-convert');\n",
              "        buttonEl.style.display =\n",
              "          google.colab.kernel.accessAllowed ? 'block' : 'none';\n",
              "\n",
              "        async function convertToInteractive(key) {\n",
              "          const element = document.querySelector('#df-d6d11fba-9a1b-4943-866b-16424a92bf9e');\n",
              "          const dataTable =\n",
              "            await google.colab.kernel.invokeFunction('convertToInteractive',\n",
              "                                                     [key], {});\n",
              "          if (!dataTable) return;\n",
              "\n",
              "          const docLinkHtml = 'Like what you see? Visit the ' +\n",
              "            '<a target=\"_blank\" href=https://colab.research.google.com/notebooks/data_table.ipynb>data table notebook</a>'\n",
              "            + ' to learn more about interactive tables.';\n",
              "          element.innerHTML = '';\n",
              "          dataTable['output_type'] = 'display_data';\n",
              "          await google.colab.output.renderOutput(dataTable, element);\n",
              "          const docLink = document.createElement('div');\n",
              "          docLink.innerHTML = docLinkHtml;\n",
              "          element.appendChild(docLink);\n",
              "        }\n",
              "      </script>\n",
              "    </div>\n",
              "  </div>\n",
              "  "
            ]
          },
          "metadata": {},
          "execution_count": 108
        }
      ]
    },
    {
      "cell_type": "code",
      "source": [
        "for i in range(8,17):\n",
        "  df.iloc[:,i] = df.iloc[:,i].fillna(df.iloc[:,i].median())"
      ],
      "metadata": {
        "id": "dJ2-cnHHvpCK"
      },
      "execution_count": null,
      "outputs": []
    },
    {
      "cell_type": "markdown",
      "source": [
        "**Remplissage de la colonne teneur en fruits/légumes/noix :** On va effectuer le remplissage de la teneur en fruits/légumes/noix en inversant le calcul du nutriscore quand c'est possible. Pour les valeurs manquantes que l'on n'aura pas pu calculer on remplacera les valeurs manquantes par la médiane de la colonne complète."
      ],
      "metadata": {
        "id": "Jm_4KlZV_WYz"
      }
    },
    {
      "cell_type": "markdown",
      "source": [
        "*Attribution des scores à chaque catégorie :*"
      ],
      "metadata": {
        "id": "0P9cquBgRgpu"
      }
    },
    {
      "cell_type": "code",
      "source": [
        "# Création des colonnes qui contiendront le score de chaque élement du calcul\n",
        "df['score_energy'] = df['energy_100g']\n",
        "df['score_saturated_fat'] = df['saturated-fat_100g']\n",
        "df['score_sugar'] = df['sugars_100g']\n",
        "df['score_fiber'] = df['fiber_100g']\n",
        "df['score_proteins'] = df['proteins_100g']\n",
        "df['score_sodium'] = df['sodium_100g']\n",
        "# Remplissage des scores pour les colonnes biens représentées\n",
        "# score energy\n",
        "df['score_energy'] = np.where(df['score_energy']<=335, 0, df['score_energy'])\n",
        "df['score_energy'] = np.where((df['score_energy']>335) & (df['score_energy']<=670), 1, df['score_energy'])\n",
        "df['score_energy'] = np.where((df['score_energy']>670) & (df['score_energy']<=1005), 2, df['score_energy'])\n",
        "df['score_energy'] = np.where((df['score_energy']>1005) & (df['score_energy']<=1340), 3, df['score_energy'])\n",
        "df['score_energy'] = np.where((df['score_energy']>1340) & (df['score_energy']<=1675), 4, df['score_energy'])\n",
        "df['score_energy'] = np.where((df['score_energy']>1675) & (df['score_energy']<=2010), 5, df['score_energy'])\n",
        "df['score_energy'] = np.where((df['score_energy']>2010) & (df['score_energy']<=2345), 6, df['score_energy'])\n",
        "df['score_energy'] = np.where((df['score_energy']>2345) & (df['score_energy']<=2680), 7, df['score_energy'])\n",
        "df['score_energy'] = np.where((df['score_energy']>2680) & (df['score_energy']<=3015), 8, df['score_energy'])\n",
        "df['score_energy'] = np.where((df['score_energy']>3015) & (df['score_energy']<=3350), 9, df['score_energy'])\n",
        "df['score_energy'] = np.where((df['score_energy']>3350), 10, df['score_energy'])\n",
        "# score saturated fat\n",
        "df['score_saturated_fat'] = np.where(df['score_saturated_fat']<=1, 0, df['score_saturated_fat'])\n",
        "df['score_saturated_fat'] = np.where((df['score_saturated_fat']>1) & (df['score_saturated_fat']<=2), 1, df['score_saturated_fat'])\n",
        "df['score_saturated_fat'] = np.where((df['score_saturated_fat']>2) & (df['score_saturated_fat']<=3), 2, df['score_saturated_fat'])\n",
        "df['score_saturated_fat'] = np.where((df['score_saturated_fat']>3) & (df['score_saturated_fat']<=4), 3, df['score_saturated_fat'])\n",
        "df['score_saturated_fat'] = np.where((df['score_saturated_fat']>4) & (df['score_saturated_fat']<=5), 4, df['score_saturated_fat'])\n",
        "df['score_saturated_fat'] = np.where((df['score_saturated_fat']>5) & (df['score_saturated_fat']<=6), 5, df['score_saturated_fat'])\n",
        "df['score_saturated_fat'] = np.where((df['score_saturated_fat']>6) & (df['score_saturated_fat']<=7), 6, df['score_saturated_fat'])\n",
        "df['score_saturated_fat'] = np.where((df['score_saturated_fat']>7) & (df['score_saturated_fat']<=8), 7, df['score_saturated_fat'])\n",
        "df['score_saturated_fat'] = np.where((df['score_saturated_fat']>8) & (df['score_saturated_fat']<=9), 8, df['score_saturated_fat'])\n",
        "df['score_saturated_fat'] = np.where((df['score_saturated_fat']>9) & (df['score_saturated_fat']<=10), 9, df['score_saturated_fat'])\n",
        "df['score_saturated_fat'] = np.where((df['score_saturated_fat']>10), 10, df['score_saturated_fat'])\n",
        "# score sugar\n",
        "df['score_sugar'] = np.where(df['score_sugar']<=0, 0, df['score_sugar'])\n",
        "df['score_sugar'] = np.where((df['score_sugar']>0) & (df['score_sugar']<=1.5), 1, df['score_sugar'])\n",
        "df['score_sugar'] = np.where((df['score_sugar']>1.5) & (df['score_sugar']<=3), 2, df['score_sugar'])\n",
        "df['score_sugar'] = np.where((df['score_sugar']>3) & (df['score_sugar']<=4.5), 3, df['score_sugar'])\n",
        "df['score_sugar'] = np.where((df['score_sugar']>4.5) & (df['score_sugar']<=6), 4, df['score_sugar'])\n",
        "df['score_sugar'] = np.where((df['score_sugar']>6) & (df['score_sugar']<=7.5), 5, df['score_sugar'])\n",
        "df['score_sugar'] = np.where((df['score_sugar']>7.5) & (df['score_sugar']<=9), 6, df['score_sugar'])\n",
        "df['score_sugar'] = np.where((df['score_sugar']>9) & (df['score_sugar']<=10.5), 7, df['score_sugar'])\n",
        "df['score_sugar'] = np.where((df['score_sugar']>10.5) & (df['score_sugar']<=12), 8, df['score_sugar'])\n",
        "df['score_sugar'] = np.where((df['score_sugar']>12) & (df['score_sugar']<=13.5), 9, df['score_sugar'])\n",
        "df['score_sugar'] = np.where((df['score_sugar']>13.5), 10, df['score_sugar'])\n",
        "# score sodium\n",
        "df['score_sodium'] = np.where(df['score_sodium']<=0.090, 0, df['score_sodium'])\n",
        "df['score_sodium'] = np.where((df['score_sodium']>0.090) & (df['score_sodium']<=0.180), 1, df['score_sodium'])\n",
        "df['score_sodium'] = np.where((df['score_sodium']>0.180) & (df['score_sodium']<=0.270), 2, df['score_sodium'])\n",
        "df['score_sodium'] = np.where((df['score_sodium']>0.270) & (df['score_sodium']<=0.360), 3, df['score_sodium'])\n",
        "df['score_sodium'] = np.where((df['score_sodium']>0.360) & (df['score_sodium']<=0.450), 4, df['score_sodium'])\n",
        "df['score_sodium'] = np.where((df['score_sodium']>0.450) & (df['score_sodium']<=0.540), 5, df['score_sodium'])\n",
        "df['score_sodium'] = np.where((df['score_sodium']>0.540) & (df['score_sodium']<=0.630), 6, df['score_sodium'])\n",
        "df['score_sodium'] = np.where((df['score_sodium']>0.630) & (df['score_sodium']<=0.720), 7, df['score_sodium'])\n",
        "df['score_sodium'] = np.where((df['score_sodium']>0.720) & (df['score_sodium']<=0.810), 8, df['score_sodium'])\n",
        "df['score_sodium'] = np.where((df['score_sodium']>0.810) & (df['score_sodium']<=0.900), 9, df['score_sodium'])\n",
        "df['score_sodium'] = np.where((df['score_sodium']>0.900), 10, df['score_sodium'])\n",
        "# score fiber\n",
        "df['score_fiber'] = np.where(df['score_fiber']<=0.7, 0, df['score_fiber'])\n",
        "df['score_fiber'] = np.where((df['score_fiber']>0.7) & (df['score_fiber']<=1.4), 1, df['score_fiber'])\n",
        "df['score_fiber'] = np.where((df['score_fiber']>1.4) & (df['score_fiber']<=2.1), 2, df['score_fiber'])\n",
        "df['score_fiber'] = np.where((df['score_fiber']>2.1) & (df['score_fiber']<=2.8), 3, df['score_fiber'])\n",
        "df['score_fiber'] = np.where((df['score_fiber']>2.8) & (df['score_fiber']<=3.5), 4, df['score_fiber'])\n",
        "df['score_fiber'] = np.where((df['score_fiber']>3.5), 5, df['score_fiber'])\n",
        "# score proteins\n",
        "df['score_proteins'] = np.where(df['score_proteins']<=1.6, 0, df['score_proteins'])\n",
        "df['score_proteins'] = np.where((df['score_proteins']>1.6) & (df['score_proteins']<=3.2), 1, df['score_proteins'])\n",
        "df['score_proteins'] = np.where((df['score_proteins']>3.2) & (df['score_proteins']<=4.8), 2, df['score_proteins'])\n",
        "df['score_proteins'] = np.where((df['score_proteins']>4.8) & (df['score_proteins']<=6.4), 3, df['score_proteins'])\n",
        "df['score_proteins'] = np.where((df['score_proteins']>6.4) & (df['score_proteins']<=8), 4, df['score_proteins'])\n",
        "df['score_proteins'] = np.where((df['score_proteins']>8), 5, df['score_proteins'])"
      ],
      "metadata": {
        "id": "njdYWSyzI9_C"
      },
      "execution_count": null,
      "outputs": []
    },
    {
      "cell_type": "markdown",
      "source": [
        "*Calcul du score en fruits/légumes/noix :*\n",
        "\n",
        "$$ N(e,s,g,n,p,f,v) = S_e(e)+S_s(s) + S_g(g)+S_n(n)-S_p(p)-S_f(f)-S_v(v) $$\n",
        "donc :    \n",
        "$$S_v(v) = N(e,s,g,n,p,f,v) -S_e(e)-S_s(s) - S_g(g)-S_n(n)+S_p(p)+S_f(f) $$"
      ],
      "metadata": {
        "id": "3EAKQm0QRqa1"
      }
    },
    {
      "cell_type": "code",
      "source": [
        "df['score_legumes'] =df['score_energy']+df['score_sugar']+df['score_saturated_fat']+df['score_sodium'] \\\n",
        "                      - df['score_fiber'] - df['score_proteins']-df['nutriscore']\n",
        "df['score_legumes'] = np.where(df['score_legumes']<1, 0,df['score_legumes'])\n",
        "df['score_legumes'] = np.where((df['score_legumes']>=1)&(df['score_legumes']<2), 1, df['score_legumes'])\n",
        "df['score_legumes'] = np.where((df['score_legumes']>=2)&(df['score_legumes']<5), 2, df['score_legumes'])\n",
        "df['score_legumes'] = np.where(df['score_legumes']>=5, 5, df['score_legumes'])"
      ],
      "metadata": {
        "id": "wH24fffrRU_q"
      },
      "execution_count": null,
      "outputs": []
    },
    {
      "cell_type": "markdown",
      "source": [
        "*Remplissage des scores de léumes manquants par les valeurs les plus approriés :*"
      ],
      "metadata": {
        "id": "tcsMFLiHWPv9"
      }
    },
    {
      "cell_type": "code",
      "source": [
        "df['score_legumes'].describe()"
      ],
      "metadata": {
        "colab": {
          "base_uri": "https://localhost:8080/"
        },
        "id": "UUPWlBSsWfzn",
        "outputId": "2a08a38f-3aac-467a-fed2-c3ca86b1509e"
      },
      "execution_count": null,
      "outputs": [
        {
          "output_type": "execute_result",
          "data": {
            "text/plain": [
              "count    226715.000000\n",
              "mean          2.721165\n",
              "std           2.192766\n",
              "min           0.000000\n",
              "25%           0.000000\n",
              "50%           2.000000\n",
              "75%           5.000000\n",
              "max           5.000000\n",
              "Name: score_legumes, dtype: float64"
            ]
          },
          "metadata": {},
          "execution_count": 112
        }
      ]
    },
    {
      "cell_type": "code",
      "source": [
        "df['score_legumes'] = df['score_legumes'].fillna(2)"
      ],
      "metadata": {
        "id": "xLn2_NusWlqa"
      },
      "execution_count": null,
      "outputs": []
    },
    {
      "cell_type": "markdown",
      "source": [
        "*Remplissage de la teneur en fruit en fonction des scores :* 20g pour score 0, 50g pour score 1, 70g pour score 2 et 90g pour score 5"
      ],
      "metadata": {
        "id": "9Q-IXRXQXzhp"
      }
    },
    {
      "cell_type": "code",
      "source": [
        "df.loc[df['score_legumes']==0, 'fruits-vegetables-nuts_100g'] = 20\n",
        "df.loc[df['score_legumes']==1, 'fruits-vegetables-nuts_100g'] = 50\n",
        "df.loc[df['score_legumes']==2, 'fruits-vegetables-nuts_100g'] = 70\n",
        "df.loc[df['score_legumes']==5, 'fruits-vegetables-nuts_100g'] = 90"
      ],
      "metadata": {
        "id": "VaLzkZbjYJTB"
      },
      "execution_count": null,
      "outputs": []
    },
    {
      "cell_type": "markdown",
      "source": [
        "**Remplissage du nutriscore :** On remplit ensuite le nutriscore à l'aide des colonnes qui permettent sont calcul."
      ],
      "metadata": {
        "id": "NEAISHUC_bj_"
      }
    },
    {
      "cell_type": "code",
      "source": [
        "df['nutriscore'] = df['nutriscore'].fillna(\n",
        "    df['score_energy']+df['score_sugar']+df['score_saturated_fat']+df['score_sodium'] \\\n",
        "    - df['score_fiber'] - df['score_proteins']-df['score_legumes'] \n",
        ")\n",
        "df = df.drop(columns=['score_energy','score_sugar','score_saturated_fat','score_sodium','score_fiber','score_proteins','score_legumes'])"
      ],
      "metadata": {
        "id": "aPRPBxi_J9dm"
      },
      "execution_count": null,
      "outputs": []
    },
    {
      "cell_type": "markdown",
      "source": [
        "**Remplissage du nutrition_grade_fr :** On convertit simplement le nutriscore en son échelle alphabétique. "
      ],
      "metadata": {
        "id": "EfTMo4Cp_eYS"
      }
    },
    {
      "cell_type": "code",
      "source": [
        "df.loc[df['nutriscore']<=-1, 'nutrition_grade_fr'] = df.loc[df['nutriscore']<=-1, 'nutrition_grade_fr'].fillna('a')\n",
        "df.loc[(df['nutriscore']<=2) & (df['nutriscore']>-1), 'nutrition_grade_fr'] = df.loc[(df['nutriscore']<=2) & (df['nutriscore']>-1), 'nutrition_grade_fr'].fillna('b')\n",
        "df.loc[(df['nutriscore']<=10) & (df['nutriscore']>2), 'nutrition_grade_fr'] = df.loc[(df['nutriscore']<=10) & (df['nutriscore']>2), 'nutrition_grade_fr'].fillna('c')\n",
        "df.loc[(df['nutriscore']<=18) & (df['nutriscore']>10), 'nutrition_grade_fr'] = df.loc[(df['nutriscore']<=18) & (df['nutriscore']>10), 'nutrition_grade_fr'].fillna('d')\n",
        "df.loc[df['nutriscore']>18, 'nutrition_grade_fr'] = df.loc[df['nutriscore']>18, 'nutrition_grade_fr'].fillna('e')"
      ],
      "metadata": {
        "id": "iAaRCtzfJ-Pl"
      },
      "execution_count": null,
      "outputs": []
    },
    {
      "cell_type": "markdown",
      "source": [
        "**Suppression des colonnes de vitamines et minéreaux ?** Ces colonnes ne sont remplies qu'a motié et il est très compliqué de déterminer quelles valeurs attribuer à chaque produit. De plus on va effectuer des analyses basiques sur les grandes grandeur nutritionelles dans lesquelles les vitamines et les minéreaux ne sont pas indispensables, cependant ce sont des informations qui pourraient être intéréssantes pour l'application. On va donc conserver ces colonnes en attribuant 0 à toutes les cases manquantes."
      ],
      "metadata": {
        "id": "-6V-iNqy_jGi"
      }
    },
    {
      "cell_type": "code",
      "source": [
        "cols = ['vitamin-a_100g', 'vitamin-c_100g', 'iron_100g', 'calcium_100g']\n",
        "df[cols] = df[cols].fillna(0)"
      ],
      "metadata": {
        "id": "70GUuTWyGWc2"
      },
      "execution_count": null,
      "outputs": []
    },
    {
      "cell_type": "markdown",
      "source": [
        "**Remplissage des colonnes :**"
      ],
      "metadata": {
        "id": "_klMN4kab609"
      }
    },
    {
      "cell_type": "code",
      "source": [
        "plt.figure(figsize=(18,6))\n",
        "plt.xticks(rotation='vertical')\n",
        "plt.bar(df.columns, 100*(1-df.isna().mean()))\n",
        "plt.xlabel('column ID')\n",
        "plt.ylabel('fill %')\n",
        "plt.grid()\n",
        "plt.title('column fill %')"
      ],
      "metadata": {
        "colab": {
          "base_uri": "https://localhost:8080/",
          "height": 554
        },
        "id": "CNDM_9z6l1tZ",
        "outputId": "3a1fa308-4d9b-4725-ffbc-018fc52a11cb"
      },
      "execution_count": null,
      "outputs": [
        {
          "output_type": "execute_result",
          "data": {
            "text/plain": [
              "Text(0.5, 1.0, 'column fill %')"
            ]
          },
          "metadata": {},
          "execution_count": 118
        },
        {
          "output_type": "display_data",
          "data": {
            "text/plain": [
              "<Figure size 1296x432 with 1 Axes>"
            ],
            "image/png": "[encoded data removed]"
          },
          "metadata": {
            "needs_background": "light"
          }
        }
      ]
    },
    {
      "cell_type": "code",
      "source": [
        "df.isna().mean()"
      ],
      "metadata": {
        "colab": {
          "base_uri": "https://localhost:8080/"
        },
        "id": "fDgt8FlmS4bQ",
        "outputId": "a6af0aea-7033-41f6-b639-75342308601a"
      },
      "execution_count": null,
      "outputs": [
        {
          "output_type": "execute_result",
          "data": {
            "text/plain": [
              "code                           0.000000\n",
              "product_name                   0.000000\n",
              "brands_tags                    0.000000\n",
              "countries_tags                 0.000000\n",
              "pnns_groups_1                  0.000000\n",
              "pnns_groups_2                  0.000000\n",
              "ingredients_text               0.000000\n",
              "serving_size                   0.000000\n",
              "additives_n                    0.000000\n",
              "ingredients_from_palm_oil_n    0.000000\n",
              "energy_100g                    0.000000\n",
              "fat_100g                       0.000000\n",
              "saturated-fat_100g             0.000000\n",
              "carbohydrates_100g             0.000000\n",
              "sugars_100g                    0.000000\n",
              "fiber_100g                     0.000000\n",
              "proteins_100g                  0.000000\n",
              "salt_100g                      0.020078\n",
              "sodium_100g                    0.006071\n",
              "vitamin-a_100g                 0.000000\n",
              "vitamin-c_100g                 0.000000\n",
              "calcium_100g                   0.000000\n",
              "iron_100g                      0.000000\n",
              "fruits-vegetables-nuts_100g    0.000000\n",
              "nutrition_grade_fr             0.006071\n",
              "nutriscore                     0.006071\n",
              "dtype: float64"
            ]
          },
          "metadata": {},
          "execution_count": 122
        }
      ]
    },
    {
      "cell_type": "markdown",
      "source": [
        "**Remplissage du restant des cases manquantes :** sel et sodium par la mediane, nutriscore par la mediane et nutrition_grade par la lettre correspondant au score median"
      ],
      "metadata": {
        "id": "alZ8iFXATKdy"
      }
    },
    {
      "cell_type": "code",
      "source": [
        "df['nutriscore'].median()"
      ],
      "metadata": {
        "colab": {
          "base_uri": "https://localhost:8080/"
        },
        "id": "3h3XI9YmT54_",
        "outputId": "c5fffa08-dea7-4414-bdc1-482a55b8ebc0"
      },
      "execution_count": null,
      "outputs": [
        {
          "output_type": "execute_result",
          "data": {
            "text/plain": [
              "9.0"
            ]
          },
          "metadata": {},
          "execution_count": 123
        }
      ]
    },
    {
      "cell_type": "code",
      "source": [
        "df['salt_100g'] = df['salt_100g'].fillna(df['salt_100g'].median())\n",
        "df['sodium_100g'] = df['sodium_100g'].fillna(df['sodium_100g'].median())\n",
        "df['nutriscore'] = df['nutriscore'].fillna(df['nutriscore'].median())\n",
        "df['nutrition_grade_fr'] = df['nutrition_grade_fr'].fillna('c')"
      ],
      "metadata": {
        "id": "kZMlrzE8TjKj"
      },
      "execution_count": null,
      "outputs": []
    },
    {
      "cell_type": "markdown",
      "source": [
        "**Etat des lieux :**"
      ],
      "metadata": {
        "id": "CVQp2POMUR8i"
      }
    },
    {
      "cell_type": "code",
      "source": [
        "df"
      ],
      "metadata": {
        "colab": {
          "base_uri": "https://localhost:8080/",
          "height": 783
        },
        "id": "tdNrjVTshvxm",
        "outputId": "3864b96d-9aa4-45c8-aaa0-115b841be177"
      },
      "execution_count": null,
      "outputs": [
        {
          "output_type": "execute_result",
          "data": {
            "text/plain": [
              "                 code                                       product_name  \\\n",
              "1                4530                     Banana Chips Sweetened (Whole)   \n",
              "2                4559                                            Peanuts   \n",
              "3               16087                             Organic Salted Nut Mix   \n",
              "4               16094                                    Organic Polenta   \n",
              "5               16100                  Breadshop Honey Gone Nuts Granola   \n",
              "...               ...                                                ...   \n",
              "320756         989898                                        Test NF App   \n",
              "320757  9900000000233                                            Amandes   \n",
              "320763       99111250                                 Thé vert Earl grey   \n",
              "320768       99567453  Mint Melange Tea A Blend Of Peppermint, Lemon ...   \n",
              "320771   999990026839                    Sugar Free Drink Mix, Peach Tea   \n",
              "\n",
              "           brands_tags    countries_tags pnns_groups_1          pnns_groups_2  \\\n",
              "1              unknown  en:united-states       unknown                unknown   \n",
              "2         torn-glasser  en:united-states       unknown                unknown   \n",
              "3            grizzlies  en:united-states       unknown                unknown   \n",
              "4       bob-s-red-mill  en:united-states       unknown                unknown   \n",
              "5                 unfi  en:united-states       unknown                unknown   \n",
              "...                ...               ...           ...                    ...   \n",
              "320756         unknown    en:switzerland       unknown                unknown   \n",
              "320757          biosic         en:france       unknown                unknown   \n",
              "320763         lobodis         en:france     Beverages  Non-sugared beverages   \n",
              "320768    trader-joe-s  en:united-states       unknown                unknown   \n",
              "320771   market-pantry  en:united-states       unknown                unknown   \n",
              "\n",
              "                                         ingredients_text      serving_size  \\\n",
              "1       Bananas, vegetable oil (coconut oil, corn oil ...      28 g (1 ONZ)   \n",
              "2       Peanuts, wheat flour, sugar, rice flour, tapio...   28 g (0.25 cup)   \n",
              "3       Organic hazelnuts, organic cashews, organic wa...   28 g (0.25 cup)   \n",
              "4                                         Organic polenta   35 g (0.25 cup)   \n",
              "5       Rolled oats, grape concentrate, expeller press...    52 g (0.5 cup)   \n",
              "...                                                   ...               ...   \n",
              "320756                                        Coco, choco           unknown   \n",
              "320757                                            unknown           unknown   \n",
              "320763  thé vert, arôme naturel bergamote avec autres ...           unknown   \n",
              "320768  Organic peppermint, organic lemon grass, organ...     20 g (0.7 oz)   \n",
              "320771  Citric acid, maltodextrin, instant tea, aspart...  1 g (0.5 PACKET)   \n",
              "\n",
              "        additives_n  ingredients_from_palm_oil_n  ...  proteins_100g  \\\n",
              "1               0.0                          0.0  ...           3.57   \n",
              "2               0.0                          0.0  ...          17.86   \n",
              "3               0.0                          0.0  ...          17.86   \n",
              "4               0.0                          0.0  ...           8.57   \n",
              "5               0.0                          0.0  ...          13.46   \n",
              "...             ...                          ...  ...            ...   \n",
              "320756          0.0                          0.0  ...           2.10   \n",
              "320757          1.0                          0.0  ...          21.22   \n",
              "320763          0.0                          0.0  ...           0.50   \n",
              "320768          0.0                          0.0  ...           0.00   \n",
              "320771          7.0                          0.0  ...           0.00   \n",
              "\n",
              "        salt_100g  sodium_100g  vitamin-a_100g  vitamin-c_100g  calcium_100g  \\\n",
              "1         0.00000     0.000000             0.0          0.0214         0.000   \n",
              "2         0.63500     0.250000             0.0          0.0000         0.071   \n",
              "3         1.22428     0.482000             0.0          0.0000         0.143   \n",
              "4         0.58420     0.229000             0.0          0.0000         0.000   \n",
              "5         0.58420     0.229000             0.0          0.0000         0.038   \n",
              "...           ...          ...             ...             ...           ...   \n",
              "320756    1.10000     0.433071             0.0          0.0000         0.000   \n",
              "320757    0.10000     0.039370             0.0          0.0000         0.000   \n",
              "320763    0.02540     0.010000             0.0          0.0000         0.000   \n",
              "320768    0.00000     0.000000             0.0          0.0000         0.000   \n",
              "320771    0.00000     0.000000             0.0          0.0000         0.000   \n",
              "\n",
              "        iron_100g  fruits-vegetables-nuts_100g  nutrition_grade_fr  nutriscore  \n",
              "1         0.00129                         90.0                   d        14.0  \n",
              "2         0.00129                         90.0                   b         0.0  \n",
              "3         0.00514                         70.0                   d        12.0  \n",
              "4         0.00000                         70.0                   c         9.0  \n",
              "5         0.00346                         70.0                   c         9.0  \n",
              "...           ...                          ...                 ...         ...  \n",
              "320756    0.00000                         70.0                   d        15.0  \n",
              "320757    0.00000                         70.0                   b         0.0  \n",
              "320763    0.00000                         20.0                   c         1.0  \n",
              "320768    0.00000                         20.0                   b         0.0  \n",
              "320771    0.00000                         70.0                   c         4.0  \n",
              "\n",
              "[260428 rows x 26 columns]"
            ],
            "text/html": [
              "\n",
              "  <div id=\"df-c8932c02-c5ac-4081-9db9-fb6726d965c1\">\n",
              "    <div class=\"colab-df-container\">\n",
              "      <div>\n",
              "<style scoped>\n",
              "    .dataframe tbody tr th:only-of-type {\n",
              "        vertical-align: middle;\n",
              "    }\n",
              "\n",
              "    .dataframe tbody tr th {\n",
              "        vertical-align: top;\n",
              "    }\n",
              "\n",
              "    .dataframe thead th {\n",
              "        text-align: right;\n",
              "    }\n",
              "</style>\n",
              "<table border=\"1\" class=\"dataframe\">\n",
              "  <thead>\n",
              "    <tr style=\"text-align: right;\">\n",
              "      <th></th>\n",
              "      <th>code</th>\n",
              "      <th>product_name</th>\n",
              "      <th>brands_tags</th>\n",
              "      <th>countries_tags</th>\n",
              "      <th>pnns_groups_1</th>\n",
              "      <th>pnns_groups_2</th>\n",
              "      <th>ingredients_text</th>\n",
              "      <th>serving_size</th>\n",
              "      <th>additives_n</th>\n",
              "      <th>ingredients_from_palm_oil_n</th>\n",
              "      <th>...</th>\n",
              "      <th>proteins_100g</th>\n",
              "      <th>salt_100g</th>\n",
              "      <th>sodium_100g</th>\n",
              "      <th>vitamin-a_100g</th>\n",
              "      <th>vitamin-c_100g</th>\n",
              "      <th>calcium_100g</th>\n",
              "      <th>iron_100g</th>\n",
              "      <th>fruits-vegetables-nuts_100g</th>\n",
              "      <th>nutrition_grade_fr</th>\n",
              "      <th>nutriscore</th>\n",
              "    </tr>\n",
              "  </thead>\n",
              "  <tbody>\n",
              "    <tr>\n",
              "      <th>1</th>\n",
              "      <td>4530</td>\n",
              "      <td>Banana Chips Sweetened (Whole)</td>\n",
              "      <td>unknown</td>\n",
              "      <td>en:united-states</td>\n",
              "      <td>unknown</td>\n",
              "      <td>unknown</td>\n",
              "      <td>Bananas, vegetable oil (coconut oil, corn oil ...</td>\n",
              "      <td>28 g (1 ONZ)</td>\n",
              "      <td>0.0</td>\n",
              "      <td>0.0</td>\n",
              "      <td>...</td>\n",
              "      <td>3.57</td>\n",
              "      <td>0.00000</td>\n",
              "      <td>0.000000</td>\n",
              "      <td>0.0</td>\n",
              "      <td>0.0214</td>\n",
              "      <td>0.000</td>\n",
              "      <td>0.00129</td>\n",
              "      <td>90.0</td>\n",
              "      <td>d</td>\n",
              "      <td>14.0</td>\n",
              "    </tr>\n",
              "    <tr>\n",
              "      <th>2</th>\n",
              "      <td>4559</td>\n",
              "      <td>Peanuts</td>\n",
              "      <td>torn-glasser</td>\n",
              "      <td>en:united-states</td>\n",
              "      <td>unknown</td>\n",
              "      <td>unknown</td>\n",
              "      <td>Peanuts, wheat flour, sugar, rice flour, tapio...</td>\n",
              "      <td>28 g (0.25 cup)</td>\n",
              "      <td>0.0</td>\n",
              "      <td>0.0</td>\n",
              "      <td>...</td>\n",
              "      <td>17.86</td>\n",
              "      <td>0.63500</td>\n",
              "      <td>0.250000</td>\n",
              "      <td>0.0</td>\n",
              "      <td>0.0000</td>\n",
              "      <td>0.071</td>\n",
              "      <td>0.00129</td>\n",
              "      <td>90.0</td>\n",
              "      <td>b</td>\n",
              "      <td>0.0</td>\n",
              "    </tr>\n",
              "    <tr>\n",
              "      <th>3</th>\n",
              "      <td>16087</td>\n",
              "      <td>Organic Salted Nut Mix</td>\n",
              "      <td>grizzlies</td>\n",
              "      <td>en:united-states</td>\n",
              "      <td>unknown</td>\n",
              "      <td>unknown</td>\n",
              "      <td>Organic hazelnuts, organic cashews, organic wa...</td>\n",
              "      <td>28 g (0.25 cup)</td>\n",
              "      <td>0.0</td>\n",
              "      <td>0.0</td>\n",
              "      <td>...</td>\n",
              "      <td>17.86</td>\n",
              "      <td>1.22428</td>\n",
              "      <td>0.482000</td>\n",
              "      <td>0.0</td>\n",
              "      <td>0.0000</td>\n",
              "      <td>0.143</td>\n",
              "      <td>0.00514</td>\n",
              "      <td>70.0</td>\n",
              "      <td>d</td>\n",
              "      <td>12.0</td>\n",
              "    </tr>\n",
              "    <tr>\n",
              "      <th>4</th>\n",
              "      <td>16094</td>\n",
              "      <td>Organic Polenta</td>\n",
              "      <td>bob-s-red-mill</td>\n",
              "      <td>en:united-states</td>\n",
              "      <td>unknown</td>\n",
              "      <td>unknown</td>\n",
              "      <td>Organic polenta</td>\n",
              "      <td>35 g (0.25 cup)</td>\n",
              "      <td>0.0</td>\n",
              "      <td>0.0</td>\n",
              "      <td>...</td>\n",
              "      <td>8.57</td>\n",
              "      <td>0.58420</td>\n",
              "      <td>0.229000</td>\n",
              "      <td>0.0</td>\n",
              "      <td>0.0000</td>\n",
              "      <td>0.000</td>\n",
              "      <td>0.00000</td>\n",
              "      <td>70.0</td>\n",
              "      <td>c</td>\n",
              "      <td>9.0</td>\n",
              "    </tr>\n",
              "    <tr>\n",
              "      <th>5</th>\n",
              "      <td>16100</td>\n",
              "      <td>Breadshop Honey Gone Nuts Granola</td>\n",
              "      <td>unfi</td>\n",
              "      <td>en:united-states</td>\n",
              "      <td>unknown</td>\n",
              "      <td>unknown</td>\n",
              "      <td>Rolled oats, grape concentrate, expeller press...</td>\n",
              "      <td>52 g (0.5 cup)</td>\n",
              "      <td>0.0</td>\n",
              "      <td>0.0</td>\n",
              "      <td>...</td>\n",
              "      <td>13.46</td>\n",
              "      <td>0.58420</td>\n",
              "      <td>0.229000</td>\n",
              "      <td>0.0</td>\n",
              "      <td>0.0000</td>\n",
              "      <td>0.038</td>\n",
              "      <td>0.00346</td>\n",
              "      <td>70.0</td>\n",
              "      <td>c</td>\n",
              "      <td>9.0</td>\n",
              "    </tr>\n",
              "    <tr>\n",
              "      <th>...</th>\n",
              "      <td>...</td>\n",
              "      <td>...</td>\n",
              "      <td>...</td>\n",
              "      <td>...</td>\n",
              "      <td>...</td>\n",
              "      <td>...</td>\n",
              "      <td>...</td>\n",
              "      <td>...</td>\n",
              "      <td>...</td>\n",
              "      <td>...</td>\n",
              "      <td>...</td>\n",
              "      <td>...</td>\n",
              "      <td>...</td>\n",
              "      <td>...</td>\n",
              "      <td>...</td>\n",
              "      <td>...</td>\n",
              "      <td>...</td>\n",
              "      <td>...</td>\n",
              "      <td>...</td>\n",
              "      <td>...</td>\n",
              "      <td>...</td>\n",
              "    </tr>\n",
              "    <tr>\n",
              "      <th>320756</th>\n",
              "      <td>989898</td>\n",
              "      <td>Test NF App</td>\n",
              "      <td>unknown</td>\n",
              "      <td>en:switzerland</td>\n",
              "      <td>unknown</td>\n",
              "      <td>unknown</td>\n",
              "      <td>Coco, choco</td>\n",
              "      <td>unknown</td>\n",
              "      <td>0.0</td>\n",
              "      <td>0.0</td>\n",
              "      <td>...</td>\n",
              "      <td>2.10</td>\n",
              "      <td>1.10000</td>\n",
              "      <td>0.433071</td>\n",
              "      <td>0.0</td>\n",
              "      <td>0.0000</td>\n",
              "      <td>0.000</td>\n",
              "      <td>0.00000</td>\n",
              "      <td>70.0</td>\n",
              "      <td>d</td>\n",
              "      <td>15.0</td>\n",
              "    </tr>\n",
              "    <tr>\n",
              "      <th>320757</th>\n",
              "      <td>9900000000233</td>\n",
              "      <td>Amandes</td>\n",
              "      <td>biosic</td>\n",
              "      <td>en:france</td>\n",
              "      <td>unknown</td>\n",
              "      <td>unknown</td>\n",
              "      <td>unknown</td>\n",
              "      <td>unknown</td>\n",
              "      <td>1.0</td>\n",
              "      <td>0.0</td>\n",
              "      <td>...</td>\n",
              "      <td>21.22</td>\n",
              "      <td>0.10000</td>\n",
              "      <td>0.039370</td>\n",
              "      <td>0.0</td>\n",
              "      <td>0.0000</td>\n",
              "      <td>0.000</td>\n",
              "      <td>0.00000</td>\n",
              "      <td>70.0</td>\n",
              "      <td>b</td>\n",
              "      <td>0.0</td>\n",
              "    </tr>\n",
              "    <tr>\n",
              "      <th>320763</th>\n",
              "      <td>99111250</td>\n",
              "      <td>Thé vert Earl grey</td>\n",
              "      <td>lobodis</td>\n",
              "      <td>en:france</td>\n",
              "      <td>Beverages</td>\n",
              "      <td>Non-sugared beverages</td>\n",
              "      <td>thé vert, arôme naturel bergamote avec autres ...</td>\n",
              "      <td>unknown</td>\n",
              "      <td>0.0</td>\n",
              "      <td>0.0</td>\n",
              "      <td>...</td>\n",
              "      <td>0.50</td>\n",
              "      <td>0.02540</td>\n",
              "      <td>0.010000</td>\n",
              "      <td>0.0</td>\n",
              "      <td>0.0000</td>\n",
              "      <td>0.000</td>\n",
              "      <td>0.00000</td>\n",
              "      <td>20.0</td>\n",
              "      <td>c</td>\n",
              "      <td>1.0</td>\n",
              "    </tr>\n",
              "    <tr>\n",
              "      <th>320768</th>\n",
              "      <td>99567453</td>\n",
              "      <td>Mint Melange Tea A Blend Of Peppermint, Lemon ...</td>\n",
              "      <td>trader-joe-s</td>\n",
              "      <td>en:united-states</td>\n",
              "      <td>unknown</td>\n",
              "      <td>unknown</td>\n",
              "      <td>Organic peppermint, organic lemon grass, organ...</td>\n",
              "      <td>20 g (0.7 oz)</td>\n",
              "      <td>0.0</td>\n",
              "      <td>0.0</td>\n",
              "      <td>...</td>\n",
              "      <td>0.00</td>\n",
              "      <td>0.00000</td>\n",
              "      <td>0.000000</td>\n",
              "      <td>0.0</td>\n",
              "      <td>0.0000</td>\n",
              "      <td>0.000</td>\n",
              "      <td>0.00000</td>\n",
              "      <td>20.0</td>\n",
              "      <td>b</td>\n",
              "      <td>0.0</td>\n",
              "    </tr>\n",
              "    <tr>\n",
              "      <th>320771</th>\n",
              "      <td>999990026839</td>\n",
              "      <td>Sugar Free Drink Mix, Peach Tea</td>\n",
              "      <td>market-pantry</td>\n",
              "      <td>en:united-states</td>\n",
              "      <td>unknown</td>\n",
              "      <td>unknown</td>\n",
              "      <td>Citric acid, maltodextrin, instant tea, aspart...</td>\n",
              "      <td>1 g (0.5 PACKET)</td>\n",
              "      <td>7.0</td>\n",
              "      <td>0.0</td>\n",
              "      <td>...</td>\n",
              "      <td>0.00</td>\n",
              "      <td>0.00000</td>\n",
              "      <td>0.000000</td>\n",
              "      <td>0.0</td>\n",
              "      <td>0.0000</td>\n",
              "      <td>0.000</td>\n",
              "      <td>0.00000</td>\n",
              "      <td>70.0</td>\n",
              "      <td>c</td>\n",
              "      <td>4.0</td>\n",
              "    </tr>\n",
              "  </tbody>\n",
              "</table>\n",
              "<p>260428 rows × 26 columns</p>\n",
              "</div>\n",
              "      <button class=\"colab-df-convert\" onclick=\"convertToInteractive('df-c8932c02-c5ac-4081-9db9-fb6726d965c1')\"\n",
              "              title=\"Convert this dataframe to an interactive table.\"\n",
              "              style=\"display:none;\">\n",
              "        \n",
              "  <svg xmlns=\"http://www.w3.org/2000/svg\" height=\"24px\"viewBox=\"0 0 24 24\"\n",
              "       width=\"24px\">\n",
              "    <path d=\"M0 0h24v24H0V0z\" fill=\"none\"/>\n",
              "    <path d=\"M18.56 5.44l.94 2.06.94-2.06 2.06-.94-2.06-.94-.94-2.06-.94 2.06-2.06.94zm-11 1L8.5 8.5l.94-2.06 2.06-.94-2.06-.94L8.5 2.5l-.94 2.06-2.06.94zm10 10l.94 2.06.94-2.06 2.06-.94-2.06-.94-.94-2.06-.94 2.06-2.06.94z\"/><path d=\"M17.41 7.96l-1.37-1.37c-.4-.4-.92-.59-1.43-.59-.52 0-1.04.2-1.43.59L10.3 9.45l-7.72 7.72c-.78.78-.78 2.05 0 2.83L4 21.41c.39.39.9.59 1.41.59.51 0 1.02-.2 1.41-.59l7.78-7.78 2.81-2.81c.8-.78.8-2.07 0-2.86zM5.41 20L4 18.59l7.72-7.72 1.47 1.35L5.41 20z\"/>\n",
              "  </svg>\n",
              "      </button>\n",
              "      \n",
              "  <style>\n",
              "    .colab-df-container {\n",
              "      display:flex;\n",
              "      flex-wrap:wrap;\n",
              "      gap: 12px;\n",
              "    }\n",
              "\n",
              "    .colab-df-convert {\n",
              "      background-color: #E8F0FE;\n",
              "      border: none;\n",
              "      border-radius: 50%;\n",
              "      cursor: pointer;\n",
              "      display: none;\n",
              "      fill: #1967D2;\n",
              "      height: 32px;\n",
              "      padding: 0 0 0 0;\n",
              "      width: 32px;\n",
              "    }\n",
              "\n",
              "    .colab-df-convert:hover {\n",
              "      background-color: #E2EBFA;\n",
              "      box-shadow: 0px 1px 2px rgba(60, 64, 67, 0.3), 0px 1px 3px 1px rgba(60, 64, 67, 0.15);\n",
              "      fill: #174EA6;\n",
              "    }\n",
              "\n",
              "    [theme=dark] .colab-df-convert {\n",
              "      background-color: #3B4455;\n",
              "      fill: #D2E3FC;\n",
              "    }\n",
              "\n",
              "    [theme=dark] .colab-df-convert:hover {\n",
              "      background-color: #434B5C;\n",
              "      box-shadow: 0px 1px 3px 1px rgba(0, 0, 0, 0.15);\n",
              "      filter: drop-shadow(0px 1px 2px rgba(0, 0, 0, 0.3));\n",
              "      fill: #FFFFFF;\n",
              "    }\n",
              "  </style>\n",
              "\n",
              "      <script>\n",
              "        const buttonEl =\n",
              "          document.querySelector('#df-c8932c02-c5ac-4081-9db9-fb6726d965c1 button.colab-df-convert');\n",
              "        buttonEl.style.display =\n",
              "          google.colab.kernel.accessAllowed ? 'block' : 'none';\n",
              "\n",
              "        async function convertToInteractive(key) {\n",
              "          const element = document.querySelector('#df-c8932c02-c5ac-4081-9db9-fb6726d965c1');\n",
              "          const dataTable =\n",
              "            await google.colab.kernel.invokeFunction('convertToInteractive',\n",
              "                                                     [key], {});\n",
              "          if (!dataTable) return;\n",
              "\n",
              "          const docLinkHtml = 'Like what you see? Visit the ' +\n",
              "            '<a target=\"_blank\" href=https://colab.research.google.com/notebooks/data_table.ipynb>data table notebook</a>'\n",
              "            + ' to learn more about interactive tables.';\n",
              "          element.innerHTML = '';\n",
              "          dataTable['output_type'] = 'display_data';\n",
              "          await google.colab.output.renderOutput(dataTable, element);\n",
              "          const docLink = document.createElement('div');\n",
              "          docLink.innerHTML = docLinkHtml;\n",
              "          element.appendChild(docLink);\n",
              "        }\n",
              "      </script>\n",
              "    </div>\n",
              "  </div>\n",
              "  "
            ]
          },
          "metadata": {},
          "execution_count": 125
        }
      ]
    },
    {
      "cell_type": "code",
      "source": [
        "msno.matrix(df)"
      ],
      "metadata": {
        "colab": {
          "base_uri": "https://localhost:8080/",
          "height": 784
        },
        "id": "VYRx2ZjaUN0F",
        "outputId": "2adaadbc-7b8c-4bfe-b674-b8cbcd4c4a7d"
      },
      "execution_count": null,
      "outputs": [
        {
          "output_type": "execute_result",
          "data": {
            "text/plain": [
              "<matplotlib.axes._subplots.AxesSubplot at 0x7f4bd79a6f50>"
            ]
          },
          "metadata": {},
          "execution_count": 126
        },
        {
          "output_type": "display_data",
          "data": {
            "text/plain": [
              "<Figure size 1800x720 with 2 Axes>"
            ],
            "image/png": "[encoded data removed]"
          },
          "metadata": {
            "needs_background": "light"
          }
        }
      ]
    },
    {
      "cell_type": "code",
      "source": [
        "df.to_csv(\"drive/MyDrive/CSV/open_food_facts_bis.csv\", index=False)"
      ],
      "metadata": {
        "id": "SlwjFOxyhrRd"
      },
      "execution_count": null,
      "outputs": []
    }
  ]
}