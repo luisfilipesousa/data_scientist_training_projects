{
 "cells": [
  {
   "cell_type": "markdown",
   "id": "b50de000",
   "metadata": {
    "hide_input": true
   },
   "source": [
    "# ***Building Energy Benchmarking : ElasticNet***\n",
    "\n",
    "On va essayer d'entrainer un modèle de regression ElasticNet pour prédire la consomation et la pollution des immeubles via leurs caractéristiques. \n",
    "On entrainera les modèles avec la variable de l'EnergyStarScore et sans cette variable afin de voir si elle est utile pour les prédictions.\n",
    "\n",
    "On cherche donc a obtenir les coefficients $\\beta_0, \\beta_1, \\cdots, \\beta_n$ tels que la consomation d'une propriété $y$ puisse être calculée à l'aide de ses caractéristiques (numériques) $x_1, \\cdots, x_n $ par :\n",
    "$$ y = \\beta_0 + \\beta_1 x_1 + \\cdots + \\beta_n x_n$$\n",
    "\n",
    "La régression ElasticNet n'essait pas réduire l'erreur quadratique ci dessus mais essaie de minimiser la fonction de coût suivante :\n",
    "$$ C(\\beta)=\\frac{1}{2n}\\left[ \\sum_{i=1}^{n} (y_i - y_i^*)^2 + \\lambda_1 \\sum_{j=1}^{m}\\vert \\beta_j \\vert + \\lambda_2 \\sum_{j=1}^{m} \\beta_j^2 \\right] $$"
   ]
  },
  {
   "cell_type": "markdown",
   "id": "cdfa6082",
   "metadata": {
    "toc": true
   },
   "source": [
    "<h1>Table des matières<span class=\"tocSkip\"></span></h1>\n",
    "<div class=\"toc\"><ul class=\"toc-item\"><li><span><a href=\"#Building-Energy-Benchmarking-:-ElasticNet\" data-toc-modified-id=\"Building-Energy-Benchmarking-:-ElasticNet-1\"><strong><em>Building Energy Benchmarking : ElasticNet</em></strong></a></span></li><li><span><a href=\"#Partie-1-:-Préparation-des-données\" data-toc-modified-id=\"Partie-1-:-Préparation-des-données-2\"><strong>Partie 1 : Préparation des données</strong></a></span></li><li><span><a href=\"#Partie-2-:-Régression-sans-ENERGYSTAR-Score\" data-toc-modified-id=\"Partie-2-:-Régression-sans-ENERGYSTAR-Score-3\"><strong>Partie 2 : Régression sans ENERGYSTAR Score</strong></a></span></li><li><span><a href=\"#Partie-3-:-Régression-avec-ENERGYSTARScore\" data-toc-modified-id=\"Partie-3-:-Régression-avec-ENERGYSTARScore-4\"><strong>Partie 3 : Régression avec ENERGYSTARScore</strong></a></span></li></ul></div>"
   ]
  },
  {
   "cell_type": "code",
   "execution_count": 1,
   "id": "b4e60f5d",
   "metadata": {
    "ExecuteTime": {
     "end_time": "2022-10-28T16:42:54.405421Z",
     "start_time": "2022-10-28T16:42:52.453474Z"
    }
   },
   "outputs": [
    {
     "name": "stdout",
     "output_type": "stream",
     "text": [
      "numpy version : 1.23.2\n",
      "matplotlib version : 3.5.3\n",
      "seaborn version : 0.11.2\n",
      "pandas version : 1.4.4\n",
      "scipy version : 1.9.1\n",
      "sklearn version : 1.1.2\n"
     ]
    }
   ],
   "source": [
    "import numpy as np ; print(\"numpy version :\", np.__version__)\n",
    "import pandas as pd ; print(\"pandas version :\",pd.__version__)\n",
    "import sklearn as sk ; print(\"sklearn version :\",sk.__version__)"
   ]
  },
  {
   "cell_type": "markdown",
   "id": "ff6ffd33",
   "metadata": {},
   "source": [
    "# **Partie 1 : Préparation des données**"
   ]
  },
  {
   "cell_type": "code",
   "execution_count": 2,
   "id": "b2e80014",
   "metadata": {
    "ExecuteTime": {
     "end_time": "2022-10-28T16:42:54.446807Z",
     "start_time": "2022-10-28T16:42:54.409971Z"
    }
   },
   "outputs": [
    {
     "data": {
      "text/plain": [
       "BuildingType                        object\n",
       "ZipCode                            float64\n",
       "Age                                  int64\n",
       "NumberofBuildings                  float64\n",
       "NumberofFloors                       int64\n",
       "PropertyGFAParking                   int64\n",
       "PropertyGFABuilding(s)               int64\n",
       "LargestPropertyUseType              object\n",
       "LargestPropertyUseTypeGFA          float64\n",
       "SecondLargestPropertyUseType        object\n",
       "SecondLargestPropertyUseTypeGFA    float64\n",
       "ThirdLargestPropertyUseType         object\n",
       "ThirdLargestPropertyUseTypeGFA     float64\n",
       "ENERGYSTARScore                    float64\n",
       "SiteEnergyUse(kBtu)                float64\n",
       "TotalGHGEmissions                  float64\n",
       "dtype: object"
      ]
     },
     "execution_count": 2,
     "metadata": {},
     "output_type": "execute_result"
    }
   ],
   "source": [
    "df = pd.read_csv(\"2016_Building_Energy_Benchmarking2.csv\", sep=',', index_col=0)\n",
    "df.dtypes"
   ]
  },
  {
   "cell_type": "markdown",
   "id": "492bdb99",
   "metadata": {},
   "source": [
    "Je vais construire un dataframe de sorte à ce que ses features soient les suivantes :\n",
    "*   Les différentes types de bâtiments dans lesquels on renseignera la surface totale du bâtiment (dans la colonne qui lui correspond)\n",
    "*   Le nombre de bâtiments\n",
    "*   Le nombre d'étages\n",
    "*   L'age du bâtiment\n",
    "*   L'aire du parking\n",
    "*   Les différents types d'usage du bâtiment dans lesquels on renseigenra la surface utilisée pour chaque type d'usage\n",
    "*   L'ENERGYSTAR Score\n",
    "*   Le SiteEnergyUse(kBtu)\n",
    "*   TotalGHGEmissions\n",
    "\n",
    "Je met de côté le code postal car il n'y a pas de tedance linéaire sur la position."
   ]
  },
  {
   "cell_type": "code",
   "execution_count": 3,
   "id": "c976c9c1",
   "metadata": {
    "ExecuteTime": {
     "end_time": "2022-10-28T16:42:55.010325Z",
     "start_time": "2022-10-28T16:42:54.451604Z"
    },
    "scrolled": false
   },
   "outputs": [
    {
     "data": {
      "text/html": [
       "<div>\n",
       "<style scoped>\n",
       "    .dataframe tbody tr th:only-of-type {\n",
       "        vertical-align: middle;\n",
       "    }\n",
       "\n",
       "    .dataframe tbody tr th {\n",
       "        vertical-align: top;\n",
       "    }\n",
       "\n",
       "    .dataframe thead th {\n",
       "        text-align: right;\n",
       "    }\n",
       "</style>\n",
       "<table border=\"1\" class=\"dataframe\">\n",
       "  <thead>\n",
       "    <tr style=\"text-align: right;\">\n",
       "      <th></th>\n",
       "      <th>Age</th>\n",
       "      <th>NumberofBuildings</th>\n",
       "      <th>NumberofFloors</th>\n",
       "      <th>PropertyGFAParking</th>\n",
       "      <th>NonResidential</th>\n",
       "      <th>Nonresidential COS</th>\n",
       "      <th>Multifamily MR (5-9)</th>\n",
       "      <th>SPS-District K-12</th>\n",
       "      <th>Campus</th>\n",
       "      <th>Multifamily LR (1-4)</th>\n",
       "      <th>...</th>\n",
       "      <th>Police Station</th>\n",
       "      <th>Library</th>\n",
       "      <th>Parking</th>\n",
       "      <th>Social/Meeting Hall</th>\n",
       "      <th>Enclosed Mall</th>\n",
       "      <th>Medical Office</th>\n",
       "      <th>Multifamily Housing</th>\n",
       "      <th>ENERGYSTARScore</th>\n",
       "      <th>SiteEnergyUse(kBtu)</th>\n",
       "      <th>TotalGHGEmissions</th>\n",
       "    </tr>\n",
       "  </thead>\n",
       "  <tbody>\n",
       "    <tr>\n",
       "      <th>0</th>\n",
       "      <td>95.0</td>\n",
       "      <td>1.0</td>\n",
       "      <td>12.0</td>\n",
       "      <td>0.0</td>\n",
       "      <td>88434.0</td>\n",
       "      <td>0.0</td>\n",
       "      <td>0.0</td>\n",
       "      <td>0.0</td>\n",
       "      <td>0.0</td>\n",
       "      <td>0.0</td>\n",
       "      <td>...</td>\n",
       "      <td>0.0</td>\n",
       "      <td>0.0</td>\n",
       "      <td>0.0</td>\n",
       "      <td>0.0</td>\n",
       "      <td>0.0</td>\n",
       "      <td>0.0</td>\n",
       "      <td>0.0</td>\n",
       "      <td>60.0</td>\n",
       "      <td>7226362.5</td>\n",
       "      <td>249.98</td>\n",
       "    </tr>\n",
       "    <tr>\n",
       "      <th>1</th>\n",
       "      <td>26.0</td>\n",
       "      <td>1.0</td>\n",
       "      <td>11.0</td>\n",
       "      <td>15064.0</td>\n",
       "      <td>88502.0</td>\n",
       "      <td>0.0</td>\n",
       "      <td>0.0</td>\n",
       "      <td>0.0</td>\n",
       "      <td>0.0</td>\n",
       "      <td>0.0</td>\n",
       "      <td>...</td>\n",
       "      <td>0.0</td>\n",
       "      <td>0.0</td>\n",
       "      <td>15064.0</td>\n",
       "      <td>0.0</td>\n",
       "      <td>0.0</td>\n",
       "      <td>0.0</td>\n",
       "      <td>0.0</td>\n",
       "      <td>61.0</td>\n",
       "      <td>8387933.0</td>\n",
       "      <td>295.86</td>\n",
       "    </tr>\n",
       "    <tr>\n",
       "      <th>2</th>\n",
       "      <td>53.0</td>\n",
       "      <td>1.0</td>\n",
       "      <td>41.0</td>\n",
       "      <td>196718.0</td>\n",
       "      <td>759392.0</td>\n",
       "      <td>0.0</td>\n",
       "      <td>0.0</td>\n",
       "      <td>0.0</td>\n",
       "      <td>0.0</td>\n",
       "      <td>0.0</td>\n",
       "      <td>...</td>\n",
       "      <td>0.0</td>\n",
       "      <td>0.0</td>\n",
       "      <td>0.0</td>\n",
       "      <td>0.0</td>\n",
       "      <td>0.0</td>\n",
       "      <td>0.0</td>\n",
       "      <td>0.0</td>\n",
       "      <td>43.0</td>\n",
       "      <td>72587024.0</td>\n",
       "      <td>2089.28</td>\n",
       "    </tr>\n",
       "    <tr>\n",
       "      <th>3</th>\n",
       "      <td>96.0</td>\n",
       "      <td>1.0</td>\n",
       "      <td>10.0</td>\n",
       "      <td>0.0</td>\n",
       "      <td>61320.0</td>\n",
       "      <td>0.0</td>\n",
       "      <td>0.0</td>\n",
       "      <td>0.0</td>\n",
       "      <td>0.0</td>\n",
       "      <td>0.0</td>\n",
       "      <td>...</td>\n",
       "      <td>0.0</td>\n",
       "      <td>0.0</td>\n",
       "      <td>0.0</td>\n",
       "      <td>0.0</td>\n",
       "      <td>0.0</td>\n",
       "      <td>0.0</td>\n",
       "      <td>0.0</td>\n",
       "      <td>56.0</td>\n",
       "      <td>6794584.0</td>\n",
       "      <td>286.43</td>\n",
       "    </tr>\n",
       "    <tr>\n",
       "      <th>4</th>\n",
       "      <td>42.0</td>\n",
       "      <td>1.0</td>\n",
       "      <td>18.0</td>\n",
       "      <td>62000.0</td>\n",
       "      <td>113580.0</td>\n",
       "      <td>0.0</td>\n",
       "      <td>0.0</td>\n",
       "      <td>0.0</td>\n",
       "      <td>0.0</td>\n",
       "      <td>0.0</td>\n",
       "      <td>...</td>\n",
       "      <td>0.0</td>\n",
       "      <td>0.0</td>\n",
       "      <td>68009.0</td>\n",
       "      <td>0.0</td>\n",
       "      <td>0.0</td>\n",
       "      <td>0.0</td>\n",
       "      <td>0.0</td>\n",
       "      <td>75.0</td>\n",
       "      <td>14172606.0</td>\n",
       "      <td>505.01</td>\n",
       "    </tr>\n",
       "  </tbody>\n",
       "</table>\n",
       "<p>5 rows × 79 columns</p>\n",
       "</div>"
      ],
      "text/plain": [
       "    Age  NumberofBuildings  NumberofFloors  PropertyGFAParking  \\\n",
       "0  95.0                1.0            12.0                 0.0   \n",
       "1  26.0                1.0            11.0             15064.0   \n",
       "2  53.0                1.0            41.0            196718.0   \n",
       "3  96.0                1.0            10.0                 0.0   \n",
       "4  42.0                1.0            18.0             62000.0   \n",
       "\n",
       "   NonResidential  Nonresidential COS  Multifamily MR (5-9)  \\\n",
       "0         88434.0                 0.0                   0.0   \n",
       "1         88502.0                 0.0                   0.0   \n",
       "2        759392.0                 0.0                   0.0   \n",
       "3         61320.0                 0.0                   0.0   \n",
       "4        113580.0                 0.0                   0.0   \n",
       "\n",
       "   SPS-District K-12  Campus  Multifamily LR (1-4)  ...  Police Station  \\\n",
       "0                0.0     0.0                   0.0  ...             0.0   \n",
       "1                0.0     0.0                   0.0  ...             0.0   \n",
       "2                0.0     0.0                   0.0  ...             0.0   \n",
       "3                0.0     0.0                   0.0  ...             0.0   \n",
       "4                0.0     0.0                   0.0  ...             0.0   \n",
       "\n",
       "   Library  Parking  Social/Meeting Hall  Enclosed Mall  Medical Office  \\\n",
       "0      0.0      0.0                  0.0            0.0             0.0   \n",
       "1      0.0  15064.0                  0.0            0.0             0.0   \n",
       "2      0.0      0.0                  0.0            0.0             0.0   \n",
       "3      0.0      0.0                  0.0            0.0             0.0   \n",
       "4      0.0  68009.0                  0.0            0.0             0.0   \n",
       "\n",
       "   Multifamily Housing  ENERGYSTARScore  SiteEnergyUse(kBtu)  \\\n",
       "0                  0.0             60.0            7226362.5   \n",
       "1                  0.0             61.0            8387933.0   \n",
       "2                  0.0             43.0           72587024.0   \n",
       "3                  0.0             56.0            6794584.0   \n",
       "4                  0.0             75.0           14172606.0   \n",
       "\n",
       "   TotalGHGEmissions  \n",
       "0             249.98  \n",
       "1             295.86  \n",
       "2            2089.28  \n",
       "3             286.43  \n",
       "4             505.01  \n",
       "\n",
       "[5 rows x 79 columns]"
      ]
     },
     "execution_count": 3,
     "metadata": {},
     "output_type": "execute_result"
    }
   ],
   "source": [
    "#liste des features\n",
    "features = ['Age', 'NumberofBuildings', 'NumberofFloors', 'PropertyGFAParking']\n",
    "features += df['BuildingType'].unique().tolist()\n",
    "uses = [x for x in df['LargestPropertyUseType'].unique().tolist() if not(pd.isnull(x))==True]\n",
    "uses += [x for x in df['SecondLargestPropertyUseType'].unique().tolist() if not(pd.isnull(x))==True]\n",
    "uses += [x for x in df['ThirdLargestPropertyUseType'].unique().tolist() if not(pd.isnull(x))==True]\n",
    "uses = set(uses)\n",
    "features += uses\n",
    "features += ['ENERGYSTARScore', 'SiteEnergyUse(kBtu)', 'TotalGHGEmissions']\n",
    "\n",
    "# création du data frame avec les features\n",
    "data = pd.DataFrame(columns=features)\n",
    "\n",
    "# copie des colonnes identiques \n",
    "data['Age'] = df['Age']\n",
    "data['NumberofBuildings'] = df['NumberofBuildings']\n",
    "data['NumberofFloors'] = df['NumberofFloors']\n",
    "data['PropertyGFAParking'] = df['PropertyGFAParking']\n",
    "data['ENERGYSTARScore'] = df['ENERGYSTARScore']\n",
    "data['SiteEnergyUse(kBtu)'] = df['SiteEnergyUse(kBtu)']\n",
    "data['TotalGHGEmissions'] = df['TotalGHGEmissions']\n",
    "\n",
    "# surfaces total du bâtiment en fonction de leur type\n",
    "for btype in data.columns[4:12]:\n",
    "    idx = df.loc[df['BuildingType']==btype].index\n",
    "    data.loc[idx, btype] = df.iloc[idx]['PropertyGFABuilding(s)']\n",
    "\n",
    "# surfaces utilisées en fonction de l'usage\n",
    "for use in data.columns[12:-3]:\n",
    "    idx = df.loc[df['LargestPropertyUseType']==use].index\n",
    "    data.loc[idx, use] = df.iloc[idx]['LargestPropertyUseTypeGFA']\n",
    "for use in data.columns[12:-3]:\n",
    "    idx = df.loc[df['SecondLargestPropertyUseType']==use].index\n",
    "    data.loc[idx, use] = df.iloc[idx]['SecondLargestPropertyUseTypeGFA']\n",
    "for use in data.columns[12:-3]:\n",
    "    idx = df.loc[df['ThirdLargestPropertyUseType']==use].index\n",
    "    data.loc[idx, use] = df.iloc[idx]['ThirdLargestPropertyUseTypeGFA']\n",
    "\n",
    "# remplissage des nan par 0 pour les nan sur les sur colonnes de surfaces\n",
    "data[data.columns[4:-3]] = data[data.columns[4:-3]].fillna(0)\n",
    "\n",
    "# remplissage des nan par 1 sur NumberofBuildings\n",
    "data['NumberofBuildings'] = data['NumberofBuildings'].fillna(1)\n",
    "\n",
    "# convertion du data type des colonnes en float\n",
    "data = data.astype(float)\n",
    "\n",
    "data.head()"
   ]
  },
  {
   "cell_type": "markdown",
   "id": "ba58f6cf",
   "metadata": {},
   "source": [
    "On remplira les NaN sur les valeurs à prédire par leur médiane (la régréssion ne gère pas les NaN sur l'entrainement).\n",
    "On appliquera dans un premier temps un recentrage des données pour mieux interpréter l'ordonnée à l'origine $\\beta_0 $ : elle correspondra ainsi à ce que l'on obtiendrai pour une propriété qui aurait la moyenne sur chaque feature.\n",
    "Puis on normalise les données à l'aide de l'écart-type."
   ]
  },
  {
   "cell_type": "code",
   "execution_count": 4,
   "id": "925da4fe",
   "metadata": {
    "ExecuteTime": {
     "end_time": "2022-10-28T16:42:55.096955Z",
     "start_time": "2022-10-28T16:42:55.015300Z"
    }
   },
   "outputs": [],
   "source": [
    "# recentrage des données autour de la moyenne\n",
    "from sklearn.preprocessing import StandardScaler\n",
    "std = StandardScaler()\n",
    "data[data.columns]= std.fit_transform(data[data.columns])\n",
    "\n",
    "# NaN des features à prédire\n",
    "data['SiteEnergyUse(kBtu)'] = data['SiteEnergyUse(kBtu)'].fillna(data['SiteEnergyUse(kBtu)'].median())\n",
    "data['TotalGHGEmissions'] = data['TotalGHGEmissions'].fillna(data['TotalGHGEmissions'].median())"
   ]
  },
  {
   "cell_type": "markdown",
   "id": "6a116c2e",
   "metadata": {},
   "source": [
    "Dans la suite on implémente une régression multilinéaire pour chacun des deux cas. Pour cela on séparera les données en un set d'entrainement et un set de test. On utilisera le R2 Score, le Mean Square Error et le Mean Absolute Error pour mesurer l'efficacité de la régression. On entrainera la régression à l'aide d'une validation croisée afin d'affiner les paramètres et eviter l'overfitting sur les données."
   ]
  },
  {
   "cell_type": "code",
   "execution_count": 5,
   "id": "3340a569",
   "metadata": {
    "ExecuteTime": {
     "end_time": "2022-10-28T16:42:55.135225Z",
     "start_time": "2022-10-28T16:42:55.100394Z"
    }
   },
   "outputs": [
    {
     "data": {
      "text/html": [
       "<div>\n",
       "<style scoped>\n",
       "    .dataframe tbody tr th:only-of-type {\n",
       "        vertical-align: middle;\n",
       "    }\n",
       "\n",
       "    .dataframe tbody tr th {\n",
       "        vertical-align: top;\n",
       "    }\n",
       "\n",
       "    .dataframe thead th {\n",
       "        text-align: right;\n",
       "    }\n",
       "</style>\n",
       "<table border=\"1\" class=\"dataframe\">\n",
       "  <thead>\n",
       "    <tr style=\"text-align: right;\">\n",
       "      <th></th>\n",
       "      <th>Age</th>\n",
       "      <th>NumberofBuildings</th>\n",
       "      <th>NumberofFloors</th>\n",
       "      <th>PropertyGFAParking</th>\n",
       "      <th>NonResidential</th>\n",
       "      <th>Nonresidential COS</th>\n",
       "      <th>Multifamily MR (5-9)</th>\n",
       "      <th>SPS-District K-12</th>\n",
       "      <th>Campus</th>\n",
       "      <th>Multifamily LR (1-4)</th>\n",
       "      <th>...</th>\n",
       "      <th>Police Station</th>\n",
       "      <th>Library</th>\n",
       "      <th>Parking</th>\n",
       "      <th>Social/Meeting Hall</th>\n",
       "      <th>Enclosed Mall</th>\n",
       "      <th>Medical Office</th>\n",
       "      <th>Multifamily Housing</th>\n",
       "      <th>ENERGYSTARScore</th>\n",
       "      <th>SiteEnergyUse(kBtu)</th>\n",
       "      <th>TotalGHGEmissions</th>\n",
       "    </tr>\n",
       "  </thead>\n",
       "  <tbody>\n",
       "    <tr>\n",
       "      <th>0</th>\n",
       "      <td>1.256623</td>\n",
       "      <td>-0.050644</td>\n",
       "      <td>1.327146</td>\n",
       "      <td>-0.247557</td>\n",
       "      <td>0.376788</td>\n",
       "      <td>-0.075493</td>\n",
       "      <td>-0.325671</td>\n",
       "      <td>-0.135227</td>\n",
       "      <td>-0.028876</td>\n",
       "      <td>-0.480681</td>\n",
       "      <td>...</td>\n",
       "      <td>-0.017213</td>\n",
       "      <td>-0.019202</td>\n",
       "      <td>-0.296224</td>\n",
       "      <td>-0.061826</td>\n",
       "      <td>-0.017213</td>\n",
       "      <td>-0.086421</td>\n",
       "      <td>-0.533578</td>\n",
       "      <td>-0.294725</td>\n",
       "      <td>0.084355</td>\n",
       "      <td>0.241774</td>\n",
       "    </tr>\n",
       "    <tr>\n",
       "      <th>1</th>\n",
       "      <td>-0.829025</td>\n",
       "      <td>-0.050644</td>\n",
       "      <td>1.145118</td>\n",
       "      <td>0.218504</td>\n",
       "      <td>0.377348</td>\n",
       "      <td>-0.075493</td>\n",
       "      <td>-0.325671</td>\n",
       "      <td>-0.135227</td>\n",
       "      <td>-0.028876</td>\n",
       "      <td>-0.480681</td>\n",
       "      <td>...</td>\n",
       "      <td>-0.017213</td>\n",
       "      <td>-0.019202</td>\n",
       "      <td>0.090239</td>\n",
       "      <td>-0.061826</td>\n",
       "      <td>-0.017213</td>\n",
       "      <td>-0.086421</td>\n",
       "      <td>-0.533578</td>\n",
       "      <td>-0.257506</td>\n",
       "      <td>0.138113</td>\n",
       "      <td>0.326933</td>\n",
       "    </tr>\n",
       "    <tr>\n",
       "      <th>2</th>\n",
       "      <td>-0.012902</td>\n",
       "      <td>-0.050644</td>\n",
       "      <td>6.605967</td>\n",
       "      <td>5.838650</td>\n",
       "      <td>5.906975</td>\n",
       "      <td>-0.075493</td>\n",
       "      <td>-0.325671</td>\n",
       "      <td>-0.135227</td>\n",
       "      <td>-0.028876</td>\n",
       "      <td>-0.480681</td>\n",
       "      <td>...</td>\n",
       "      <td>-0.017213</td>\n",
       "      <td>-0.019202</td>\n",
       "      <td>-0.296224</td>\n",
       "      <td>-0.061826</td>\n",
       "      <td>-0.017213</td>\n",
       "      <td>-0.086421</td>\n",
       "      <td>-0.533578</td>\n",
       "      <td>-0.927449</td>\n",
       "      <td>3.109272</td>\n",
       "      <td>3.655773</td>\n",
       "    </tr>\n",
       "    <tr>\n",
       "      <th>3</th>\n",
       "      <td>1.286849</td>\n",
       "      <td>-0.050644</td>\n",
       "      <td>0.963089</td>\n",
       "      <td>-0.247557</td>\n",
       "      <td>0.153308</td>\n",
       "      <td>-0.075493</td>\n",
       "      <td>-0.325671</td>\n",
       "      <td>-0.135227</td>\n",
       "      <td>-0.028876</td>\n",
       "      <td>-0.480681</td>\n",
       "      <td>...</td>\n",
       "      <td>-0.017213</td>\n",
       "      <td>-0.019202</td>\n",
       "      <td>-0.296224</td>\n",
       "      <td>-0.061826</td>\n",
       "      <td>-0.017213</td>\n",
       "      <td>-0.086421</td>\n",
       "      <td>-0.533578</td>\n",
       "      <td>-0.443602</td>\n",
       "      <td>0.064372</td>\n",
       "      <td>0.309430</td>\n",
       "    </tr>\n",
       "    <tr>\n",
       "      <th>4</th>\n",
       "      <td>-0.345396</td>\n",
       "      <td>-0.050644</td>\n",
       "      <td>2.419316</td>\n",
       "      <td>1.670645</td>\n",
       "      <td>0.584047</td>\n",
       "      <td>-0.075493</td>\n",
       "      <td>-0.325671</td>\n",
       "      <td>-0.135227</td>\n",
       "      <td>-0.028876</td>\n",
       "      <td>-0.480681</td>\n",
       "      <td>...</td>\n",
       "      <td>-0.017213</td>\n",
       "      <td>-0.019202</td>\n",
       "      <td>1.448526</td>\n",
       "      <td>-0.061826</td>\n",
       "      <td>-0.017213</td>\n",
       "      <td>-0.086421</td>\n",
       "      <td>-0.533578</td>\n",
       "      <td>0.263560</td>\n",
       "      <td>0.405830</td>\n",
       "      <td>0.715145</td>\n",
       "    </tr>\n",
       "  </tbody>\n",
       "</table>\n",
       "<p>5 rows × 79 columns</p>\n",
       "</div>"
      ],
      "text/plain": [
       "        Age  NumberofBuildings  NumberofFloors  PropertyGFAParking  \\\n",
       "0  1.256623          -0.050644        1.327146           -0.247557   \n",
       "1 -0.829025          -0.050644        1.145118            0.218504   \n",
       "2 -0.012902          -0.050644        6.605967            5.838650   \n",
       "3  1.286849          -0.050644        0.963089           -0.247557   \n",
       "4 -0.345396          -0.050644        2.419316            1.670645   \n",
       "\n",
       "   NonResidential  Nonresidential COS  Multifamily MR (5-9)  \\\n",
       "0        0.376788           -0.075493             -0.325671   \n",
       "1        0.377348           -0.075493             -0.325671   \n",
       "2        5.906975           -0.075493             -0.325671   \n",
       "3        0.153308           -0.075493             -0.325671   \n",
       "4        0.584047           -0.075493             -0.325671   \n",
       "\n",
       "   SPS-District K-12    Campus  Multifamily LR (1-4)  ...  Police Station  \\\n",
       "0          -0.135227 -0.028876             -0.480681  ...       -0.017213   \n",
       "1          -0.135227 -0.028876             -0.480681  ...       -0.017213   \n",
       "2          -0.135227 -0.028876             -0.480681  ...       -0.017213   \n",
       "3          -0.135227 -0.028876             -0.480681  ...       -0.017213   \n",
       "4          -0.135227 -0.028876             -0.480681  ...       -0.017213   \n",
       "\n",
       "    Library   Parking  Social/Meeting Hall  Enclosed Mall  Medical Office  \\\n",
       "0 -0.019202 -0.296224            -0.061826      -0.017213       -0.086421   \n",
       "1 -0.019202  0.090239            -0.061826      -0.017213       -0.086421   \n",
       "2 -0.019202 -0.296224            -0.061826      -0.017213       -0.086421   \n",
       "3 -0.019202 -0.296224            -0.061826      -0.017213       -0.086421   \n",
       "4 -0.019202  1.448526            -0.061826      -0.017213       -0.086421   \n",
       "\n",
       "   Multifamily Housing  ENERGYSTARScore  SiteEnergyUse(kBtu)  \\\n",
       "0            -0.533578        -0.294725             0.084355   \n",
       "1            -0.533578        -0.257506             0.138113   \n",
       "2            -0.533578        -0.927449             3.109272   \n",
       "3            -0.533578        -0.443602             0.064372   \n",
       "4            -0.533578         0.263560             0.405830   \n",
       "\n",
       "   TotalGHGEmissions  \n",
       "0           0.241774  \n",
       "1           0.326933  \n",
       "2           3.655773  \n",
       "3           0.309430  \n",
       "4           0.715145  \n",
       "\n",
       "[5 rows x 79 columns]"
      ]
     },
     "execution_count": 5,
     "metadata": {},
     "output_type": "execute_result"
    }
   ],
   "source": [
    "data.head()"
   ]
  },
  {
   "cell_type": "markdown",
   "id": "b06a7268",
   "metadata": {},
   "source": [
    "# **Partie 2 : Régression sans ENERGYSTAR Score**"
   ]
  },
  {
   "cell_type": "markdown",
   "id": "7c0b83c1",
   "metadata": {},
   "source": [
    "On sélectionne les données à prédire et les données. "
   ]
  },
  {
   "cell_type": "code",
   "execution_count": 6,
   "id": "ddf5a0fe",
   "metadata": {
    "ExecuteTime": {
     "end_time": "2022-10-28T16:42:55.150459Z",
     "start_time": "2022-10-28T16:42:55.139579Z"
    }
   },
   "outputs": [],
   "source": [
    "x=data.iloc[:,:-3]\n",
    "y1 = data['SiteEnergyUse(kBtu)']\n",
    "y2 = data['TotalGHGEmissions']"
   ]
  },
  {
   "cell_type": "markdown",
   "id": "abb4b56b",
   "metadata": {},
   "source": [
    "On sépare les données en un set d'entrainement et un set de test."
   ]
  },
  {
   "cell_type": "code",
   "execution_count": 7,
   "id": "90f89847",
   "metadata": {
    "ExecuteTime": {
     "end_time": "2022-10-28T16:42:55.198630Z",
     "start_time": "2022-10-28T16:42:55.154865Z"
    }
   },
   "outputs": [],
   "source": [
    "from sklearn.model_selection import train_test_split\n",
    "\n",
    "test_size=0.2\n",
    "x1_train, x1_test, y1_train, y1_test = train_test_split(x, y1, test_size=test_size, random_state=2)\n",
    "x2_train, x2_test, y2_train, y2_test = train_test_split(x, y2, test_size=test_size, random_state=2)"
   ]
  },
  {
   "cell_type": "markdown",
   "id": "7bca0bd7",
   "metadata": {},
   "source": [
    "On entraine les deux modèles pour les deux variables à prédire à l'aide d'une validation croisée. "
   ]
  },
  {
   "cell_type": "code",
   "execution_count": 8,
   "id": "f4d0d8f8",
   "metadata": {
    "ExecuteTime": {
     "end_time": "2022-10-28T16:42:59.049391Z",
     "start_time": "2022-10-28T16:42:55.203073Z"
    }
   },
   "outputs": [
    {
     "name": "stdout",
     "output_type": "stream",
     "text": [
      "Fitting 5 folds for each of 15 candidates, totalling 75 fits\n",
      "Fitting 5 folds for each of 15 candidates, totalling 75 fits\n"
     ]
    }
   ],
   "source": [
    "from sklearn.linear_model import ElasticNet\n",
    "from sklearn.model_selection import GridSearchCV\n",
    "\n",
    "folds = 5\n",
    "hyper_params = {'alpha':[0.1, 0.2, 0.5, 0.7, 1], 'l1_ratio':[0.5, 0.25, 0.75]}\n",
    "\n",
    "linear1 = ElasticNet()\n",
    "cv1 = GridSearchCV(estimator = linear1, param_grid = hyper_params, scoring= 'r2', cv = folds, verbose = 1) \n",
    "cv1.fit(x1_train, y1_train)\n",
    "y1_pred = cv1.predict(x1_test)\n",
    "\n",
    "linear2 = ElasticNet()\n",
    "cv2 = GridSearchCV(estimator = linear2, param_grid = hyper_params, scoring= 'r2', cv = folds, verbose = 1) \n",
    "cv2.fit(x2_train, y2_train)\n",
    "y2_pred = cv2.predict(x2_test)"
   ]
  },
  {
   "cell_type": "markdown",
   "id": "019d081f",
   "metadata": {},
   "source": [
    "On affiche les résultats obtenus par les algorithmes sur le data set de test. "
   ]
  },
  {
   "cell_type": "code",
   "execution_count": 9,
   "id": "86cb026a",
   "metadata": {
    "ExecuteTime": {
     "end_time": "2022-10-28T16:42:59.087435Z",
     "start_time": "2022-10-28T16:42:59.052756Z"
    }
   },
   "outputs": [
    {
     "name": "stdout",
     "output_type": "stream",
     "text": [
      "SiteEnergyUse(kBtu)\n",
      "r2_score :  0.8195833294413835\n",
      "mean_squared_error :  0.04363746412853414\n",
      "mean_absolute_error :  0.10609429729323852\n",
      "\n",
      "TotalGHGEmissions\n",
      "r2_score :  0.7369856060747542\n",
      "mean_squared_error :  0.0947247169961966\n",
      "mean_absolute_error :  0.1433730294817211\n"
     ]
    }
   ],
   "source": [
    "from sklearn.metrics import r2_score, mean_squared_error, mean_absolute_error\n",
    "\n",
    "print('SiteEnergyUse(kBtu)')\n",
    "print('r2_score : ', r2_score(y1_test, y1_pred))\n",
    "print('mean_squared_error : ', mean_squared_error(y1_test, y1_pred))\n",
    "print('mean_absolute_error : ', mean_absolute_error(y1_test, y1_pred))\n",
    "\n",
    "print('\\nTotalGHGEmissions')\n",
    "print('r2_score : ', r2_score(y2_test, y2_pred))\n",
    "print('mean_squared_error : ', mean_squared_error(y2_test, y2_pred))\n",
    "print('mean_absolute_error : ', mean_absolute_error(y2_test, y2_pred))"
   ]
  },
  {
   "cell_type": "markdown",
   "id": "989ba698",
   "metadata": {},
   "source": [
    "On remarque que l'algorithme donne déja des résultat très satisfaisants. Comparons avec la variable ENERGYSTARScore."
   ]
  },
  {
   "cell_type": "markdown",
   "id": "1faa2558",
   "metadata": {
    "ExecuteTime": {
     "end_time": "2022-10-28T13:13:06.776204Z",
     "start_time": "2022-10-28T13:13:06.776184Z"
    }
   },
   "source": [
    "# **Partie 3 : Régression avec ENERGYSTARScore**"
   ]
  },
  {
   "cell_type": "markdown",
   "id": "48faed4e",
   "metadata": {},
   "source": [
    "On refait les mêmes manipulations que la partie précédente avec la feature ENERGYSTARScore en plus."
   ]
  },
  {
   "cell_type": "code",
   "execution_count": 10,
   "id": "89fe4d68",
   "metadata": {
    "ExecuteTime": {
     "end_time": "2022-10-28T16:42:59.134421Z",
     "start_time": "2022-10-28T16:42:59.099456Z"
    }
   },
   "outputs": [],
   "source": [
    "x=data.dropna(subset='ENERGYSTARScore')\n",
    "y1 = x['SiteEnergyUse(kBtu)']\n",
    "y2 = x['TotalGHGEmissions']\n",
    "x=x.iloc[:,:-2]"
   ]
  },
  {
   "cell_type": "code",
   "execution_count": 11,
   "id": "2cb98141",
   "metadata": {
    "ExecuteTime": {
     "end_time": "2022-10-28T16:42:59.173670Z",
     "start_time": "2022-10-28T16:42:59.140559Z"
    }
   },
   "outputs": [],
   "source": [
    "from sklearn.model_selection import train_test_split\n",
    "\n",
    "test_size=0.2\n",
    "x1_train, x1_test, y1_train, y1_test = train_test_split(x, y1, test_size=test_size, random_state=1)\n",
    "x2_train, x2_test, y2_train, y2_test = train_test_split(x, y2, test_size=test_size, random_state=1)"
   ]
  },
  {
   "cell_type": "code",
   "execution_count": 12,
   "id": "e1faa532",
   "metadata": {
    "ExecuteTime": {
     "end_time": "2022-10-28T16:43:05.425078Z",
     "start_time": "2022-10-28T16:42:59.177349Z"
    }
   },
   "outputs": [
    {
     "name": "stdout",
     "output_type": "stream",
     "text": [
      "Fitting 20 folds for each of 15 candidates, totalling 300 fits\n",
      "Fitting 20 folds for each of 15 candidates, totalling 300 fits\n"
     ]
    }
   ],
   "source": [
    "from sklearn.linear_model import LinearRegression\n",
    "from sklearn.model_selection import GridSearchCV\n",
    "\n",
    "folds = 20\n",
    "hyper_params = {'alpha':[0.1, 0.2, 0.5, 0.7, 1], 'l1_ratio':[0.5, 0.25, 0.75]}\n",
    "\n",
    "linear1 = ElasticNet()\n",
    "cv1 = GridSearchCV(estimator = linear1, param_grid = hyper_params, scoring= 'r2', cv = folds, verbose = 1) \n",
    "cv1.fit(x1_train, y1_train)\n",
    "y1_pred = cv1.predict(x1_test)\n",
    "\n",
    "linear2 = ElasticNet()\n",
    "cv2 = GridSearchCV(estimator = linear2, param_grid = hyper_params, scoring= 'r2', cv = folds, verbose = 1) \n",
    "cv2.fit(x2_train, y2_train)\n",
    "y2_pred = cv2.predict(x2_test)"
   ]
  },
  {
   "cell_type": "code",
   "execution_count": 13,
   "id": "d51dd137",
   "metadata": {
    "ExecuteTime": {
     "end_time": "2022-10-28T16:43:05.441260Z",
     "start_time": "2022-10-28T16:43:05.428092Z"
    }
   },
   "outputs": [
    {
     "name": "stdout",
     "output_type": "stream",
     "text": [
      "SiteEnergyUse(kBtu)\n",
      "r2_score :  0.9730967799400357\n",
      "mean_squared_error :  0.02355672546273274\n",
      "mean_absolute_error :  0.07795795729139919\n",
      "\n",
      "TotalGHGEmissions\n",
      "r2_score :  0.9508535658829782\n",
      "mean_squared_error :  0.10414284044325646\n",
      "mean_absolute_error :  0.12424358728562483\n"
     ]
    }
   ],
   "source": [
    "from sklearn.metrics import r2_score, mean_squared_error, mean_absolute_error\n",
    "\n",
    "print('SiteEnergyUse(kBtu)')\n",
    "print('r2_score : ', r2_score(y1_test, y1_pred))\n",
    "print('mean_squared_error : ', mean_squared_error(y1_test, y1_pred))\n",
    "print('mean_absolute_error : ', mean_absolute_error(y1_test, y1_pred))\n",
    "\n",
    "print('\\nTotalGHGEmissions')\n",
    "print('r2_score : ', r2_score(y2_test, y2_pred))\n",
    "print('mean_squared_error : ', mean_squared_error(y2_test, y2_pred))\n",
    "print('mean_absolute_error : ', mean_absolute_error(y2_test, y2_pred))"
   ]
  },
  {
   "cell_type": "markdown",
   "id": "699320a0",
   "metadata": {},
   "source": [
    "Avec la variable ENERGYSTARScore on obtient des performances excellentes, dépassant même les 0.95 sur les scores. \n",
    "\n",
    "Cette feature est indispensable pour faire des prédiction correcte. Cependant sans elle on peut tout de même faire des prédictions pour avoir un ordre de grandeur pour ces deux features en question."
   ]
  },
  {
   "cell_type": "code",
   "execution_count": null,
   "id": "ea7704f3",
   "metadata": {},
   "outputs": [],
   "source": []
  }
 ],
 "metadata": {
  "kernelspec": {
   "display_name": "Python 3 (ipykernel)",
   "language": "python",
   "name": "python3"
  },
  "language_info": {
   "codemirror_mode": {
    "name": "ipython",
    "version": 3
   },
   "file_extension": ".py",
   "mimetype": "text/x-python",
   "name": "python",
   "nbconvert_exporter": "python",
   "pygments_lexer": "ipython3",
   "version": "3.10.6"
  },
  "toc": {
   "base_numbering": 1,
   "nav_menu": {},
   "number_sections": false,
   "sideBar": true,
   "skip_h1_title": false,
   "title_cell": "Table des matières",
   "title_sidebar": "Contents",
   "toc_cell": true,
   "toc_position": {
    "height": "calc(100% - 180px)",
    "left": "10px",
    "top": "150px",
    "width": "184.2px"
   },
   "toc_section_display": true,
   "toc_window_display": true
  }
 },
 "nbformat": 4,
 "nbformat_minor": 5
}
