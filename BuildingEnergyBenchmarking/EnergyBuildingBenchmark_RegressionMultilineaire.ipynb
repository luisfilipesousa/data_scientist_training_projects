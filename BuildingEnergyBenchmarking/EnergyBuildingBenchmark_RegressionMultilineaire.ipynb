{
 "cells": [
  {
   "cell_type": "markdown",
   "id": "b50de000",
   "metadata": {
    "hide_input": true
   },
   "source": [
    "# ***Building Energy Benchmarking : Régression multilinéaire***\n",
    "\n",
    "On va essayer d'entrainer un modèle de régression multilinéaire pour prédire la consomation et la pollution des immeubles via leurs caractéristiques. \n",
    "On entrainera les modèles avec la variable de l'EnergyStarScore et sans cette variable afin de voir si elle est utile pour les prédictions.\n",
    "\n",
    "On cherche donc a obtenir les coéfficients $\\beta_0, \\beta_1, \\cdots, \\beta_n$ tels que la consomation d'une propriété $y$ puisse être calculée à l'aide de ses caractéristiques (numériques) $x_1, \\cdots, x_n $ par :\n",
    "$$ y = \\beta_0 + \\beta_1 x_1 + \\cdots + \\beta_n x_n$$"
   ]
  },
  {
   "cell_type": "markdown",
   "id": "cdfa6082",
   "metadata": {
    "toc": true
   },
   "source": [
    "<h1>Table des matières<span class=\"tocSkip\"></span></h1>\n",
    "<div class=\"toc\"><ul class=\"toc-item\"><li><span><a href=\"#Building-Energy-Benchmarking-:-Régression-multilinéaire\" data-toc-modified-id=\"Building-Energy-Benchmarking-:-Régression-multilinéaire-1\"><strong><em>Building Energy Benchmarking : Régression multilinéaire</em></strong></a></span></li><li><span><a href=\"#Partie-1-:-Préparation-des-données\" data-toc-modified-id=\"Partie-1-:-Préparation-des-données-2\"><strong>Partie 1 : Préparation des données</strong></a></span></li><li><span><a href=\"#Partie-2-:-Régression-sans-ENERGYSTAR-Score\" data-toc-modified-id=\"Partie-2-:-Régression-sans-ENERGYSTAR-Score-3\"><strong>Partie 2 : Régression sans ENERGYSTAR Score</strong></a></span></li><li><span><a href=\"#Partie-3-:-Régression-avec-ENERGYSTARScore\" data-toc-modified-id=\"Partie-3-:-Régression-avec-ENERGYSTARScore-4\"><strong>Partie 3 : Régression avec ENERGYSTARScore</strong></a></span></li></ul></div>"
   ]
  },
  {
   "cell_type": "code",
   "execution_count": 119,
   "id": "b4e60f5d",
   "metadata": {
    "ExecuteTime": {
     "end_time": "2022-10-28T16:21:52.954015Z",
     "start_time": "2022-10-28T16:21:52.939849Z"
    }
   },
   "outputs": [
    {
     "name": "stdout",
     "output_type": "stream",
     "text": [
      "numpy version : 1.23.2\n",
      "matplotlib version : 3.5.3\n",
      "seaborn version : 0.11.2\n",
      "pandas version : 1.4.4\n",
      "scipy version : 1.9.1\n",
      "sklearn version : 1.1.2\n"
     ]
    }
   ],
   "source": [
    "import numpy as np ; print(\"numpy version :\", np.__version__)\n",
    "import pandas as pd ; print(\"pandas version :\",pd.__version__)\n",
    "import sklearn as sk ; print(\"sklearn version :\",sk.__version__)"
   ]
  },
  {
   "cell_type": "markdown",
   "id": "ff6ffd33",
   "metadata": {},
   "source": [
    "# **Partie 1 : Préparation des données**"
   ]
  },
  {
   "cell_type": "code",
   "execution_count": 120,
   "id": "b2e80014",
   "metadata": {
    "ExecuteTime": {
     "end_time": "2022-10-28T16:21:52.991655Z",
     "start_time": "2022-10-28T16:21:52.961366Z"
    }
   },
   "outputs": [
    {
     "data": {
      "text/plain": [
       "BuildingType                        object\n",
       "ZipCode                            float64\n",
       "Age                                  int64\n",
       "NumberofBuildings                  float64\n",
       "NumberofFloors                       int64\n",
       "PropertyGFAParking                   int64\n",
       "PropertyGFABuilding(s)               int64\n",
       "LargestPropertyUseType              object\n",
       "LargestPropertyUseTypeGFA          float64\n",
       "SecondLargestPropertyUseType        object\n",
       "SecondLargestPropertyUseTypeGFA    float64\n",
       "ThirdLargestPropertyUseType         object\n",
       "ThirdLargestPropertyUseTypeGFA     float64\n",
       "ENERGYSTARScore                    float64\n",
       "SiteEnergyUse(kBtu)                float64\n",
       "TotalGHGEmissions                  float64\n",
       "dtype: object"
      ]
     },
     "execution_count": 120,
     "metadata": {},
     "output_type": "execute_result"
    }
   ],
   "source": [
    "df = pd.read_csv(\"2016_Building_Energy_Benchmarking2.csv\", sep=',', index_col=0)\n",
    "df.dtypes"
   ]
  },
  {
   "cell_type": "markdown",
   "id": "492bdb99",
   "metadata": {},
   "source": [
    "Je vais construire un dataframe de sorte à ce que ses features soient les suivantes :\n",
    "*   Les différentes types de bâtiments dans lesquels on renseignera la surface totale du bâtiment (dans la colonne qui lui correspond)\n",
    "*   Le nombre de bâtiments\n",
    "*   Le nombre d'étages\n",
    "*   L'age du bâtiment\n",
    "*   L'aire du parking\n",
    "*   Les différents types d'usage du bâtiment dans lesquels on renseigenra la surface utilisée pour chaque type d'usage\n",
    "*   L'ENERGYSTAR Score\n",
    "*   Le SiteEnergyUse(kBtu)\n",
    "*   TotalGHGEmissions\n",
    "\n",
    "Je met de côté le code postal car il n'y a pas de tedance linéaire sur la position."
   ]
  },
  {
   "cell_type": "code",
   "execution_count": 121,
   "id": "c976c9c1",
   "metadata": {
    "ExecuteTime": {
     "end_time": "2022-10-28T16:21:53.599506Z",
     "start_time": "2022-10-28T16:21:52.997764Z"
    },
    "scrolled": false
   },
   "outputs": [
    {
     "data": {
      "text/html": [
       "<div>\n",
       "<style scoped>\n",
       "    .dataframe tbody tr th:only-of-type {\n",
       "        vertical-align: middle;\n",
       "    }\n",
       "\n",
       "    .dataframe tbody tr th {\n",
       "        vertical-align: top;\n",
       "    }\n",
       "\n",
       "    .dataframe thead th {\n",
       "        text-align: right;\n",
       "    }\n",
       "</style>\n",
       "<table border=\"1\" class=\"dataframe\">\n",
       "  <thead>\n",
       "    <tr style=\"text-align: right;\">\n",
       "      <th></th>\n",
       "      <th>Age</th>\n",
       "      <th>NumberofBuildings</th>\n",
       "      <th>NumberofFloors</th>\n",
       "      <th>PropertyGFAParking</th>\n",
       "      <th>NonResidential</th>\n",
       "      <th>Nonresidential COS</th>\n",
       "      <th>Multifamily MR (5-9)</th>\n",
       "      <th>SPS-District K-12</th>\n",
       "      <th>Campus</th>\n",
       "      <th>Multifamily LR (1-4)</th>\n",
       "      <th>...</th>\n",
       "      <th>Hotel</th>\n",
       "      <th>Courthouse</th>\n",
       "      <th>Strip Mall</th>\n",
       "      <th>Performing Arts</th>\n",
       "      <th>Convenience Store without Gas Station</th>\n",
       "      <th>Bank Branch</th>\n",
       "      <th>Financial Office</th>\n",
       "      <th>ENERGYSTARScore</th>\n",
       "      <th>SiteEnergyUse(kBtu)</th>\n",
       "      <th>TotalGHGEmissions</th>\n",
       "    </tr>\n",
       "  </thead>\n",
       "  <tbody>\n",
       "    <tr>\n",
       "      <th>0</th>\n",
       "      <td>95.0</td>\n",
       "      <td>1.0</td>\n",
       "      <td>12.0</td>\n",
       "      <td>0.0</td>\n",
       "      <td>88434.0</td>\n",
       "      <td>0.0</td>\n",
       "      <td>0.0</td>\n",
       "      <td>0.0</td>\n",
       "      <td>0.0</td>\n",
       "      <td>0.0</td>\n",
       "      <td>...</td>\n",
       "      <td>88434.0</td>\n",
       "      <td>0.0</td>\n",
       "      <td>0.0</td>\n",
       "      <td>0.0</td>\n",
       "      <td>0.0</td>\n",
       "      <td>0.0</td>\n",
       "      <td>0.0</td>\n",
       "      <td>60.0</td>\n",
       "      <td>7226362.5</td>\n",
       "      <td>249.98</td>\n",
       "    </tr>\n",
       "    <tr>\n",
       "      <th>1</th>\n",
       "      <td>26.0</td>\n",
       "      <td>1.0</td>\n",
       "      <td>11.0</td>\n",
       "      <td>15064.0</td>\n",
       "      <td>88502.0</td>\n",
       "      <td>0.0</td>\n",
       "      <td>0.0</td>\n",
       "      <td>0.0</td>\n",
       "      <td>0.0</td>\n",
       "      <td>0.0</td>\n",
       "      <td>...</td>\n",
       "      <td>83880.0</td>\n",
       "      <td>0.0</td>\n",
       "      <td>0.0</td>\n",
       "      <td>0.0</td>\n",
       "      <td>0.0</td>\n",
       "      <td>0.0</td>\n",
       "      <td>0.0</td>\n",
       "      <td>61.0</td>\n",
       "      <td>8387933.0</td>\n",
       "      <td>295.86</td>\n",
       "    </tr>\n",
       "    <tr>\n",
       "      <th>2</th>\n",
       "      <td>53.0</td>\n",
       "      <td>1.0</td>\n",
       "      <td>41.0</td>\n",
       "      <td>196718.0</td>\n",
       "      <td>759392.0</td>\n",
       "      <td>0.0</td>\n",
       "      <td>0.0</td>\n",
       "      <td>0.0</td>\n",
       "      <td>0.0</td>\n",
       "      <td>0.0</td>\n",
       "      <td>...</td>\n",
       "      <td>756493.0</td>\n",
       "      <td>0.0</td>\n",
       "      <td>0.0</td>\n",
       "      <td>0.0</td>\n",
       "      <td>0.0</td>\n",
       "      <td>0.0</td>\n",
       "      <td>0.0</td>\n",
       "      <td>43.0</td>\n",
       "      <td>72587024.0</td>\n",
       "      <td>2089.28</td>\n",
       "    </tr>\n",
       "    <tr>\n",
       "      <th>3</th>\n",
       "      <td>96.0</td>\n",
       "      <td>1.0</td>\n",
       "      <td>10.0</td>\n",
       "      <td>0.0</td>\n",
       "      <td>61320.0</td>\n",
       "      <td>0.0</td>\n",
       "      <td>0.0</td>\n",
       "      <td>0.0</td>\n",
       "      <td>0.0</td>\n",
       "      <td>0.0</td>\n",
       "      <td>...</td>\n",
       "      <td>61320.0</td>\n",
       "      <td>0.0</td>\n",
       "      <td>0.0</td>\n",
       "      <td>0.0</td>\n",
       "      <td>0.0</td>\n",
       "      <td>0.0</td>\n",
       "      <td>0.0</td>\n",
       "      <td>56.0</td>\n",
       "      <td>6794584.0</td>\n",
       "      <td>286.43</td>\n",
       "    </tr>\n",
       "    <tr>\n",
       "      <th>4</th>\n",
       "      <td>42.0</td>\n",
       "      <td>1.0</td>\n",
       "      <td>18.0</td>\n",
       "      <td>62000.0</td>\n",
       "      <td>113580.0</td>\n",
       "      <td>0.0</td>\n",
       "      <td>0.0</td>\n",
       "      <td>0.0</td>\n",
       "      <td>0.0</td>\n",
       "      <td>0.0</td>\n",
       "      <td>...</td>\n",
       "      <td>123445.0</td>\n",
       "      <td>0.0</td>\n",
       "      <td>0.0</td>\n",
       "      <td>0.0</td>\n",
       "      <td>0.0</td>\n",
       "      <td>0.0</td>\n",
       "      <td>0.0</td>\n",
       "      <td>75.0</td>\n",
       "      <td>14172606.0</td>\n",
       "      <td>505.01</td>\n",
       "    </tr>\n",
       "  </tbody>\n",
       "</table>\n",
       "<p>5 rows × 79 columns</p>\n",
       "</div>"
      ],
      "text/plain": [
       "    Age  NumberofBuildings  NumberofFloors  PropertyGFAParking  \\\n",
       "0  95.0                1.0            12.0                 0.0   \n",
       "1  26.0                1.0            11.0             15064.0   \n",
       "2  53.0                1.0            41.0            196718.0   \n",
       "3  96.0                1.0            10.0                 0.0   \n",
       "4  42.0                1.0            18.0             62000.0   \n",
       "\n",
       "   NonResidential  Nonresidential COS  Multifamily MR (5-9)  \\\n",
       "0         88434.0                 0.0                   0.0   \n",
       "1         88502.0                 0.0                   0.0   \n",
       "2        759392.0                 0.0                   0.0   \n",
       "3         61320.0                 0.0                   0.0   \n",
       "4        113580.0                 0.0                   0.0   \n",
       "\n",
       "   SPS-District K-12  Campus  Multifamily LR (1-4)  ...     Hotel  Courthouse  \\\n",
       "0                0.0     0.0                   0.0  ...   88434.0         0.0   \n",
       "1                0.0     0.0                   0.0  ...   83880.0         0.0   \n",
       "2                0.0     0.0                   0.0  ...  756493.0         0.0   \n",
       "3                0.0     0.0                   0.0  ...   61320.0         0.0   \n",
       "4                0.0     0.0                   0.0  ...  123445.0         0.0   \n",
       "\n",
       "   Strip Mall  Performing Arts  Convenience Store without Gas Station  \\\n",
       "0         0.0              0.0                                    0.0   \n",
       "1         0.0              0.0                                    0.0   \n",
       "2         0.0              0.0                                    0.0   \n",
       "3         0.0              0.0                                    0.0   \n",
       "4         0.0              0.0                                    0.0   \n",
       "\n",
       "   Bank Branch  Financial Office  ENERGYSTARScore  SiteEnergyUse(kBtu)  \\\n",
       "0          0.0               0.0             60.0            7226362.5   \n",
       "1          0.0               0.0             61.0            8387933.0   \n",
       "2          0.0               0.0             43.0           72587024.0   \n",
       "3          0.0               0.0             56.0            6794584.0   \n",
       "4          0.0               0.0             75.0           14172606.0   \n",
       "\n",
       "   TotalGHGEmissions  \n",
       "0             249.98  \n",
       "1             295.86  \n",
       "2            2089.28  \n",
       "3             286.43  \n",
       "4             505.01  \n",
       "\n",
       "[5 rows x 79 columns]"
      ]
     },
     "execution_count": 121,
     "metadata": {},
     "output_type": "execute_result"
    }
   ],
   "source": [
    "#liste des features\n",
    "features = ['Age', 'NumberofBuildings', 'NumberofFloors', 'PropertyGFAParking']\n",
    "features += df['BuildingType'].unique().tolist()\n",
    "uses = [x for x in df['LargestPropertyUseType'].unique().tolist() if not(pd.isnull(x))==True]\n",
    "uses += [x for x in df['SecondLargestPropertyUseType'].unique().tolist() if not(pd.isnull(x))==True]\n",
    "uses += [x for x in df['ThirdLargestPropertyUseType'].unique().tolist() if not(pd.isnull(x))==True]\n",
    "uses = set(uses)\n",
    "features += uses\n",
    "features += ['ENERGYSTARScore', 'SiteEnergyUse(kBtu)', 'TotalGHGEmissions']\n",
    "\n",
    "# création du data frame avec les features\n",
    "data = pd.DataFrame(columns=features)\n",
    "\n",
    "# copie des colonnes identiques \n",
    "data['Age'] = df['Age']\n",
    "data['NumberofBuildings'] = df['NumberofBuildings']\n",
    "data['NumberofFloors'] = df['NumberofFloors']\n",
    "data['PropertyGFAParking'] = df['PropertyGFAParking']\n",
    "data['ENERGYSTARScore'] = df['ENERGYSTARScore']\n",
    "data['SiteEnergyUse(kBtu)'] = df['SiteEnergyUse(kBtu)']\n",
    "data['TotalGHGEmissions'] = df['TotalGHGEmissions']\n",
    "\n",
    "# surfaces total du bâtiment en fonction de leur type\n",
    "for btype in data.columns[4:12]:\n",
    "    idx = df.loc[df['BuildingType']==btype].index\n",
    "    data.loc[idx, btype] = df.iloc[idx]['PropertyGFABuilding(s)']\n",
    "\n",
    "# surfaces utilisées en fonction de l'usage\n",
    "for use in data.columns[12:-3]:\n",
    "    idx = df.loc[df['LargestPropertyUseType']==use].index\n",
    "    data.loc[idx, use] = df.iloc[idx]['LargestPropertyUseTypeGFA']\n",
    "for use in data.columns[12:-3]:\n",
    "    idx = df.loc[df['SecondLargestPropertyUseType']==use].index\n",
    "    data.loc[idx, use] = df.iloc[idx]['SecondLargestPropertyUseTypeGFA']\n",
    "for use in data.columns[12:-3]:\n",
    "    idx = df.loc[df['ThirdLargestPropertyUseType']==use].index\n",
    "    data.loc[idx, use] = df.iloc[idx]['ThirdLargestPropertyUseTypeGFA']\n",
    "\n",
    "# remplissage des nan par 0 pour les nan sur les sur colonnes de surfaces\n",
    "data[data.columns[4:-3]] = data[data.columns[4:-3]].fillna(0)\n",
    "\n",
    "# remplissage des nan par 1 sur NumberofBuildings\n",
    "data['NumberofBuildings'] = data['NumberofBuildings'].fillna(1)\n",
    "\n",
    "# convertion du data type des colonnes en float\n",
    "data = data.astype(float)\n",
    "\n",
    "data.head()"
   ]
  },
  {
   "cell_type": "markdown",
   "id": "ba58f6cf",
   "metadata": {},
   "source": [
    "On remplira les NaN sur les valeurs à prédire par leur médiane (la régréssion ne gère pas les NaN sur l'entrainement).\n",
    "On appliquera dans un premier temps un recentrage des données pour mieux interpréter l'ordonnée à l'origine $\\beta_0 $ : elle correspondra ainsi à ce que l'on obtiendrai pour une propriété qui aurait la moyenne sur chaque feature.\n",
    "Puis on normalise les données à l'aide de l'écart-type."
   ]
  },
  {
   "cell_type": "code",
   "execution_count": 122,
   "id": "925da4fe",
   "metadata": {
    "ExecuteTime": {
     "end_time": "2022-10-28T16:21:53.679629Z",
     "start_time": "2022-10-28T16:21:53.604193Z"
    }
   },
   "outputs": [],
   "source": [
    "# recentrage des données autour de la moyenne\n",
    "from sklearn.preprocessing import StandardScaler\n",
    "std = StandardScaler()\n",
    "data[data.columns]= std.fit_transform(data[data.columns])\n",
    "\n",
    "# NaN des features à prédire\n",
    "data['SiteEnergyUse(kBtu)'] = data['SiteEnergyUse(kBtu)'].fillna(data['SiteEnergyUse(kBtu)'].median())\n",
    "data['TotalGHGEmissions'] = data['TotalGHGEmissions'].fillna(data['TotalGHGEmissions'].median())"
   ]
  },
  {
   "cell_type": "markdown",
   "id": "6a116c2e",
   "metadata": {},
   "source": [
    "Dans la suite on implémente une régression multilinéaire pour chacun des deux cas. Pour cela on séparera les données en un set d'entrainement et un set de test. On utilisera le R2 Score, le Mean Square Error et le Mean Absolute Error pour mesurer l'efficacité de la régression. On entrainera la régression à l'aide d'une validation croisée afin d'affiner les paramètres et eviter l'overfitting sur les données."
   ]
  },
  {
   "cell_type": "code",
   "execution_count": 123,
   "id": "3340a569",
   "metadata": {
    "ExecuteTime": {
     "end_time": "2022-10-28T16:21:53.716353Z",
     "start_time": "2022-10-28T16:21:53.682650Z"
    }
   },
   "outputs": [
    {
     "data": {
      "text/html": [
       "<div>\n",
       "<style scoped>\n",
       "    .dataframe tbody tr th:only-of-type {\n",
       "        vertical-align: middle;\n",
       "    }\n",
       "\n",
       "    .dataframe tbody tr th {\n",
       "        vertical-align: top;\n",
       "    }\n",
       "\n",
       "    .dataframe thead th {\n",
       "        text-align: right;\n",
       "    }\n",
       "</style>\n",
       "<table border=\"1\" class=\"dataframe\">\n",
       "  <thead>\n",
       "    <tr style=\"text-align: right;\">\n",
       "      <th></th>\n",
       "      <th>Age</th>\n",
       "      <th>NumberofBuildings</th>\n",
       "      <th>NumberofFloors</th>\n",
       "      <th>PropertyGFAParking</th>\n",
       "      <th>NonResidential</th>\n",
       "      <th>Nonresidential COS</th>\n",
       "      <th>Multifamily MR (5-9)</th>\n",
       "      <th>SPS-District K-12</th>\n",
       "      <th>Campus</th>\n",
       "      <th>Multifamily LR (1-4)</th>\n",
       "      <th>...</th>\n",
       "      <th>Hotel</th>\n",
       "      <th>Courthouse</th>\n",
       "      <th>Strip Mall</th>\n",
       "      <th>Performing Arts</th>\n",
       "      <th>Convenience Store without Gas Station</th>\n",
       "      <th>Bank Branch</th>\n",
       "      <th>Financial Office</th>\n",
       "      <th>ENERGYSTARScore</th>\n",
       "      <th>SiteEnergyUse(kBtu)</th>\n",
       "      <th>TotalGHGEmissions</th>\n",
       "    </tr>\n",
       "  </thead>\n",
       "  <tbody>\n",
       "    <tr>\n",
       "      <th>0</th>\n",
       "      <td>1.256623</td>\n",
       "      <td>-0.050644</td>\n",
       "      <td>1.327146</td>\n",
       "      <td>-0.247557</td>\n",
       "      <td>0.376788</td>\n",
       "      <td>-0.075493</td>\n",
       "      <td>-0.325671</td>\n",
       "      <td>-0.135227</td>\n",
       "      <td>-0.028876</td>\n",
       "      <td>-0.480681</td>\n",
       "      <td>...</td>\n",
       "      <td>2.630990</td>\n",
       "      <td>-0.019519</td>\n",
       "      <td>-0.037163</td>\n",
       "      <td>-0.036723</td>\n",
       "      <td>-0.024022</td>\n",
       "      <td>-0.059479</td>\n",
       "      <td>-0.030855</td>\n",
       "      <td>-0.294725</td>\n",
       "      <td>0.084355</td>\n",
       "      <td>0.241774</td>\n",
       "    </tr>\n",
       "    <tr>\n",
       "      <th>1</th>\n",
       "      <td>-0.829025</td>\n",
       "      <td>-0.050644</td>\n",
       "      <td>1.145118</td>\n",
       "      <td>0.218504</td>\n",
       "      <td>0.377348</td>\n",
       "      <td>-0.075493</td>\n",
       "      <td>-0.325671</td>\n",
       "      <td>-0.135227</td>\n",
       "      <td>-0.028876</td>\n",
       "      <td>-0.480681</td>\n",
       "      <td>...</td>\n",
       "      <td>2.490284</td>\n",
       "      <td>-0.019519</td>\n",
       "      <td>-0.037163</td>\n",
       "      <td>-0.036723</td>\n",
       "      <td>-0.024022</td>\n",
       "      <td>-0.059479</td>\n",
       "      <td>-0.030855</td>\n",
       "      <td>-0.257506</td>\n",
       "      <td>0.138113</td>\n",
       "      <td>0.326933</td>\n",
       "    </tr>\n",
       "    <tr>\n",
       "      <th>2</th>\n",
       "      <td>-0.012902</td>\n",
       "      <td>-0.050644</td>\n",
       "      <td>6.605967</td>\n",
       "      <td>5.838650</td>\n",
       "      <td>5.906975</td>\n",
       "      <td>-0.075493</td>\n",
       "      <td>-0.325671</td>\n",
       "      <td>-0.135227</td>\n",
       "      <td>-0.028876</td>\n",
       "      <td>-0.480681</td>\n",
       "      <td>...</td>\n",
       "      <td>23.272252</td>\n",
       "      <td>-0.019519</td>\n",
       "      <td>-0.037163</td>\n",
       "      <td>-0.036723</td>\n",
       "      <td>-0.024022</td>\n",
       "      <td>-0.059479</td>\n",
       "      <td>-0.030855</td>\n",
       "      <td>-0.927449</td>\n",
       "      <td>3.109272</td>\n",
       "      <td>3.655773</td>\n",
       "    </tr>\n",
       "    <tr>\n",
       "      <th>3</th>\n",
       "      <td>1.286849</td>\n",
       "      <td>-0.050644</td>\n",
       "      <td>0.963089</td>\n",
       "      <td>-0.247557</td>\n",
       "      <td>0.153308</td>\n",
       "      <td>-0.075493</td>\n",
       "      <td>-0.325671</td>\n",
       "      <td>-0.135227</td>\n",
       "      <td>-0.028876</td>\n",
       "      <td>-0.480681</td>\n",
       "      <td>...</td>\n",
       "      <td>1.793239</td>\n",
       "      <td>-0.019519</td>\n",
       "      <td>-0.037163</td>\n",
       "      <td>-0.036723</td>\n",
       "      <td>-0.024022</td>\n",
       "      <td>-0.059479</td>\n",
       "      <td>-0.030855</td>\n",
       "      <td>-0.443602</td>\n",
       "      <td>0.064372</td>\n",
       "      <td>0.309430</td>\n",
       "    </tr>\n",
       "    <tr>\n",
       "      <th>4</th>\n",
       "      <td>-0.345396</td>\n",
       "      <td>-0.050644</td>\n",
       "      <td>2.419316</td>\n",
       "      <td>1.670645</td>\n",
       "      <td>0.584047</td>\n",
       "      <td>-0.075493</td>\n",
       "      <td>-0.325671</td>\n",
       "      <td>-0.135227</td>\n",
       "      <td>-0.028876</td>\n",
       "      <td>-0.480681</td>\n",
       "      <td>...</td>\n",
       "      <td>3.712738</td>\n",
       "      <td>-0.019519</td>\n",
       "      <td>-0.037163</td>\n",
       "      <td>-0.036723</td>\n",
       "      <td>-0.024022</td>\n",
       "      <td>-0.059479</td>\n",
       "      <td>-0.030855</td>\n",
       "      <td>0.263560</td>\n",
       "      <td>0.405830</td>\n",
       "      <td>0.715145</td>\n",
       "    </tr>\n",
       "  </tbody>\n",
       "</table>\n",
       "<p>5 rows × 79 columns</p>\n",
       "</div>"
      ],
      "text/plain": [
       "        Age  NumberofBuildings  NumberofFloors  PropertyGFAParking  \\\n",
       "0  1.256623          -0.050644        1.327146           -0.247557   \n",
       "1 -0.829025          -0.050644        1.145118            0.218504   \n",
       "2 -0.012902          -0.050644        6.605967            5.838650   \n",
       "3  1.286849          -0.050644        0.963089           -0.247557   \n",
       "4 -0.345396          -0.050644        2.419316            1.670645   \n",
       "\n",
       "   NonResidential  Nonresidential COS  Multifamily MR (5-9)  \\\n",
       "0        0.376788           -0.075493             -0.325671   \n",
       "1        0.377348           -0.075493             -0.325671   \n",
       "2        5.906975           -0.075493             -0.325671   \n",
       "3        0.153308           -0.075493             -0.325671   \n",
       "4        0.584047           -0.075493             -0.325671   \n",
       "\n",
       "   SPS-District K-12    Campus  Multifamily LR (1-4)  ...      Hotel  \\\n",
       "0          -0.135227 -0.028876             -0.480681  ...   2.630990   \n",
       "1          -0.135227 -0.028876             -0.480681  ...   2.490284   \n",
       "2          -0.135227 -0.028876             -0.480681  ...  23.272252   \n",
       "3          -0.135227 -0.028876             -0.480681  ...   1.793239   \n",
       "4          -0.135227 -0.028876             -0.480681  ...   3.712738   \n",
       "\n",
       "   Courthouse  Strip Mall  Performing Arts  \\\n",
       "0   -0.019519   -0.037163        -0.036723   \n",
       "1   -0.019519   -0.037163        -0.036723   \n",
       "2   -0.019519   -0.037163        -0.036723   \n",
       "3   -0.019519   -0.037163        -0.036723   \n",
       "4   -0.019519   -0.037163        -0.036723   \n",
       "\n",
       "   Convenience Store without Gas Station  Bank Branch  Financial Office  \\\n",
       "0                              -0.024022    -0.059479         -0.030855   \n",
       "1                              -0.024022    -0.059479         -0.030855   \n",
       "2                              -0.024022    -0.059479         -0.030855   \n",
       "3                              -0.024022    -0.059479         -0.030855   \n",
       "4                              -0.024022    -0.059479         -0.030855   \n",
       "\n",
       "   ENERGYSTARScore  SiteEnergyUse(kBtu)  TotalGHGEmissions  \n",
       "0        -0.294725             0.084355           0.241774  \n",
       "1        -0.257506             0.138113           0.326933  \n",
       "2        -0.927449             3.109272           3.655773  \n",
       "3        -0.443602             0.064372           0.309430  \n",
       "4         0.263560             0.405830           0.715145  \n",
       "\n",
       "[5 rows x 79 columns]"
      ]
     },
     "execution_count": 123,
     "metadata": {},
     "output_type": "execute_result"
    }
   ],
   "source": [
    "data.head()"
   ]
  },
  {
   "cell_type": "markdown",
   "id": "b06a7268",
   "metadata": {},
   "source": [
    "# **Partie 2 : Régression sans ENERGYSTAR Score**"
   ]
  },
  {
   "cell_type": "markdown",
   "id": "7c0b83c1",
   "metadata": {},
   "source": [
    "On sélectionne les données à prédire et les données. "
   ]
  },
  {
   "cell_type": "code",
   "execution_count": 124,
   "id": "ddf5a0fe",
   "metadata": {
    "ExecuteTime": {
     "end_time": "2022-10-28T16:21:53.731830Z",
     "start_time": "2022-10-28T16:21:53.719968Z"
    }
   },
   "outputs": [],
   "source": [
    "x=data.iloc[:,:-3]\n",
    "y1 = data['SiteEnergyUse(kBtu)']\n",
    "y2 = data['TotalGHGEmissions']"
   ]
  },
  {
   "cell_type": "markdown",
   "id": "abb4b56b",
   "metadata": {},
   "source": [
    "On sépare les données en un set d'entrainement et un set de test."
   ]
  },
  {
   "cell_type": "code",
   "execution_count": 125,
   "id": "90f89847",
   "metadata": {
    "ExecuteTime": {
     "end_time": "2022-10-28T16:21:53.757098Z",
     "start_time": "2022-10-28T16:21:53.735559Z"
    }
   },
   "outputs": [],
   "source": [
    "from sklearn.model_selection import train_test_split\n",
    "\n",
    "test_size=0.2\n",
    "x1_train, x1_test, y1_train, y1_test = train_test_split(x, y1, test_size=test_size, random_state=2)\n",
    "x2_train, x2_test, y2_train, y2_test = train_test_split(x, y2, test_size=test_size, random_state=2)"
   ]
  },
  {
   "cell_type": "markdown",
   "id": "7bca0bd7",
   "metadata": {},
   "source": [
    "On entraine les deux modèles pour les deux variables à prédire à l'aide d'une validation croisée. "
   ]
  },
  {
   "cell_type": "code",
   "execution_count": 126,
   "id": "f4d0d8f8",
   "metadata": {
    "ExecuteTime": {
     "end_time": "2022-10-28T16:21:55.734886Z",
     "start_time": "2022-10-28T16:21:53.760941Z"
    }
   },
   "outputs": [
    {
     "name": "stdout",
     "output_type": "stream",
     "text": [
      "Fitting 20 folds for each of 1 candidates, totalling 20 fits\n",
      "Fitting 20 folds for each of 1 candidates, totalling 20 fits\n"
     ]
    }
   ],
   "source": [
    "from sklearn.linear_model import LinearRegression\n",
    "from sklearn.model_selection import GridSearchCV\n",
    "\n",
    "folds = 20\n",
    "hyper_params = {}\n",
    "\n",
    "linear1 = LinearRegression()\n",
    "cv1 = GridSearchCV(estimator = linear1, param_grid = hyper_params, scoring= 'r2', cv = folds, verbose = 1) \n",
    "cv1.fit(x1_train, y1_train)\n",
    "y1_pred = cv1.predict(x1_test)\n",
    "\n",
    "linear2 = LinearRegression()\n",
    "cv2 = GridSearchCV(estimator = linear2, param_grid = hyper_params, scoring= 'r2', cv = folds, verbose = 1) \n",
    "cv2.fit(x2_train, y2_train)\n",
    "y2_pred = cv2.predict(x2_test)"
   ]
  },
  {
   "cell_type": "markdown",
   "id": "019d081f",
   "metadata": {},
   "source": [
    "On affiche les résultats obtenus par les algorithmes sur le data set de test. "
   ]
  },
  {
   "cell_type": "code",
   "execution_count": 128,
   "id": "86cb026a",
   "metadata": {
    "ExecuteTime": {
     "end_time": "2022-10-28T16:21:55.806033Z",
     "start_time": "2022-10-28T16:21:55.775883Z"
    }
   },
   "outputs": [
    {
     "name": "stdout",
     "output_type": "stream",
     "text": [
      "SiteEnergyUse(kBtu)\n",
      "r2_score :  0.6979357132869346\n",
      "mean_squared_error :  0.07306042969942787\n",
      "mean_absolute_error :  0.09847256278842961\n",
      "\n",
      "TotalGHGEmissions\n",
      "r2_score :  0.5291661328191066\n",
      "mean_squared_error :  0.16957096589022075\n",
      "mean_absolute_error :  0.1598221413965945\n"
     ]
    }
   ],
   "source": [
    "from sklearn.metrics import r2_score, mean_squared_error, mean_absolute_error\n",
    "\n",
    "print('SiteEnergyUse(kBtu)')\n",
    "print('r2_score : ', r2_score(y1_test, y1_pred))\n",
    "print('mean_squared_error : ', mean_squared_error(y1_test, y1_pred))\n",
    "print('mean_absolute_error : ', mean_absolute_error(y1_test, y1_pred))\n",
    "\n",
    "print('\\nTotalGHGEmissions')\n",
    "print('r2_score : ', r2_score(y2_test, y2_pred))\n",
    "print('mean_squared_error : ', mean_squared_error(y2_test, y2_pred))\n",
    "print('mean_absolute_error : ', mean_absolute_error(y2_test, y2_pred))"
   ]
  },
  {
   "cell_type": "markdown",
   "id": "989ba698",
   "metadata": {},
   "source": [
    "On remarque que l'algorithme n'explique pas 30% de la variance du problème, donnant donc des résultats aproximatifs."
   ]
  },
  {
   "cell_type": "markdown",
   "id": "1faa2558",
   "metadata": {
    "ExecuteTime": {
     "end_time": "2022-10-28T13:13:06.776204Z",
     "start_time": "2022-10-28T13:13:06.776184Z"
    }
   },
   "source": [
    "# **Partie 3 : Régression avec ENERGYSTARScore**"
   ]
  },
  {
   "cell_type": "markdown",
   "id": "48faed4e",
   "metadata": {},
   "source": [
    "On refait les mêmes manipulations que la partie précédente avec la feature ENERGYSTARScore en plus."
   ]
  },
  {
   "cell_type": "code",
   "execution_count": 129,
   "id": "89fe4d68",
   "metadata": {
    "ExecuteTime": {
     "end_time": "2022-10-28T16:21:55.857649Z",
     "start_time": "2022-10-28T16:21:55.810911Z"
    }
   },
   "outputs": [],
   "source": [
    "x=data.dropna(subset='ENERGYSTARScore')\n",
    "y1 = x['SiteEnergyUse(kBtu)']\n",
    "y2 = x['TotalGHGEmissions']\n",
    "x=x.iloc[:,:-2]"
   ]
  },
  {
   "cell_type": "code",
   "execution_count": 130,
   "id": "2cb98141",
   "metadata": {
    "ExecuteTime": {
     "end_time": "2022-10-28T16:21:55.880026Z",
     "start_time": "2022-10-28T16:21:55.864124Z"
    }
   },
   "outputs": [],
   "source": [
    "from sklearn.model_selection import train_test_split\n",
    "\n",
    "test_size=0.2\n",
    "x1_train, x1_test, y1_train, y1_test = train_test_split(x, y1, test_size=test_size, random_state=1)\n",
    "x2_train, x2_test, y2_train, y2_test = train_test_split(x, y2, test_size=test_size, random_state=1)"
   ]
  },
  {
   "cell_type": "code",
   "execution_count": 131,
   "id": "e1faa532",
   "metadata": {
    "ExecuteTime": {
     "end_time": "2022-10-28T16:21:56.763254Z",
     "start_time": "2022-10-28T16:21:55.883705Z"
    }
   },
   "outputs": [
    {
     "name": "stdout",
     "output_type": "stream",
     "text": [
      "Fitting 20 folds for each of 1 candidates, totalling 20 fits\n",
      "Fitting 20 folds for each of 1 candidates, totalling 20 fits\n"
     ]
    }
   ],
   "source": [
    "from sklearn.linear_model import LinearRegression\n",
    "from sklearn.model_selection import GridSearchCV\n",
    "\n",
    "folds = 20\n",
    "hyper_params = {}\n",
    "\n",
    "linear1 = LinearRegression()\n",
    "cv1 = GridSearchCV(estimator = linear1, param_grid = hyper_params, scoring= 'r2', cv = folds, verbose = 1) \n",
    "cv1.fit(x1_train, y1_train)\n",
    "y1_pred = cv1.predict(x1_test)\n",
    "\n",
    "linear2 = LinearRegression()\n",
    "cv2 = GridSearchCV(estimator = linear2, param_grid = hyper_params, scoring= 'r2', cv = folds, verbose = 1) \n",
    "cv2.fit(x2_train, y2_train)\n",
    "y2_pred = cv2.predict(x2_test)"
   ]
  },
  {
   "cell_type": "code",
   "execution_count": 133,
   "id": "d51dd137",
   "metadata": {
    "ExecuteTime": {
     "end_time": "2022-10-28T16:21:56.823361Z",
     "start_time": "2022-10-28T16:21:56.790046Z"
    }
   },
   "outputs": [
    {
     "name": "stdout",
     "output_type": "stream",
     "text": [
      "SiteEnergyUse(kBtu)\n",
      "r2_score :  0.8608084181065075\n",
      "mean_squared_error :  0.12187752522115161\n",
      "mean_absolute_error :  0.08288087823232863\n",
      "\n",
      "TotalGHGEmissions\n",
      "r2_score :  0.9663684823155643\n",
      "mean_squared_error :  0.07126624429628092\n",
      "mean_absolute_error :  0.10785377124752653\n"
     ]
    }
   ],
   "source": [
    "from sklearn.metrics import r2_score, mean_squared_error, mean_absolute_error\n",
    "\n",
    "print('SiteEnergyUse(kBtu)')\n",
    "print('r2_score : ', r2_score(y1_test, y1_pred))\n",
    "print('mean_squared_error : ', mean_squared_error(y1_test, y1_pred))\n",
    "print('mean_absolute_error : ', mean_absolute_error(y1_test, y1_pred))\n",
    "\n",
    "print('\\nTotalGHGEmissions')\n",
    "print('r2_score : ', r2_score(y2_test, y2_pred))\n",
    "print('mean_squared_error : ', mean_squared_error(y2_test, y2_pred))\n",
    "print('mean_absolute_error : ', mean_absolute_error(y2_test, y2_pred))"
   ]
  },
  {
   "cell_type": "markdown",
   "id": "699320a0",
   "metadata": {},
   "source": [
    "Avec la variable ENERGYSTARScore on obtient des performances très bonnes, dépassant même les 0.95 pour les emissions de polluants. \n",
    "\n",
    "Cette feature n'est pas écartable pour un modèle de régression multilinéaire."
   ]
  }
 ],
 "metadata": {
  "kernelspec": {
   "display_name": "Python 3 (ipykernel)",
   "language": "python",
   "name": "python3"
  },
  "language_info": {
   "codemirror_mode": {
    "name": "ipython",
    "version": 3
   },
   "file_extension": ".py",
   "mimetype": "text/x-python",
   "name": "python",
   "nbconvert_exporter": "python",
   "pygments_lexer": "ipython3",
   "version": "3.10.6"
  },
  "toc": {
   "base_numbering": 1,
   "nav_menu": {},
   "number_sections": false,
   "sideBar": true,
   "skip_h1_title": false,
   "title_cell": "Table des matières",
   "title_sidebar": "Contents",
   "toc_cell": true,
   "toc_position": {
    "height": "calc(100% - 180px)",
    "left": "10px",
    "top": "150px",
    "width": "184.2px"
   },
   "toc_section_display": true,
   "toc_window_display": true
  }
 },
 "nbformat": 4,
 "nbformat_minor": 5
}
